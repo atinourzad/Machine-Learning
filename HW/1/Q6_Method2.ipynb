{
 "cells": [
  {
   "cell_type": "markdown",
   "metadata": {},
   "source": [
    "#### Importing Necessary Libraries"
   ]
  },
  {
   "cell_type": "code",
   "execution_count": 1,
   "metadata": {},
   "outputs": [],
   "source": [
    "import matplotlib.image as mpImg \n",
    "import matplotlib.pyplot as plt\n",
    "import os\n",
    "import numpy as np\n",
    "\n",
    "from sklearn.model_selection import train_test_split as trainTestSplit\n",
    "from sklearn.naive_bayes import GaussianNB\n",
    "from sklearn.neighbors import KNeighborsClassifier\n",
    "from sklearn import metrics\n",
    "\n",
    "from tabulate import tabulate"
   ]
  },
  {
   "cell_type": "markdown",
   "metadata": {},
   "source": [
    "#### Defining Constants"
   ]
  },
  {
   "cell_type": "code",
   "execution_count": 2,
   "metadata": {},
   "outputs": [],
   "source": [
    "ManU = 0\n",
    "Chelsea = 1"
   ]
  },
  {
   "cell_type": "markdown",
   "metadata": {},
   "source": [
    "#### Reading the Image"
   ]
  },
  {
   "cell_type": "code",
   "execution_count": 3,
   "metadata": {},
   "outputs": [],
   "source": [
    "def loadImgFromFolder(folderPath):\n",
    "    images = []\n",
    "    imagesName = []\n",
    "    \n",
    "    for fileName in os.listdir(folderPath):\n",
    "        img = mpImg.imread(os.path.join(folderPath, fileName))\n",
    "        if img is not None:\n",
    "            images.append(img)\n",
    "            imagesName.append(fileName.replace('.jpg', ''))\n",
    "            \n",
    "    return images, imagesName"
   ]
  },
  {
   "cell_type": "markdown",
   "metadata": {},
   "source": [
    "#### Averaging RGB"
   ]
  },
  {
   "cell_type": "code",
   "execution_count": 4,
   "metadata": {},
   "outputs": [],
   "source": [
    "def calcAvgRGB(images):\n",
    "    numImages = len(images)\n",
    "    avgRGB = np.zeros([numImages,3])\n",
    "    \n",
    "    for i in range(0,numImages):\n",
    "        avgRGB[i,:] = np.average(np.average(images[i], axis=0), axis=0)\n",
    "        \n",
    "    return avgRGB"
   ]
  },
  {
   "cell_type": "markdown",
   "metadata": {},
   "source": [
    "#### Finding Labels"
   ]
  },
  {
   "cell_type": "code",
   "execution_count": 5,
   "metadata": {},
   "outputs": [],
   "source": [
    "def findLabels(imageNames):\n",
    "    numImageNames = len(imageNames)\n",
    "    labels = np.zeros(numImageNames)\n",
    "    \n",
    "    for i in range(0, numImageNames):\n",
    "        if imageNames[i][0] == 'c' or imagesNames[i] == 'index':\n",
    "            labels[i] = Chelsea \n",
    "    return labels"
   ]
  },
  {
   "cell_type": "markdown",
   "metadata": {},
   "source": [
    "#### َGaussian Naive Bayes Classifier"
   ]
  },
  {
   "cell_type": "code",
   "execution_count": 6,
   "metadata": {},
   "outputs": [],
   "source": [
    "def predWithGNBC(trainData, trainLabel, testData):\n",
    "    myClsf = GaussianNB()\n",
    "    myClsf.fit(trainData, trainLabel.ravel())\n",
    "    return myClsf.predict(testData), myClsf"
   ]
  },
  {
   "cell_type": "markdown",
   "metadata": {},
   "source": [
    "#### KNN Classifier "
   ]
  },
  {
   "cell_type": "code",
   "execution_count": 7,
   "metadata": {},
   "outputs": [],
   "source": [
    "def predWithKNN(k, trainData, trainLabel, testData):\n",
    "    myClsf = KNeighborsClassifier(k) \n",
    "    myClsf.fit(trainData, trainLabel.ravel())\n",
    "    return myClsf.predict(testData), myClsf"
   ]
  },
  {
   "cell_type": "markdown",
   "metadata": {},
   "source": [
    "#### Plot Confusion Matrix "
   ]
  },
  {
   "cell_type": "code",
   "execution_count": 15,
   "metadata": {},
   "outputs": [],
   "source": [
    "def plotConfsMat(estimator, testData, testLabel):\n",
    "    metrics.plot_confusion_matrix(estimator, testData, testLabel, \n",
    "                                  display_labels=['ManU','Chelsea'], cmap=plt.cm.Purples)\n",
    "    plt.title('Confusion Matrix')\n",
    "    plt.show()"
   ]
  },
  {
   "cell_type": "markdown",
   "metadata": {},
   "source": [
    "#### Confidence Matrix"
   ]
  },
  {
   "cell_type": "code",
   "execution_count": 14,
   "metadata": {},
   "outputs": [],
   "source": [
    "def plotConfMat(estimator, testData, testLabel):\n",
    "    metrics.plot_confusion_matrix(estimator, testData, testLabel, normalize='pred', \n",
    "                                  display_labels=['ManU','Chelsea'], cmap=plt.cm.Purples)\n",
    "    plt.title('Confidence Matrix')\n",
    "    plt.show() "
   ]
  },
  {
   "cell_type": "markdown",
   "metadata": {},
   "source": [
    "#### Plot Table Beautifully"
   ]
  },
  {
   "cell_type": "code",
   "execution_count": 10,
   "metadata": {},
   "outputs": [],
   "source": [
    "def plotTable(clmData1, clmData2, clmData3, clmDataHeadears):\n",
    "    data = []\n",
    "    for i in range(len(clmData1)):\n",
    "        data.append([clmData1[i], '{:1.2f}'.format(clmData2[i]), \n",
    "                     '{:1.2f}'.format(clmData3[i])])\n",
    "        \n",
    "    print(tabulate(data, headers=clmDataHeadears, tablefmt=\"fancy_grid\", \n",
    "                   colalign=(\"center\",)))"
   ]
  },
  {
   "cell_type": "markdown",
   "metadata": {},
   "source": [
    "#### Calculate and Show Correct Classification Rate"
   ]
  },
  {
   "cell_type": "code",
   "execution_count": 11,
   "metadata": {},
   "outputs": [],
   "source": [
    "def calcShowCCR(trueLabel, predLabel):\n",
    "    matrix = metrics.confusion_matrix(trueLabel, predLabel)\n",
    "    num = sum(matrix[i][i] for i in range(len(matrix)))\n",
    "    denum = matrix.sum()\n",
    "    CRR =num/denum\n",
    "    print(\"* Correct classification rate after employing this classifier is: %1.3f\"%(CRR))"
   ]
  },
  {
   "cell_type": "markdown",
   "metadata": {},
   "source": [
    "#### Calculate and Show Accuracy, Recall, and Percision"
   ]
  },
  {
   "cell_type": "code",
   "execution_count": 12,
   "metadata": {},
   "outputs": [],
   "source": [
    "def calcAccRcllPer(trueLabel, predLabel):\n",
    "    accuracy = metrics.accuracy_score(trueLabel, predLabel)\n",
    "    print('* Accuracy score after employing this classifier is: %1.3f' %(accuracy))\n",
    "    print('\\n')\n",
    "        \n",
    "    recallManU = metrics.recall_score(trueLabel, predLabel, pos_label=0)\n",
    "    recallChelsea = metrics.recall_score(trueLabel, predLabel, pos_label=1)\n",
    "    \n",
    "    percisionManU = metrics.precision_score(trueLabel, predLabel, pos_label=0)\n",
    "    percisionChelsea = metrics.precision_score(trueLabel, predLabel, pos_label=1)\n",
    "    \n",
    "    plotTable([\"Man United\", \"Chelsea\"], [recallManU, recallChelsea], \n",
    "                  [percisionManU, percisionChelsea], \n",
    "                  ['Club Names', \"Recall\", \"Percision\"])"
   ]
  },
  {
   "cell_type": "markdown",
   "metadata": {},
   "source": [
    "#### Employing Above Functions"
   ]
  },
  {
   "cell_type": "code",
   "execution_count": 16,
   "metadata": {
    "scrolled": false
   },
   "outputs": [
    {
     "name": "stdout",
     "output_type": "stream",
     "text": [
      "Gaussian Naive Bayes Classifier Results:\n"
     ]
    },
    {
     "data": {
      "image/png": "[encoded data removed]",
      "text/plain": [
       "<Figure size 432x288 with 2 Axes>"
      ]
     },
     "metadata": {
      "needs_background": "light"
     },
     "output_type": "display_data"
    },
    {
     "data": {
      "image/png": "[encoded data removed]",
      "text/plain": [
       "<Figure size 432x288 with 2 Axes>"
      ]
     },
     "metadata": {
      "needs_background": "light"
     },
     "output_type": "display_data"
    },
    {
     "name": "stdout",
     "output_type": "stream",
     "text": [
      "* Correct classification rate after employing this classifier is: 0.875\n",
      "* Accuracy score after employing this classifier is: 0.875\n",
      "\n",
      "\n",
      "╒══════════════╤══════════╤═════════════╕\n",
      "│  Club Names  │   Recall │   Percision │\n",
      "╞══════════════╪══════════╪═════════════╡\n",
      "│  Man United  │     0.83 │        0.91 │\n",
      "├──────────────┼──────────┼─────────────┤\n",
      "│   Chelsea    │     0.92 │        0.85 │\n",
      "╘══════════════╧══════════╧═════════════╛\n",
      "***********************************************************************\n",
      "5 Near Neighbor Classifier Results:\n"
     ]
    },
    {
     "data": {
      "image/png": "[encoded data removed]",
      "text/plain": [
       "<Figure size 432x288 with 2 Axes>"
      ]
     },
     "metadata": {
      "needs_background": "light"
     },
     "output_type": "display_data"
    },
    {
     "data": {
      "image/png": "[encoded data removed]",
      "text/plain": [
       "<Figure size 432x288 with 2 Axes>"
      ]
     },
     "metadata": {
      "needs_background": "light"
     },
     "output_type": "display_data"
    },
    {
     "name": "stdout",
     "output_type": "stream",
     "text": [
      "* Correct classification rate after employing this classifier is: 0.958\n",
      "* Accuracy score after employing this classifier is: 0.958\n",
      "\n",
      "\n",
      "╒══════════════╤══════════╤═════════════╕\n",
      "│  Club Names  │   Recall │   Percision │\n",
      "╞══════════════╪══════════╪═════════════╡\n",
      "│  Man United  │     0.92 │        1    │\n",
      "├──────────────┼──────────┼─────────────┤\n",
      "│   Chelsea    │     1    │        0.92 │\n",
      "╘══════════════╧══════════╧═════════════╛\n",
      "***********************************************************************\n",
      "50 Near Neighbor Classifier Results:\n"
     ]
    },
    {
     "data": {
      "image/png": "[encoded data removed]",
      "text/plain": [
       "<Figure size 432x288 with 2 Axes>"
      ]
     },
     "metadata": {
      "needs_background": "light"
     },
     "output_type": "display_data"
    },
    {
     "data": {
      "image/png": "[encoded data removed]",
      "text/plain": [
       "<Figure size 432x288 with 2 Axes>"
      ]
     },
     "metadata": {
      "needs_background": "light"
     },
     "output_type": "display_data"
    },
    {
     "name": "stdout",
     "output_type": "stream",
     "text": [
      "* Correct classification rate after employing this classifier is: 0.875\n",
      "* Accuracy score after employing this classifier is: 0.875\n",
      "\n",
      "\n",
      "╒══════════════╤══════════╤═════════════╕\n",
      "│  Club Names  │   Recall │   Percision │\n",
      "╞══════════════╪══════════╪═════════════╡\n",
      "│  Man United  │     0.83 │        0.91 │\n",
      "├──────────────┼──────────┼─────────────┤\n",
      "│   Chelsea    │     0.92 │        0.85 │\n",
      "╘══════════════╧══════════╧═════════════╛\n"
     ]
    }
   ],
   "source": [
    "folderPath = \"/home/atena/Desktop/Pattern Recognition/HW/1/Q6_Dataset\"\n",
    "#Loading Images:\n",
    "images, imagesNames = loadImgFromFolder(folderPath)\n",
    "#Finding the Average RGB:\n",
    "avgRGB = calcAvgRGB(images)\n",
    "#Finding MacU and Chelsea Labels:\n",
    "labels = findLabels(imagesNames)\n",
    "#Separating Training and Test Datasets:\n",
    "trainData, testData, trainLabel, testLabel = trainTestSplit(avgRGB, labels, \n",
    "                                                            test_size=int(len(labels)* 0.2), \n",
    "                                                            random_state=10)\n",
    "\n",
    "#Using Gaussian Naive Bayes Classifier:\n",
    "predGNBC, myClsfGNBC = predWithGNBC(trainData, trainLabel, testData)\n",
    "#Using 5 Near Neighbor Classifier:\n",
    "pred5NN, myClsf5NN = predWithKNN(5, trainData, trainLabel, testData)\n",
    "#Using 50 Near Neighbor Classifier:\n",
    "pred50NN, myClsf50NN = predWithKNN(50, trainData, trainLabel, testData)\n",
    "\n",
    "#Results:\n",
    "## Gaussian Naive Bayes Classifier:\n",
    "print('Gaussian Naive Bayes Classifier Results:')\n",
    "plotConfsMat(myClsfGNBC, testData, testLabel)\n",
    "plotConfMat(myClsfGNBC, testData, testLabel)\n",
    "calcShowCCR(testLabel, predGNBC)\n",
    "calcAccRcllPer(testLabel, predGNBC)\n",
    "\n",
    "## 5 Near Neighbor Classifier:\n",
    "print('***********************************************************************')\n",
    "print('5 Near Neighbor Classifier Results:')\n",
    "plotConfsMat(myClsf5NN, testData, testLabel)\n",
    "plotConfMat(myClsf5NN, testData, testLabel)\n",
    "calcShowCCR(testLabel,pred5NN)\n",
    "calcAccRcllPer(testLabel, pred5NN)\n",
    "\n",
    "## 50 Near Neighbor Classifier:\n",
    "print('***********************************************************************')\n",
    "print('50 Near Neighbor Classifier Results:')\n",
    "plotConfsMat(myClsf50NN, testData, testLabel)\n",
    "plotConfMat(myClsf50NN, testData, testLabel)\n",
    "calcShowCCR(testLabel, pred50NN)\n",
    "calcAccRcllPer(testLabel, pred50NN)\n"
   ]
  }
 ],
 "metadata": {
  "kernelspec": {
   "display_name": "Python 3",
   "language": "python",
   "name": "python3"
  },
  "language_info": {
   "codemirror_mode": {
    "name": "ipython",
    "version": 3
   },
   "file_extension": ".py",
   "mimetype": "text/x-python",
   "name": "python",
   "nbconvert_exporter": "python",
   "pygments_lexer": "ipython3",
   "version": "3.6.9"
  }
 },
 "nbformat": 4,
 "nbformat_minor": 2
}
