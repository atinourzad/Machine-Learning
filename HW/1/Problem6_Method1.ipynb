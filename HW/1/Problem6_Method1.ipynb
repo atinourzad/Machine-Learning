{
 "cells": [
  {
   "cell_type": "markdown",
   "metadata": {},
   "source": [
    "#### Importing Necessary Libraries"
   ]
  },
  {
   "cell_type": "code",
   "execution_count": 1,
   "metadata": {},
   "outputs": [],
   "source": [
    "import matplotlib.image as mpImg \n",
    "import matplotlib.pyplot as plt\n",
    "import os\n",
    "import numpy as np\n",
    "\n",
    "from sklearn import metrics\n",
    "from tabulate import tabulate"
   ]
  },
  {
   "cell_type": "markdown",
   "metadata": {},
   "source": [
    "#### Defining Constants"
   ]
  },
  {
   "cell_type": "code",
   "execution_count": 2,
   "metadata": {},
   "outputs": [],
   "source": [
    "ManU = 0\n",
    "Chelsea = 1"
   ]
  },
  {
   "cell_type": "markdown",
   "metadata": {},
   "source": [
    "#### Reading the Image"
   ]
  },
  {
   "cell_type": "code",
   "execution_count": 3,
   "metadata": {},
   "outputs": [],
   "source": [
    "def loadImgFromFolder(folderPath):\n",
    "    images = []\n",
    "    imagesName = []\n",
    "    \n",
    "    for fileName in os.listdir(folderPath):\n",
    "        img = mpImg.imread(os.path.join(folderPath, fileName))\n",
    "        if img is not None:\n",
    "            images.append(img)\n",
    "            imagesName.append(fileName.replace('.jpg', ''))\n",
    "            \n",
    "    return images, imagesName"
   ]
  },
  {
   "cell_type": "markdown",
   "metadata": {},
   "source": [
    "#### Averaging RGB"
   ]
  },
  {
   "cell_type": "code",
   "execution_count": 4,
   "metadata": {},
   "outputs": [],
   "source": [
    "def calcAvgRGB(images):\n",
    "    numImages = len(images)\n",
    "    avgRGB = np.zeros([numImages,3])\n",
    "    \n",
    "    for i in range(0,numImages):\n",
    "        avgRGB[i,:] = np.average(np.average(images[i], axis=0), axis=0)\n",
    "        \n",
    "    return avgRGB"
   ]
  },
  {
   "cell_type": "markdown",
   "metadata": {},
   "source": [
    "#### Finding Labels"
   ]
  },
  {
   "cell_type": "code",
   "execution_count": 5,
   "metadata": {},
   "outputs": [],
   "source": [
    "def findLabels(imageNames):\n",
    "    numImageNames = len(imageNames)\n",
    "    labels = np.zeros(numImageNames)\n",
    "    \n",
    "    for i in range(0, numImageNames):\n",
    "        if imageNames[i][0] == 'c' or imagesNames[i] == 'index':\n",
    "            labels[i] = Chelsea \n",
    "    return labels"
   ]
  },
  {
   "cell_type": "markdown",
   "metadata": {},
   "source": [
    "#### Creating the Classifier"
   ]
  },
  {
   "cell_type": "code",
   "execution_count": 6,
   "metadata": {},
   "outputs": [],
   "source": [
    "distCalc = lambda x,y: np.sqrt(abs(x[0]-y[0])**2+abs(x[2]-y[2])**2)\n",
    "\n",
    "def RGBClassfier(avgRGBPic):\n",
    "    refColors = {'Red':[255, 0, 0], 'Blue':[0, 0, 255]}\n",
    "    dist = [distCalc(avgRGBPic, refColors[i]) for i in refColors.keys()] \n",
    "    return ManU if dist.index(min(dist)) == 0 else Chelsea"
   ]
  },
  {
   "cell_type": "markdown",
   "metadata": {},
   "source": [
    "#### Predicting Labels"
   ]
  },
  {
   "cell_type": "code",
   "execution_count": 7,
   "metadata": {},
   "outputs": [],
   "source": [
    "def predLabels(avgRGB):\n",
    "    predtLabels = []\n",
    "    predtLabels.append([RGBClassfier(avgRGB[i]) for i in range(len(avgRGB))])\n",
    "    return predtLabels[0]"
   ]
  },
  {
   "cell_type": "markdown",
   "metadata": {},
   "source": [
    "#### Calculate Confusion Matrix"
   ]
  },
  {
   "cell_type": "code",
   "execution_count": 8,
   "metadata": {},
   "outputs": [],
   "source": [
    "def calcConfsMat(trueLabels, predtLabels):\n",
    "    if not type(predtLabels) == np.array:\n",
    "        predtLabels = np.array(predtLabels)\n",
    "    if not type(trueLabels) == np.array:\n",
    "        trueLabels = np.array(trueLabels)\n",
    "        \n",
    "    return metrics.confusion_matrix(trueLabels, predtLabels)"
   ]
  },
  {
   "cell_type": "markdown",
   "metadata": {},
   "source": [
    "#### Calculate Confidence Matrix"
   ]
  },
  {
   "cell_type": "code",
   "execution_count": 9,
   "metadata": {},
   "outputs": [],
   "source": [
    "def calcConfMat(confsMat):\n",
    "    row_sums = confsMat.sum(axis=1)\n",
    "    return confsMat / row_sums[:, np.newaxis]"
   ]
  },
  {
   "cell_type": "markdown",
   "metadata": {},
   "source": [
    "#### Plot Table Beautifully"
   ]
  },
  {
   "cell_type": "code",
   "execution_count": 10,
   "metadata": {},
   "outputs": [],
   "source": [
    "def plotTable(clmData1, clmData2, clmData3, clmDataHeadears):\n",
    "    data = []\n",
    "    for i in range(len(clmData1)):\n",
    "        data.append([clmData1[i], '{:1.2f}'.format(clmData2[i]), \n",
    "                     '{:1.2f}'.format(clmData3[i])])\n",
    "        \n",
    "    print(tabulate(data, headers=clmDataHeadears, tablefmt=\"fancy_grid\", \n",
    "                   colalign=(\"center\",)))"
   ]
  },
  {
   "cell_type": "markdown",
   "metadata": {},
   "source": [
    "#### Calculate and Show Correct Classification Rate"
   ]
  },
  {
   "cell_type": "code",
   "execution_count": 11,
   "metadata": {},
   "outputs": [],
   "source": [
    "def calcShowCCR(trueLabel, predLabel):\n",
    "    matrix = metrics.confusion_matrix(trueLabel, predLabel)\n",
    "    num = sum(matrix[i][i] for i in range(len(matrix)))\n",
    "    denum = matrix.sum()\n",
    "    CRR =num/denum\n",
    "    print(\"* Correct classification rate after employing this classifier is: %1.3f\"%(CRR))"
   ]
  },
  {
   "cell_type": "markdown",
   "metadata": {},
   "source": [
    "#### Calculate and Show Accuracy, Recall, and Percision"
   ]
  },
  {
   "cell_type": "code",
   "execution_count": 12,
   "metadata": {},
   "outputs": [],
   "source": [
    "def calcAccRcllPer(trueLabel, predLabel):\n",
    "    accuracy = metrics.accuracy_score(trueLabel, predLabel)\n",
    "    print('* Accuracy score after employing this classifier is: %1.3f' %(accuracy))\n",
    "    print('\\n')\n",
    "        \n",
    "    recallManU = metrics.recall_score(trueLabel, predLabel, pos_label=0)\n",
    "    recallChelsea = metrics.recall_score(trueLabel, predLabel, pos_label=1)\n",
    "    \n",
    "    percisionManU = metrics.precision_score(trueLabel, predLabel, pos_label=0)\n",
    "    percisionChelsea = metrics.precision_score(trueLabel, predLabel, pos_label=1)\n",
    "    \n",
    "    plotTable([\"Man United\", \"Chelsea\"], [recallManU, recallChelsea], \n",
    "                  [percisionManU, percisionChelsea], \n",
    "                  ['Club Names', \"Recall\", \"Percision\"])"
   ]
  },
  {
   "cell_type": "markdown",
   "metadata": {},
   "source": [
    "#### Plot Matrix Beautifully :)"
   ]
  },
  {
   "cell_type": "code",
   "execution_count": 22,
   "metadata": {},
   "outputs": [],
   "source": [
    "def plotBeautyMat(matrix, labels, numType, matrixType):\n",
    "    figure = plt.figure() \n",
    "    axes = figure.add_subplot() \n",
    "    axLabels = labels\n",
    "    \n",
    "    caxes = axes.matshow(matrix, cmap= 'Purples')\n",
    "    \n",
    "    axes.set_xticklabels(['']+labels) \n",
    "    axes.set_yticklabels(['']+labels)\n",
    "    \n",
    "    for (i, j), z in np.ndenumerate(matrix):\n",
    "        axes.text(j, i, numType.format(z), ha='center', va='baseline', color='mediumpurple')\n",
    "        \n",
    "    figure.colorbar(caxes) \n",
    "    plt.ylabel('True Labels', fontsize=10, fontweight='bold')\n",
    "    plt.xlabel('Predicted Lables', fontsize=10, fontweight='bold')\n",
    "    figure.suptitle(matrixType, fontsize=10, fontweight='bold')\n",
    "    plt.show() \n",
    "   "
   ]
  },
  {
   "cell_type": "markdown",
   "metadata": {},
   "source": [
    "#### Employing Abvove Functions"
   ]
  },
  {
   "cell_type": "code",
   "execution_count": 23,
   "metadata": {
    "scrolled": false
   },
   "outputs": [
    {
     "data": {
      "image/png": "[encoded data removed]",
      "text/plain": [
       "<Figure size 432x288 with 2 Axes>"
      ]
     },
     "metadata": {
      "needs_background": "light"
     },
     "output_type": "display_data"
    },
    {
     "data": {
      "image/png": "[encoded data removed]",
      "text/plain": [
       "<Figure size 432x288 with 2 Axes>"
      ]
     },
     "metadata": {
      "needs_background": "light"
     },
     "output_type": "display_data"
    },
    {
     "name": "stdout",
     "output_type": "stream",
     "text": [
      "* Correct classification rate after employing this classifier is: 0.844\n",
      "* Accuracy score after employing this classifier is: 0.844\n",
      "\n",
      "\n",
      "╒══════════════╤══════════╤═════════════╕\n",
      "│  Club Names  │   Recall │   Percision │\n",
      "╞══════════════╪══════════╪═════════════╡\n",
      "│  Man United  │     0.98 │        0.76 │\n",
      "├──────────────┼──────────┼─────────────┤\n",
      "│   Chelsea    │     0.72 │        0.98 │\n",
      "╘══════════════╧══════════╧═════════════╛\n"
     ]
    }
   ],
   "source": [
    "folderPath = \"/home/atena/Desktop/Pattern Recognition/HW/1/Q6_Dataset\"\n",
    "#Loading Images:\n",
    "images, imagesNames = loadImgFromFolder(folderPath)\n",
    "#Finding the Average RGB:\n",
    "avgRGB = calcAvgRGB(images)\n",
    "#Finding MacU and Chelsea Labels:\n",
    "trueLabels = findLabels(imagesNames)\n",
    "#Predicting labels using classifier:\n",
    "predtLabels = predLabels(avgRGB)\n",
    "#Finding and plotting confusion matrix:\n",
    "confsMat = calcConfsMat(trueLabels, predtLabels)\n",
    "plotBeautyMat(confsMat, ['ManU', 'Chelsea'], '{:d}', 'Confusion Matrix')\n",
    "#Finding and plotting confidence matrix:\n",
    "confMat = calcConfMat(confsMat)\n",
    "plotBeautyMat(confMat, ['ManU', 'Chelsea'], '{:1.4f}', 'Confidence Matrix')\n",
    "#Calculating CCR, accuracy, recall, and percision\n",
    "calcShowCCR(trueLabels,predtLabels)\n",
    "calcAccRcllPer(trueLabels, predtLabels)"
   ]
  },
  {
   "cell_type": "code",
   "execution_count": null,
   "metadata": {},
   "outputs": [],
   "source": []
  }
 ],
 "metadata": {
  "kernelspec": {
   "display_name": "Python 3",
   "language": "python",
   "name": "python3"
  },
  "language_info": {
   "codemirror_mode": {
    "name": "ipython",
    "version": 3
   },
   "file_extension": ".py",
   "mimetype": "text/x-python",
   "name": "python",
   "nbconvert_exporter": "python",
   "pygments_lexer": "ipython3",
   "version": "3.6.9"
  }
 },
 "nbformat": 4,
 "nbformat_minor": 2
}
