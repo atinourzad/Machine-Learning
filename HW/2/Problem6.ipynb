{
  "nbformat": 4,
  "nbformat_minor": 0,
  "metadata": {
    "kernelspec": {
      "display_name": "Python 3",
      "language": "python",
      "name": "python3"
    },
    "language_info": {
      "codemirror_mode": {
        "name": "ipython",
        "version": 3
      },
      "file_extension": ".py",
      "mimetype": "text/x-python",
      "name": "python",
      "nbconvert_exporter": "python",
      "pygments_lexer": "ipython3",
      "version": "3.6.9"
    },
    "colab": {
      "name": "Q6.ipynb",
      "provenance": [],
      "collapsed_sections": []
    }
  },
  "cells": [
    {
      "cell_type": "code",
      "metadata": {
        "id": "NSjT0-lXGFNA"
      },
      "source": [
        "import numpy as np\n",
        "from numpy import linalg as LA"
      ],
      "execution_count": 2,
      "outputs": []
    },
    {
      "cell_type": "markdown",
      "metadata": {
        "id": "oJsYV3SNGFNX"
      },
      "source": [
        "#### Part A:"
      ]
    },
    {
      "cell_type": "markdown",
      "metadata": {
        "id": "qJQzidFcGFNZ"
      },
      "source": [
        "Chebyshev Distance:"
      ]
    },
    {
      "cell_type": "code",
      "metadata": {
        "scrolled": true,
        "id": "b8q_wWEjGFNb",
        "outputId": "5f067a0f-4f2b-4691-bfb1-a937f6b57f65",
        "colab": {
          "base_uri": "https://localhost:8080/"
        }
      },
      "source": [
        "def chebyshevDisCalc(goalPoint, point):\n",
        "    return max(abs(goalPoint[0]-point[0]), abs(goalPoint[1]-point[1]))\n",
        "\n",
        "spacePoints = {'red':[(8,3), (8,-3), (0,5), (0,-5)], 'blue':[(0,0), (-5,0), (-5,5), (-5,-5)]}\n",
        "maxDist = [[chebyshevDisCalc((5,0), (spacePoints[i][j])) for j in range(4)] for i in ['red', 'blue']]\n",
        "print('The goal point belongs to the blue class.') if maxDist.index(min(maxDist)) else print('The goal point belongs to the red class.')"
      ],
      "execution_count": 3,
      "outputs": [
        {
          "output_type": "stream",
          "text": [
            "The goal point belongs to the red class.\n"
          ],
          "name": "stdout"
        }
      ]
    },
    {
      "cell_type": "markdown",
      "metadata": {
        "id": "YTGY0ANzGFNm"
      },
      "source": [
        "Manhattan Distance:"
      ]
    },
    {
      "cell_type": "code",
      "metadata": {
        "id": "_qKM4po-GFNn",
        "outputId": "26596f6a-3283-41f5-ef57-d9b5e0778cf1",
        "colab": {
          "base_uri": "https://localhost:8080/"
        }
      },
      "source": [
        "def manhattanDisCalc(goalPoint, point):\n",
        "    return (abs(goalPoint[0]-point[0])+abs(goalPoint[1]-point[1]))\n",
        "\n",
        "spacePoints = {'red':[(8,3), (8,-3), (0,5), (0,-5)], 'blue':[(0,0), (-5,0), (-5,5), (-5,-5)]}\n",
        "manDist = [[manhattanDisCalc((5,0), (spacePoints[i][j])) for j in range(4)] for i in ['red', 'blue']]\n",
        "print('The goal point belongs to the blue class.') if manDist.index(min(manDist)) else print('The goal point belongs to the red class.')"
      ],
      "execution_count": 4,
      "outputs": [
        {
          "output_type": "stream",
          "text": [
            "The goal point belongs to the blue class.\n"
          ],
          "name": "stdout"
        }
      ]
    },
    {
      "cell_type": "markdown",
      "metadata": {
        "id": "XAJ8jeUvGFNt"
      },
      "source": [
        "Euclidean Distance:"
      ]
    },
    {
      "cell_type": "code",
      "metadata": {
        "id": "iASjiJ3mGFNu",
        "outputId": "1aa236e1-0c31-4ab4-b995-95923c748432",
        "colab": {
          "base_uri": "https://localhost:8080/"
        }
      },
      "source": [
        "def euclideanDisCalc(goalPoint, point):\n",
        "    return ((goalPoint[0]-point[0])**2+(goalPoint[1]-point[1])**2)\n",
        "\n",
        "spacePoints = {'red':[(8,3), (8,-3), (0,5), (0,-5)], 'blue':[(0,0), (-5,0), (-5,5), (-5,-5)]}\n",
        "eucDist = [[euclideanDisCalc((5,0), (spacePoints[i][j])) for j in range(4)] for i in ['red', 'blue']]\n",
        "print('The goal point belongs to the blue class.') if eucDist.index(min(eucDist)) else print('The goal point belongs to the red class.')"
      ],
      "execution_count": 5,
      "outputs": [
        {
          "output_type": "stream",
          "text": [
            "The goal point belongs to the red class.\n"
          ],
          "name": "stdout"
        }
      ]
    },
    {
      "cell_type": "markdown",
      "metadata": {
        "id": "t62aiM0tGFN1"
      },
      "source": [
        "#### Part B:"
      ]
    },
    {
      "cell_type": "code",
      "metadata": {
        "id": "mTAdgzvpGFN2",
        "outputId": "5719bc8f-c8f6-4699-f11a-87decc99235f",
        "colab": {
          "base_uri": "https://localhost:8080/"
        }
      },
      "source": [
        "meanVec = np.array([0,0])\n",
        "covMat = np.array([[3,-3], [-3,3.5]])\n",
        "X = np.array([1.5,1.5])\n",
        "dist = np.dot(np.dot((X-meanVec).transpose(),LA.inv(covMat)),(X-meanVec))\n",
        "print(\"The Mahalanobis distance is: %f\" %(np.sqrt(dist)))"
      ],
      "execution_count": 6,
      "outputs": [
        {
          "output_type": "stream",
          "text": [
            "The Mahalanobis distance is: 4.330127\n"
          ],
          "name": "stdout"
        }
      ]
    },
    {
      "cell_type": "code",
      "metadata": {
        "id": "ESO3GdhNGFN6",
        "outputId": "2570b8ec-ad13-40d7-c3d0-dd361a24b9c2",
        "colab": {
          "base_uri": "https://localhost:8080/"
        }
      },
      "source": [
        "meanVec = np.array([0,0])\n",
        "covMat = np.array([[3,3], [3,3.5]])\n",
        "X = np.array([1.5,1.5])\n",
        "dist = np.dot(np.dot((X-meanVec).transpose(),LA.inv(covMat)),(X-meanVec))\n",
        "print(\"The Mahalanobis distance is: %f\" %(np.sqrt(dist)))"
      ],
      "execution_count": 7,
      "outputs": [
        {
          "output_type": "stream",
          "text": [
            "The Mahalanobis distance is: 0.866025\n"
          ],
          "name": "stdout"
        }
      ]
    }
  ]
}