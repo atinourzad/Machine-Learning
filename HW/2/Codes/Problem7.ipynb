{
  "nbformat": 4,
  "nbformat_minor": 0,
  "metadata": {
    "colab": {
      "name": "Q7.ipynb",
      "provenance": [],
      "collapsed_sections": []
    },
    "kernelspec": {
      "name": "python3",
      "display_name": "Python 3"
    },
    "accelerator": "GPU"
  },
  "cells": [
    {
      "cell_type": "markdown",
      "metadata": {
        "id": "zKiNJ8nl3o2d"
      },
      "source": [
        "Importing Neccessary Libraries"
      ]
    },
    {
      "cell_type": "code",
      "metadata": {
        "id": "XITA3KTK2uMM"
      },
      "source": [
        "import pandas as pd\n",
        "import numpy as np\n",
        "import matplotlib.pyplot as plt\n",
        "\n",
        "from google.colab import drive\n",
        "\n",
        "from sklearn.model_selection import train_test_split as trainTestSplitter\n",
        "from sklearn.linear_model import TweedieRegressor\n",
        "from sklearn import preprocessing\n",
        "\n",
        "drive.mount('/content/gdrive')"
      ],
      "execution_count": null,
      "outputs": []
    },
    {
      "cell_type": "code",
      "metadata": {
        "id": "3_HKCI4A_nz2"
      },
      "source": [
        "# !pip install --upgrade scikit-learn"
      ],
      "execution_count": null,
      "outputs": []
    },
    {
      "cell_type": "markdown",
      "metadata": {
        "id": "PTTfN-MT3y8B"
      },
      "source": [
        "Read Data"
      ]
    },
    {
      "cell_type": "code",
      "metadata": {
        "id": "w-4N9SQr3u1v"
      },
      "source": [
        "cyclers = pd.read_csv(r'/content/gdrive/My Drive/Colab Notebooks/HW/2/nyc_cyclist_counts.csv')"
      ],
      "execution_count": null,
      "outputs": []
    },
    {
      "cell_type": "markdown",
      "metadata": {
        "id": "AJxmwf0B4Iol"
      },
      "source": [
        "Representing Data"
      ]
    },
    {
      "cell_type": "code",
      "metadata": {
        "id": "-fUaqj8B4ISa"
      },
      "source": [
        "print(cyclers)"
      ],
      "execution_count": null,
      "outputs": []
    },
    {
      "cell_type": "markdown",
      "metadata": {
        "id": "qtClHE7A4R46"
      },
      "source": [
        "Separate Data"
      ]
    },
    {
      "cell_type": "code",
      "metadata": {
        "id": "H-K_uxWn7Ujd"
      },
      "source": [
        "cyclers = cyclers.values\n",
        "\n",
        "\n",
        "X = cyclers[:,1:4]\n",
        "y = [i for i in zip(cyclers[:,0], cyclers[:,4])]\n",
        "\n",
        "trainData, testData, trainLabels, testLabels = trainTestSplitter(X, y, test_size=0.2, random_state=60)\n",
        "trainLabels = (np.array(trainLabels)[:,1]).astype(np.float)"
      ],
      "execution_count": null,
      "outputs": []
    },
    {
      "cell_type": "markdown",
      "metadata": {
        "id": "Aawi2elR8owR"
      },
      "source": [
        "Employing GLM "
      ]
    },
    {
      "cell_type": "code",
      "metadata": {
        "id": "bbv8vKE68s8j"
      },
      "source": [
        "myGLM = TweedieRegressor(power=1, alpha=0.0001, link='log')\n",
        "myGLM.fit(trainData, trainLabels)\n",
        "predLabels = myGLM.predict(testData)"
      ],
      "execution_count": null,
      "outputs": []
    },
    {
      "cell_type": "code",
      "metadata": {
        "id": "sjTWte389ebU"
      },
      "source": [
        " def plotData(testLabels, predLabels): \n",
        "  fig = plt.figure()\n",
        "  plt.xticks(rotation=90)\n",
        "  plt.tick_params(axis='x', which='major', labelsize=10)\n",
        "\n",
        "  plt.plot((np.array(testLabels)[:,0]), predLabels, '-o', color='mediumpurple', label='Predicted')\n",
        "  plt.plot((np.array(testLabels)[:,0]) ,(np.array(testLabels)[:,1]).astype(np.float), '--o', color='thistle', label='Actual')\n",
        "\n",
        "  plt.gca().margins(x=0)\n",
        "  plt.gcf().canvas.draw()\n",
        "  tl = plt.gca().get_xticklabels()\n",
        "  maxsize = max([t.get_window_extent().width for t in tl])\n",
        "  m = 1\n",
        "  N = len(testData)\n",
        "  s = maxsize/plt.gcf().dpi * N + 12 * m\n",
        "  margin = m/plt.gcf().get_size_inches()[0]\n",
        "  plt.gcf().subplots_adjust(left=margin, right=1.-margin)\n",
        "  plt.gcf().set_size_inches(s, plt.gcf().get_size_inches()[1])\n",
        "\n",
        "  plt.title('BB_COUNT')\n",
        "  plt.xlabel('Date')\n",
        "  plt.ylabel('Value')\n",
        "  plt.legend(loc=\"upper right\")\n",
        "  plt.show()"
      ],
      "execution_count": null,
      "outputs": []
    },
    {
      "cell_type": "code",
      "metadata": {
        "id": "9w1TWnv4_auk"
      },
      "source": [
        "plotData(testLabels, predLabels)\n",
        "\n",
        "plt.scatter((np.array(testLabels)[:,1]).astype(np.float), predLabels,\n",
        "                marker='*', color='mediumpurple')\n",
        "plt.plot([0,4000], [0,4000], '--', color='thistle')\n",
        "\n",
        "plt.title('BB_COUNT')\n",
        "plt.xlabel('Actual Data')\n",
        "plt.ylabel('Prediced Data')\n",
        "plt.show()"
      ],
      "execution_count": null,
      "outputs": []
    }
  ]
}
