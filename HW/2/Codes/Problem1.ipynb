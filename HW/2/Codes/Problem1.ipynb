{
  "nbformat": 4,
  "nbformat_minor": 0,
  "metadata": {
    "kernelspec": {
      "display_name": "Python 3",
      "language": "python",
      "name": "python3"
    },
    "language_info": {
      "codemirror_mode": {
        "name": "ipython",
        "version": 3
      },
      "file_extension": ".py",
      "mimetype": "text/x-python",
      "name": "python",
      "nbconvert_exporter": "python",
      "pygments_lexer": "ipython3",
      "version": "3.6.9"
    },
    "colab": {
      "name": "Q1.ipynb",
      "provenance": [],
      "collapsed_sections": []
    }
  },
  "cells": [
    {
      "cell_type": "code",
      "metadata": {
        "id": "PnW3MS_-GQMZ"
      },
      "source": [
        "import numpy as np"
      ],
      "execution_count": 2,
      "outputs": []
    },
    {
      "cell_type": "code",
      "metadata": {
        "id": "z90A2N6UGQM8",
        "outputId": "9f85726b-beaa-4203-fadd-d03b3e039acf",
        "colab": {
          "base_uri": "https://localhost:8080/"
        }
      },
      "source": [
        "red = np.array([[1,1], [1,2], [2,1], [2,2], [2,3], [4,3]])\n",
        "\n",
        "expVecRed = np.array([[np.mean(red[:,0]), np.mean(red[:,1])]])\n",
        "expVecRed = expVecRed.transpose()\n",
        "print(\"Red's expected value is\")\n",
        "print(expVecRed)    \n",
        "\n",
        "covMatRed = np.cov(red.transpose())\n",
        "print(\"Red's covariance matrix is:\")\n",
        "print(covMatRed)\n",
        "\n",
        "invCovRed = np.linalg.inv(covMatRed)\n",
        "W_Red = -0.5 * invCovRed\n",
        "print(\"W matrix of red is:\")\n",
        "print(W_Red)\n",
        "wVec_Red = np.dot(invCovRed, expVecRed)\n",
        "print(\"w of red is:\")\n",
        "print(wVec_Red)\n",
        "w_Red_0 = -0.5 * np.dot(np.dot(expVecRed.transpose(),invCovRed),expVecRed) - 0.5 * np.log(np.linalg.det(covMatRed)) + np.log(6/11)\n",
        "print(\"w_0 of red is:\")\n",
        "print(w_Red_0)\n"
      ],
      "execution_count": 3,
      "outputs": [
        {
          "output_type": "stream",
          "text": [
            "Red's expected value is\n",
            "[[2.]\n",
            " [2.]]\n",
            "Red's covariance matrix is:\n",
            "[[1.2 0.6]\n",
            " [0.6 0.8]]\n",
            "W matrix of red is:\n",
            "[[-0.66666667  0.5       ]\n",
            " [ 0.5        -1.        ]]\n",
            "w of red is:\n",
            "[[0.66666667]\n",
            " [2.        ]]\n",
            "w_0 of red is:\n",
            "[[-3.01738966]]\n"
          ],
          "name": "stdout"
        }
      ]
    },
    {
      "cell_type": "code",
      "metadata": {
        "id": "ykB6ldM7GQNS",
        "outputId": "2c91fd5e-fe35-40a3-f99a-41a46ee6df69",
        "colab": {
          "base_uri": "https://localhost:8080/"
        }
      },
      "source": [
        "blue = np.array([[-1,-1], [-1,-2], [-2,-1], [-3,1], [-3,-2]])\n",
        "\n",
        "expVecBlue = np.array([[np.mean(blue[:,0]), np.mean(blue[:,1])]])\n",
        "expVecBlue = expVecBlue.transpose()\n",
        "print(\"Blue's expected value is\")\n",
        "print(expVecBlue)    \n",
        "\n",
        "covMatBlue = np.cov(blue.transpose())\n",
        "print(\"Blue's covariance matrix is:\")\n",
        "print(covMatBlue)\n",
        "\n",
        "invCovBlue = np.linalg.inv(covMatBlue)\n",
        "W_Blue = -0.5 * invCovBlue\n",
        "print(\"W matrix of blue is:\")\n",
        "print(W_Blue)\n",
        "wVec_Blue = np.dot(invCovBlue, expVecBlue)\n",
        "print(\"w of blue is:\")\n",
        "print(wVec_Blue)\n",
        "w_Blue_0 = -0.5 * np.dot(np.dot(expVecBlue.transpose(),invCovBlue),expVecBlue) - 0.5 * np.log(np.linalg.det(covMatBlue)) + np.log(5/11)\n",
        "print(\"w_0 of blue is:\")\n",
        "print(w_Blue_0)"
      ],
      "execution_count": 4,
      "outputs": [
        {
          "output_type": "stream",
          "text": [
            "Blue's expected value is\n",
            "[[-2.]\n",
            " [-1.]]\n",
            "Blue's covariance matrix is:\n",
            "[[ 1.  -0.5]\n",
            " [-0.5  1.5]]\n",
            "W matrix of blue is:\n",
            "[[-0.6 -0.2]\n",
            " [-0.2 -0.4]]\n",
            "w of blue is:\n",
            "[[-2.8]\n",
            " [-1.6]]\n",
            "w_0 of blue is:\n",
            "[[-4.50002914]]\n"
          ],
          "name": "stdout"
        }
      ]
    },
    {
      "cell_type": "code",
      "metadata": {
        "id": "fBUz85M5GQNh"
      },
      "source": [
        ""
      ],
      "execution_count": 4,
      "outputs": []
    }
  ]
}
