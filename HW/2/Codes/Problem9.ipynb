{
  "nbformat": 4,
  "nbformat_minor": 0,
  "metadata": {
    "colab": {
      "name": "Q9.ipynb",
      "provenance": [],
      "collapsed_sections": []
    },
    "kernelspec": {
      "name": "python3",
      "display_name": "Python 3"
    },
    "accelerator": "GPU"
  },
  "cells": [
    {
      "cell_type": "markdown",
      "metadata": {
        "id": "842n5NPFEcmW"
      },
      "source": [
        "**Importing Nesseccary Libraries**"
      ]
    },
    {
      "cell_type": "code",
      "metadata": {
        "id": "lCq5SDZV0FTk"
      },
      "source": [
        "import numpy as np\n",
        "from numpy import linalg as LA\n",
        "import pandas as pd\n",
        "import random\n",
        "import itertools\n",
        "\n",
        "import matplotlib.pyplot as plt\n",
        "import matplotlib\n",
        "from tabulate import tabulate\n",
        "\n",
        "from google.colab import drive\n",
        "\n",
        "from sklearn.naive_bayes import GaussianNB\n",
        "from sklearn.metrics import f1_score as f1Score\n",
        "from sklearn import preprocessing\n",
        "\n",
        "random.seed(42)"
      ],
      "execution_count": 1,
      "outputs": []
    },
    {
      "cell_type": "markdown",
      "metadata": {
        "id": "2nNaVsx54phE"
      },
      "source": [
        "Part A:"
      ]
    },
    {
      "cell_type": "markdown",
      "metadata": {
        "id": "8Vf5hiTTPbQH"
      },
      "source": [
        "Gaussian Naive Bayesian"
      ]
    },
    {
      "cell_type": "code",
      "metadata": {
        "id": "3MMcWcdaPwSJ"
      },
      "source": [
        "class myGNB():\n",
        "  def __init__(self, _varSmoothing=1e-09):\n",
        "    self.varSmoothing = _varSmoothing\n",
        "    print('The classifier is created successfully!')\n",
        "    [print('*') for i in range(5)]\n",
        "\n",
        "  def fit(self, _trainData, _trainLabels):\n",
        "    self.trainData = _trainData\n",
        "    self.trainLabels = _trainLabels\n",
        "\n",
        "    self.labels = np.unique(self.trainLabels)\n",
        "    self.info = {int(label):[] for label in self.labels}\n",
        "\n",
        "    for label in self.labels:\n",
        "      trainDataOneLabel = self.trainData[np.where(self.trainLabels==label)]\n",
        "      \n",
        "      for data in trainDataOneLabel.T:\n",
        "        parameters = {'mean': data.mean(), 'var': data.var()}\n",
        "        self.info[label].append(parameters)\n",
        "\n",
        "  def calcLikelihood(self, x, mean, var):\n",
        "    return 1/np.sqrt(2*np.pi*(var+self.varSmoothing)) * np.exp(-(x-mean)**2/(2*(var+self.varSmoothing)))\n",
        "\n",
        "  def calcPrior(self, label):\n",
        "    return np.mean(self.trainLabels==label)\n",
        "\n",
        "  def performClassif(self, data):\n",
        "\n",
        "    posteriors = []\n",
        "    for label in self.labels:\n",
        "      posterior = self.calcPrior(label)\n",
        "\n",
        "      for feature, parameters in zip(data, self.info[int(label)]):\n",
        "        posterior *= self.calcLikelihood(feature, parameters['mean'], parameters['var'])\n",
        "\n",
        "      posteriors.append(posterior)\n",
        "\n",
        "    return self.labels[np.argmax(posteriors)]\n",
        "\n",
        "  def predict(self, testData):\n",
        "    return [self.performClassif(data) for data in testData]"
      ],
      "execution_count": 2,
      "outputs": []
    },
    {
      "cell_type": "markdown",
      "metadata": {
        "id": "EA4IsOHYcurw"
      },
      "source": [
        "Optimal Bayesian"
      ]
    },
    {
      "cell_type": "code",
      "metadata": {
        "id": "3_FhoK3Ic1Sx"
      },
      "source": [
        "class myGOptB():\n",
        "  \"\"\"\n",
        "  In order to fix the matrix which is singular, two methods are used. If adding \n",
        "  aI (where a is given in the initalization part and given as varSmoothing, \n",
        "  and I is the unity matrix) is desired, the given method needs to be \"Unity Matrix\". \n",
        "  On the other hand, if employing eigen values of a matrix is desired, the given \n",
        "  method needs to be \"Eigen Values\".\n",
        "  \"\"\"\n",
        "\n",
        "  def __init__(self, varSmoothing=1e-01, method=\"Unity Matrix\"):\n",
        "    self.varSmoothing = varSmoothing\n",
        "    self.method = method\n",
        "    print('The classifier is created successfully!')\n",
        "    [print('*') for i in range(5)]\n",
        "\n",
        "  def fit(self, _trainData, _trainLabels):\n",
        "    self.trainData = _trainData\n",
        "    self.trainLabels = _trainLabels\n",
        "    self.labels = np.unique(self.trainLabels)\n",
        "    self.numOfLabels = len(self.labels)\n",
        "    self.meanOfClasses = self.calcMean()\n",
        "    self.covOfClasses = self.calcCovariance()\n",
        "\n",
        "  def calcCovariance(self):\n",
        "    return [np.cov(self.trainData[self.trainLabels == i].T) for i \n",
        "            in range(self.numOfLabels)] \n",
        "\n",
        "  def calcMean(self):\n",
        "    return [self.trainData[self.trainLabels == i].mean(axis=0) for i \n",
        "            in range(self.numOfLabels)]\n",
        "\n",
        "  def calcDetMat(self, mat):\n",
        "    if self.method == \"Eigen Values\":\n",
        "      eigValues = LA.eig(mat)[0]\n",
        "      return np.prod([abs(i) for i in eigValues if abs(i)>1e-05])\n",
        "    return LA.det(mat+self.varSmoothing*np.eye(len(mat)))\n",
        "\n",
        "\n",
        "  def calcPrior(self, label):\n",
        "    return np.mean(self.trainLabels==label)\n",
        "\n",
        "  def calcLikelihood(self, data, index):\n",
        "    if LA.det(self.covOfClasses[index]) == 0:\n",
        "      invOfMt = LA.pinv(self.covOfClasses[index])\n",
        "      detOfMat = self.calcDetMat(self.covOfClasses[index])\n",
        "    else:\n",
        "      invOfMt = LA.inv(self.covOfClasses[index])\n",
        "      detOfMat = LA.det(self.covOfClasses[index])\n",
        "\n",
        "    return np.exp((-1/2) * np.diag((((data-self.meanOfClasses[index])) @ (invOfMt) \n",
        "                  @ (data-self.meanOfClasses[index]).T))) * ((detOfMat)**(-0.5) \n",
        "                  * (2*np.pi)**(-self.numOfLabels/2))\n",
        "\n",
        "  def performClassif(self, data):\n",
        "    posteriors = []\n",
        "\n",
        "    for label in range(self.numOfLabels):\n",
        "      likelihood = self.calcLikelihood(data, label)\n",
        "      posteriors.append(likelihood *self.calcPrior(label))\n",
        "\n",
        "    return posteriors\n",
        "\n",
        "  def predict(self, data):\n",
        "    return np.argmax(self.performClassif(data), axis = 0)\n",
        "\n"
      ],
      "execution_count": 3,
      "outputs": []
    },
    {
      "cell_type": "markdown",
      "metadata": {
        "id": "Bcbrje2olHex"
      },
      "source": [
        "Part B:"
      ]
    },
    {
      "cell_type": "markdown",
      "metadata": {
        "id": "kWQ3dObve6c-"
      },
      "source": [
        "Confusion Matrix:"
      ]
    },
    {
      "cell_type": "code",
      "metadata": {
        "id": "-OScyM1JbpOp"
      },
      "source": [
        "def calcConfMat(testLabels, predLabels):\n",
        "  \n",
        "  classLabels = np.unique(testLabels)  \n",
        "  return np.array([[np.sum((testLabels == classLabels[i]) & (predLabels == classLabels[j])) for j in range(len(classLabels))] for i in  range(len(classLabels))]) "
      ],
      "execution_count": 4,
      "outputs": []
    },
    {
      "cell_type": "markdown",
      "metadata": {
        "id": "Mfekg753njGj"
      },
      "source": [
        "Calculating Recall Using Confusion Matrix"
      ]
    },
    {
      "cell_type": "code",
      "metadata": {
        "id": "ZNyr4S6qnp8p"
      },
      "source": [
        "def calcRecallConfMat(confMat):\n",
        "    \n",
        "    FN = confMat.sum(axis=1) - np.diag(confMat)\n",
        "    TP = np.diag(confMat)\n",
        "    \n",
        "    return TP/(TP+FN)"
      ],
      "execution_count": 5,
      "outputs": []
    },
    {
      "cell_type": "markdown",
      "metadata": {
        "id": "WHZKdlUgn_3c"
      },
      "source": [
        "Calculating Precision Using Confusion Matrix"
      ]
    },
    {
      "cell_type": "code",
      "metadata": {
        "id": "ZIhBkYf8oJ2K"
      },
      "source": [
        "def calcPrecisionConfMat(confMat):  \n",
        "    FP = confMat.sum(axis=0) - np.diag(confMat) \n",
        "    TP = np.diag(confMat)\n",
        "    \n",
        "    return TP/(TP+FP)"
      ],
      "execution_count": 6,
      "outputs": []
    },
    {
      "cell_type": "markdown",
      "metadata": {
        "id": "y6Yo38vIqN5A"
      },
      "source": [
        "Print Tables Beautifully :)"
      ]
    },
    {
      "cell_type": "code",
      "metadata": {
        "id": "icwwMmAAqSX9"
      },
      "source": [
        "def plotTable(clms, clmDataHeadears, alignSize):\n",
        "    data = []\n",
        "    \n",
        "    for i in range(len(clms[list(clms.keys())[0]])):\n",
        "        dataElement = []\n",
        "        for key in clms.keys():\n",
        "            dataElement.append(clms[key][i])\n",
        "        data.append(dataElement)\n",
        "        \n",
        "    print(tabulate(data, headers=clmDataHeadears, tablefmt=\"fancy_grid\", \n",
        "                   colalign=[\"center\"]*alignSize))"
      ],
      "execution_count": 7,
      "outputs": []
    },
    {
      "cell_type": "markdown",
      "metadata": {
        "id": "mBYSYusqqp__"
      },
      "source": [
        "Calulate F1 Scores:"
      ]
    },
    {
      "cell_type": "code",
      "metadata": {
        "id": "M_7cWkw0qqpP"
      },
      "source": [
        "def calcF1Score(matrix):\n",
        "  f1Scores = 2 * calcPrecisionConfMat(matrix) * calcRecallConfMat(matrix)/(calcPrecisionConfMat(matrix)+calcRecallConfMat(matrix))\n",
        "  plotTable({1:[\"F1 Score\"], \n",
        "                2:['{:1.4f}'.format(f1Scores[0])],\n",
        "                3:['{:1.4f}'.format(f1Scores[1])],\n",
        "                4:['{:1.4f}'.format(f1Scores[2])],\n",
        "                5:['{:1.4f}'.format(f1Scores[3])],\n",
        "                6:['{:1.4f}'.format(f1Scores[4])],\n",
        "                7:['{:1.4f}'.format(f1Scores[5])],\n",
        "                8:['{:1.4f}'.format(f1Scores[6])],\n",
        "                9:['{:1.4f}'.format(f1Scores[7])],\n",
        "                10:['{:1.4f}'.format(f1Scores[8])],\n",
        "                11:['{:1.4f}'.format(f1Scores[9])],},\n",
        "                ['class'+str(i) for i in range(1,11)], 11) "
      ],
      "execution_count": 8,
      "outputs": []
    },
    {
      "cell_type": "markdown",
      "metadata": {
        "id": "d89kCBILlKXh"
      },
      "source": [
        "Read Tiny MNIST"
      ]
    },
    {
      "cell_type": "code",
      "metadata": {
        "id": "SUgDmx5xlayZ",
        "outputId": "4365329e-0be3-4303-f1e5-b50d842381b5",
        "colab": {
          "base_uri": "https://localhost:8080/"
        }
      },
      "source": [
        "drive.mount('/content/gdrive')\n",
        "trainDataMN = pd.read_csv(r'/content/gdrive/My Drive/Colab Notebooks/HW/2/trainData.csv', \n",
        "                          header=None).values\n",
        "trainLabelsMN = pd.read_csv(r'/content/gdrive/My Drive/Colab Notebooks/HW/2/trainLabels.csv',\n",
        "                            header=None).values\n",
        "testDataMN = pd.read_csv(r'/content/gdrive/My Drive/Colab Notebooks/HW/2/testData.csv', \n",
        "                         header=None).values\n",
        "testLabelsMN = pd.read_csv(r'/content/gdrive/My Drive/Colab Notebooks/HW/2/testLabels.csv', \n",
        "                           header=None).values"
      ],
      "execution_count": 9,
      "outputs": [
        {
          "output_type": "stream",
          "text": [
            "Mounted at /content/gdrive\n"
          ],
          "name": "stdout"
        }
      ]
    },
    {
      "cell_type": "markdown",
      "metadata": {
        "id": "o39g1OBSlhMz"
      },
      "source": [
        "Plot One Data to Gain Insight"
      ]
    },
    {
      "cell_type": "code",
      "metadata": {
        "id": "1rgv7wwzlWUf",
        "outputId": "24f6a92d-f4f9-44ec-9283-f95fe52c8fe1",
        "colab": {
          "base_uri": "https://localhost:8080/",
          "height": 281
        }
      },
      "source": [
        "reshapeSize = int(np.sqrt(len(testDataMN[0][:]))) \n",
        "#Choose a random image to show:\n",
        "n = random.sample(range(0, len(testDataMN[0][:])), 1) \n",
        "\n",
        "#Showing the image with it's assigend label:\n",
        "plt.imshow(testDataMN[n][:].reshape(reshapeSize, reshapeSize), cmap=plt.cm.Purples)\n",
        "plt.title(testLabelsMN[n][0][0])\n",
        "plt.show()"
      ],
      "execution_count": 10,
      "outputs": [
        {
          "output_type": "display_data",
          "data": {
            "image/png": "[encoded data removed]",
            "text/plain": [
              "<Figure size 432x288 with 1 Axes>"
            ]
          },
          "metadata": {
            "tags": [],
            "needs_background": "light"
          }
        }
      ]
    },
    {
      "cell_type": "markdown",
      "metadata": {
        "id": "gJpR687Xl0pt"
      },
      "source": [
        "Employing My Implemetation of Gaussian Naive Bayes Classifier"
      ]
    },
    {
      "cell_type": "code",
      "metadata": {
        "id": "omkG81F-l0Jg",
        "outputId": "19da645b-cde9-4823-a47b-1f3796397e16",
        "colab": {
          "base_uri": "https://localhost:8080/"
        }
      },
      "source": [
        "myClsfGNB = myGNB(1e-01)\n",
        "myClsfGNB.fit(trainDataMN, trainLabelsMN.ravel())\n",
        "predLabelsGNB = myClsfGNB.predict(testDataMN)\n",
        "print('The accuracy of employing my implementation of Gaussian Naive Bayes' \n",
        "      ' classifier is: %1.2f %%' %((predLabelsGNB==testLabelsMN.ravel()).mean()*100))\n",
        "\n",
        "#Calculating Confusion Matrix:\n",
        "myConfMat = calcConfMat(testLabelsMN.ravel(), predLabelsGNB)\n",
        "#F1 Score of Classes:\n",
        "calcF1Score(myConfMat)"
      ],
      "execution_count": 11,
      "outputs": [
        {
          "output_type": "stream",
          "text": [
            "The classifier is created successfully!\n",
            "*\n",
            "*\n",
            "*\n",
            "*\n",
            "*\n",
            "The accuracy of employing my implementation of Gaussian Naive Bayes classifier is: 70.56 %\n",
            "╒══════════╤══════════╤══════════╤══════════╤══════════╤══════════╤══════════╤══════════╤══════════╤══════════╤═══════════╕\n",
            "│          │  class1  │  class2  │  class3  │  class4  │  class5  │  class6  │  class7  │  class8  │  class9  │  class10  │\n",
            "╞══════════╪══════════╪══════════╪══════════╪══════════╪══════════╪══════════╪══════════╪══════════╪══════════╪═══════════╡\n",
            "│ F1 Score │  0.8665  │  0.6619  │  0.649   │  0.7203  │  0.7555  │  0.5738  │  0.7783  │  0.7812  │   0.56   │   0.698   │\n",
            "╘══════════╧══════════╧══════════╧══════════╧══════════╧══════════╧══════════╧══════════╧══════════╧══════════╧═══════════╛\n"
          ],
          "name": "stdout"
        }
      ]
    },
    {
      "cell_type": "markdown",
      "metadata": {
        "id": "MkGnT6nAm0SZ"
      },
      "source": [
        "Employing My Implemetation of Gaussian Optimal Bayes Classifier"
      ]
    },
    {
      "cell_type": "code",
      "metadata": {
        "id": "FX32gr55nK0q",
        "outputId": "abdef8ab-2244-4310-d570-8c1f730a36be",
        "colab": {
          "base_uri": "https://localhost:8080/"
        }
      },
      "source": [
        "myClsfGOptB = myGOptB(1e-01, \"Unity Matrix\")\n",
        "myClsfGOptB.fit(trainDataMN, trainLabelsMN.ravel())\n",
        "predLabelsGOptB = myClsfGOptB.predict(testDataMN)\n",
        "print('The accuracy of employing my implementation of Gaussian Optimal Bayes' \n",
        "      ' classifier (using unity matrix) is: %1.2f %%' \n",
        "      %((predLabelsGOptB==testLabelsMN.ravel()).mean()*100))\n",
        "\n",
        "#Calculating Confusion Matrix:\n",
        "myConfMat = calcConfMat(testLabelsMN.ravel(), predLabelsGOptB)\n",
        "#F1 Score of Classes:\n",
        "calcF1Score(myConfMat)\n",
        "\n",
        "myClsfGOptB = myGOptB(method=\"Eigen Values\")\n",
        "myClsfGOptB.fit(trainDataMN, trainLabelsMN.ravel())\n",
        "predLabelsGOptB = myClsfGOptB.predict(testDataMN)\n",
        "print('The accuracy of employing my implementation of Gaussian Optimal Bayes' \n",
        "      'classifier (using eigen values) is: %1.2f %%' \n",
        "      %((predLabelsGOptB==testLabelsMN.ravel()).mean()*100))\n",
        "\n",
        "#Calculating Confusion Matrix:\n",
        "myConfMat = calcConfMat(testLabelsMN.ravel(), predLabelsGOptB)\n",
        "#F1 Score of Classes:\n",
        "calcF1Score(myConfMat)"
      ],
      "execution_count": 12,
      "outputs": [
        {
          "output_type": "stream",
          "text": [
            "The classifier is created successfully!\n",
            "*\n",
            "*\n",
            "*\n",
            "*\n",
            "*\n",
            "The accuracy of employing my implementation of Gaussian Optimal Bayes classifier (using unity matrix) is: 82.60 %\n",
            "╒══════════╤══════════╤══════════╤══════════╤══════════╤══════════╤══════════╤══════════╤══════════╤══════════╤═══════════╕\n",
            "│          │  class1  │  class2  │  class3  │  class4  │  class5  │  class6  │  class7  │  class8  │  class9  │  class10  │\n",
            "╞══════════╪══════════╪══════════╪══════════╪══════════╪══════════╪══════════╪══════════╪══════════╪══════════╪═══════════╡\n",
            "│ F1 Score │  0.8607  │  0.894   │  0.8489  │  0.8021  │  0.8545  │  0.7052  │  0.8792  │  0.8889  │  0.6624  │  0.8816   │\n",
            "╘══════════╧══════════╧══════════╧══════════╧══════════╧══════════╧══════════╧══════════╧══════════╧══════════╧═══════════╛\n",
            "The classifier is created successfully!\n",
            "*\n",
            "*\n",
            "*\n",
            "*\n",
            "*\n",
            "The accuracy of employing my implementation of Gaussian Optimal Bayesclassifier (using eigen values) is: 79.84 %\n",
            "╒══════════╤══════════╤══════════╤══════════╤══════════╤══════════╤══════════╤══════════╤══════════╤══════════╤═══════════╕\n",
            "│          │  class1  │  class2  │  class3  │  class4  │  class5  │  class6  │  class7  │  class8  │  class9  │  class10  │\n",
            "╞══════════╪══════════╪══════════╪══════════╪══════════╪══════════╪══════════╪══════════╪══════════╪══════════╪═══════════╡\n",
            "│ F1 Score │  0.8739  │  0.6835  │  0.7065  │  0.7935  │  0.8372  │  0.8159  │  0.8926  │  0.8722  │  0.7084  │  0.8545   │\n",
            "╘══════════╧══════════╧══════════╧══════════╧══════════╧══════════╧══════════╧══════════╧══════════╧══════════╧═══════════╛\n"
          ],
          "name": "stdout"
        }
      ]
    },
    {
      "cell_type": "markdown",
      "metadata": {
        "id": "dfIwUm60oaHr"
      },
      "source": [
        "Part C"
      ]
    },
    {
      "cell_type": "markdown",
      "metadata": {
        "id": "04OOChgXocCZ"
      },
      "source": [
        "Read Noisy Moons"
      ]
    },
    {
      "cell_type": "code",
      "metadata": {
        "id": "qvOuEvapoeMa"
      },
      "source": [
        "noisyMoons = pd.read_csv(r'/content/gdrive/My Drive/Colab Notebooks/HW/2/Noisy Moons.csv', header=None)"
      ],
      "execution_count": 13,
      "outputs": []
    },
    {
      "cell_type": "markdown",
      "metadata": {
        "id": "SMDS2Qhuo2k3"
      },
      "source": [
        "Represing 5 Rows of It:"
      ]
    },
    {
      "cell_type": "code",
      "metadata": {
        "id": "Gg32B6Yvo7RU",
        "outputId": "43814743-b1b6-4ba5-9f89-8eb810e76bfc",
        "colab": {
          "base_uri": "https://localhost:8080/",
          "height": 198
        }
      },
      "source": [
        "noisyMoons.head(n=5)"
      ],
      "execution_count": 14,
      "outputs": [
        {
          "output_type": "execute_result",
          "data": {
            "text/html": [
              "<div>\n",
              "<style scoped>\n",
              "    .dataframe tbody tr th:only-of-type {\n",
              "        vertical-align: middle;\n",
              "    }\n",
              "\n",
              "    .dataframe tbody tr th {\n",
              "        vertical-align: top;\n",
              "    }\n",
              "\n",
              "    .dataframe thead th {\n",
              "        text-align: right;\n",
              "    }\n",
              "</style>\n",
              "<table border=\"1\" class=\"dataframe\">\n",
              "  <thead>\n",
              "    <tr style=\"text-align: right;\">\n",
              "      <th></th>\n",
              "      <th>0</th>\n",
              "      <th>1</th>\n",
              "      <th>2</th>\n",
              "    </tr>\n",
              "  </thead>\n",
              "  <tbody>\n",
              "    <tr>\n",
              "      <th>0</th>\n",
              "      <td>0.356071</td>\n",
              "      <td>0.900969</td>\n",
              "      <td>0.0</td>\n",
              "    </tr>\n",
              "    <tr>\n",
              "      <th>1</th>\n",
              "      <td>-0.211718</td>\n",
              "      <td>0.470320</td>\n",
              "      <td>1.0</td>\n",
              "    </tr>\n",
              "    <tr>\n",
              "      <th>2</th>\n",
              "      <td>0.143059</td>\n",
              "      <td>0.105296</td>\n",
              "      <td>1.0</td>\n",
              "    </tr>\n",
              "    <tr>\n",
              "      <th>3</th>\n",
              "      <td>1.742551</td>\n",
              "      <td>-0.119097</td>\n",
              "      <td>1.0</td>\n",
              "    </tr>\n",
              "    <tr>\n",
              "      <th>4</th>\n",
              "      <td>1.931149</td>\n",
              "      <td>-0.266267</td>\n",
              "      <td>1.0</td>\n",
              "    </tr>\n",
              "  </tbody>\n",
              "</table>\n",
              "</div>"
            ],
            "text/plain": [
              "          0         1    2\n",
              "0  0.356071  0.900969  0.0\n",
              "1 -0.211718  0.470320  1.0\n",
              "2  0.143059  0.105296  1.0\n",
              "3  1.742551 -0.119097  1.0\n",
              "4  1.931149 -0.266267  1.0"
            ]
          },
          "metadata": {
            "tags": []
          },
          "execution_count": 14
        }
      ]
    },
    {
      "cell_type": "markdown",
      "metadata": {
        "id": "vnkFyRzro_Z3"
      },
      "source": [
        "Plotting Data Based on Its Classes"
      ]
    },
    {
      "cell_type": "code",
      "metadata": {
        "id": "dmqXI3LIpAVO",
        "outputId": "d08dac63-c30d-454e-84a2-fd131a5cebc2",
        "colab": {
          "base_uri": "https://localhost:8080/",
          "height": 295
        }
      },
      "source": [
        "noisyMoons = noisyMoons.values\n",
        "zerosData = np.array([noisyMoons[i,0:2] for i in range(len(noisyMoons)) if noisyMoons[i,2]==0])\n",
        "onesData = np.array([noisyMoons[i,0:2] for i in range(len(noisyMoons)) if noisyMoons[i,2]==1])\n",
        "\n",
        "\n",
        "plt.scatter(zerosData[:,0], zerosData[:,1],\n",
        "                marker='*', color='mediumpurple', label=0)\n",
        "plt.scatter(onesData[:,0], onesData[:,1],\n",
        "                marker='+', color='slateblue', label=1)\n",
        "\n",
        "plt.title('Noisy Moons')\n",
        "plt.xlabel('First Feature')\n",
        "plt.ylabel('Second Feature')\n",
        "plt.legend(loc=\"lower right\")\n",
        "plt.show()"
      ],
      "execution_count": 15,
      "outputs": [
        {
          "output_type": "display_data",
          "data": {
            "image/png": "[encoded data removed]",
            "text/plain": [
              "<Figure size 432x288 with 1 Axes>"
            ]
          },
          "metadata": {
            "tags": [],
            "needs_background": "light"
          }
        }
      ]
    },
    {
      "cell_type": "markdown",
      "metadata": {
        "id": "n3sLv9DKO0b2"
      },
      "source": [
        "Splitting Data"
      ]
    },
    {
      "cell_type": "code",
      "metadata": {
        "id": "jptxRYKjOzyF"
      },
      "source": [
        "def splitData(X, y, totalSize, testSize):\n",
        "  indexes = random.sample(range(0, totalSize), testSize)\n",
        "  indexes.sort()\n",
        "\n",
        "  testData = X[indexes]\n",
        "  testLabel = y[indexes]\n",
        "\n",
        "  XList = X.tolist()\n",
        "  for i in range(testSize):\n",
        "    XList.pop(indexes[i]-i)\n",
        "  trainData = np.array(XList)\n",
        "\n",
        "  y = np.delete(y, indexes)\n",
        "  trainLabel = y\n",
        "\n",
        "  return trainData, trainLabel, testData, testLabel"
      ],
      "execution_count": 16,
      "outputs": []
    },
    {
      "cell_type": "markdown",
      "metadata": {
        "id": "jODkJzewPJn0"
      },
      "source": [
        "Splitting Noisy Moon Data"
      ]
    },
    {
      "cell_type": "code",
      "metadata": {
        "id": "vxBbK71Kjs3_"
      },
      "source": [
        "#Extracting Features:\n",
        "X = noisyMoons[:,0:2]\n",
        "\n",
        "#Extracting Labels(Classes):\n",
        "y = noisyMoons[:,2]\n",
        "\n",
        "#Splitting Data:\n",
        "trainData, trainLabels, testData, testLabels = splitData(X, y, len(X), int(0.2*len(X)))"
      ],
      "execution_count": 17,
      "outputs": []
    },
    {
      "cell_type": "markdown",
      "metadata": {
        "id": "sjpEGyDNCL4a"
      },
      "source": [
        "Calulate F1 Scores:"
      ]
    },
    {
      "cell_type": "code",
      "metadata": {
        "id": "WJMKSqCHCL4e"
      },
      "source": [
        "def calcF1ScoreMoon(matrix):\n",
        "  f1Scores = 2 * calcPrecisionConfMat(matrix) * calcRecallConfMat(matrix)/(calcPrecisionConfMat(matrix)+calcRecallConfMat(matrix))\n",
        "  plotTable({1:[\"F1 Score\"], \n",
        "                2:['{:1.4f}'.format(f1Scores[0])],\n",
        "                3:['{:1.4f}'.format(f1Scores[1])]},\n",
        "                ['class'+str(i) for i in range(1,3)], 3) "
      ],
      "execution_count": 18,
      "outputs": []
    },
    {
      "cell_type": "markdown",
      "metadata": {
        "id": "4WDBiioHpvf6"
      },
      "source": [
        "Employing My Implemetation of Gaussian Naive Bayes Classifier"
      ]
    },
    {
      "cell_type": "code",
      "metadata": {
        "id": "yDJTPRUfpvHZ",
        "outputId": "b0f1bedd-3cc1-47d1-c53e-ddd6084fa6f0",
        "colab": {
          "base_uri": "https://localhost:8080/"
        }
      },
      "source": [
        "myClsfGNB = myGNB(1e-07)\n",
        "myClsfGNB.fit(trainData, trainLabels)\n",
        "predLabelsGNB = myClsfGNB.predict(testData)\n",
        "print('The accuracy of employing my implementation of Gaussian Naive Bayes'\n",
        "      ' classifier is: %1.2f %%' %((predLabelsGNB==testLabels).mean()*100))\n",
        "\n",
        "#Calculating Confusion Matrix:\n",
        "myConfMat = calcConfMat(testLabels, predLabelsGNB)\n",
        "#F1 Score of Classes:\n",
        "calcF1ScoreMoon(myConfMat)"
      ],
      "execution_count": 19,
      "outputs": [
        {
          "output_type": "stream",
          "text": [
            "The classifier is created successfully!\n",
            "*\n",
            "*\n",
            "*\n",
            "*\n",
            "*\n",
            "The accuracy of employing my implementation of Gaussian Naive Bayes classifier is: 87.00 %\n",
            "╒══════════╤══════════╤══════════╕\n",
            "│          │  class1  │  class2  │\n",
            "╞══════════╪══════════╪══════════╡\n",
            "│ F1 Score │  0.8687  │  0.8713  │\n",
            "╘══════════╧══════════╧══════════╛\n"
          ],
          "name": "stdout"
        }
      ]
    },
    {
      "cell_type": "markdown",
      "metadata": {
        "id": "XsVCYUPMqT-7"
      },
      "source": [
        "Employing My Implemetation of Gaussian Optimal Bayes Classifier"
      ]
    },
    {
      "cell_type": "code",
      "metadata": {
        "id": "MNcrZoWeqUcE",
        "outputId": "7570ccd9-4cb6-4e00-b347-91f9972f05bd",
        "colab": {
          "base_uri": "https://localhost:8080/"
        }
      },
      "source": [
        "myClsfGOptB = myGOptB(1e-01, \"Unity Matrix\")\n",
        "myClsfGOptB.fit(trainData, trainLabels)\n",
        "predLabelsGOptB = myClsfGOptB.predict(testData)\n",
        "print('The accuracy of employing my implementation of Gaussian Optimal Bayes' \n",
        "      ' classifier (using unity matrix) is: %1.2f %%' \n",
        "      %((predLabelsGOptB==testLabels).mean()*100))\n",
        "\n",
        "#Calculating Confusion Matrix:\n",
        "myConfMat = calcConfMat(testLabels, predLabelsGOptB)\n",
        "#F1 Score of Classes:\n",
        "calcF1ScoreMoon(myConfMat)\n",
        "\n",
        "myClsfGOptB = myGOptB(method=\"Eigen Values\")\n",
        "myClsfGOptB.fit(trainData, trainLabels)\n",
        "predLabelsGOptB = myClsfGOptB.predict(testData)\n",
        "print('The accuracy of employing my implementation of Gaussian Optimal Bayes' \n",
        "      ' classifier (using eigen values) is: %1.2f %%' \n",
        "      %((predLabelsGOptB==testLabels).mean()*100))\n",
        "\n",
        "\n",
        "#Calculating Confusion Matrix:\n",
        "myConfMat = calcConfMat(testLabels, predLabelsGOptB)\n",
        "#F1 Score of Classes:\n",
        "calcF1ScoreMoon(myConfMat)"
      ],
      "execution_count": 20,
      "outputs": [
        {
          "output_type": "stream",
          "text": [
            "The classifier is created successfully!\n",
            "*\n",
            "*\n",
            "*\n",
            "*\n",
            "*\n",
            "The accuracy of employing my implementation of Gaussian Optimal Bayes classifier (using unity matrix) is: 88.00 %\n",
            "╒══════════╤══════════╤══════════╕\n",
            "│          │  class1  │  class2  │\n",
            "╞══════════╪══════════╪══════════╡\n",
            "│ F1 Score │  0.8776  │  0.8824  │\n",
            "╘══════════╧══════════╧══════════╛\n",
            "The classifier is created successfully!\n",
            "*\n",
            "*\n",
            "*\n",
            "*\n",
            "*\n",
            "The accuracy of employing my implementation of Gaussian Optimal Bayes classifier (using eigen values) is: 88.00 %\n",
            "╒══════════╤══════════╤══════════╕\n",
            "│          │  class1  │  class2  │\n",
            "╞══════════╪══════════╪══════════╡\n",
            "│ F1 Score │  0.8776  │  0.8824  │\n",
            "╘══════════╧══════════╧══════════╛\n"
          ],
          "name": "stdout"
        }
      ]
    },
    {
      "cell_type": "markdown",
      "metadata": {
        "id": "5IXTPOohqvj2"
      },
      "source": [
        "Part D:"
      ]
    },
    {
      "cell_type": "markdown",
      "metadata": {
        "id": "wdhaidksq5fs"
      },
      "source": [
        "Tiny MNIST"
      ]
    },
    {
      "cell_type": "markdown",
      "metadata": {
        "id": "bylxN2giBJnr"
      },
      "source": [
        "Calculate F1 Score with SKLearn"
      ]
    },
    {
      "cell_type": "code",
      "metadata": {
        "id": "6YGFjRV8BJ9c"
      },
      "source": [
        "def calcf1ScoreSK(testLabels, predLabels):\n",
        "  f1Scores = f1Score(testLabels, predLabels, average=None)\n",
        "  plotTable({1:[\"F1 Score\"], \n",
        "                2:['{:1.4f}'.format(f1Scores[0])],\n",
        "                3:['{:1.4f}'.format(f1Scores[1])],\n",
        "                4:['{:1.4f}'.format(f1Scores[2])],\n",
        "                5:['{:1.4f}'.format(f1Scores[3])],\n",
        "                6:['{:1.4f}'.format(f1Scores[4])],\n",
        "                7:['{:1.4f}'.format(f1Scores[5])],\n",
        "                8:['{:1.4f}'.format(f1Scores[6])],\n",
        "                9:['{:1.4f}'.format(f1Scores[7])],\n",
        "                10:['{:1.4f}'.format(f1Scores[8])],\n",
        "                11:['{:1.4f}'.format(f1Scores[9])],},\n",
        "                ['class'+str(i) for i in range(1,11)], 11) "
      ],
      "execution_count": 21,
      "outputs": []
    },
    {
      "cell_type": "code",
      "metadata": {
        "id": "F8vYWR_JqwG3",
        "outputId": "03fb31da-5dcd-42e4-de07-85b158452453",
        "colab": {
          "base_uri": "https://localhost:8080/"
        }
      },
      "source": [
        "_priors = [np.mean(trainLabelsMN==label) for label in [0,1,2,3,4,5,6,7,8,9]]\n",
        "skClsf = GaussianNB(priors=_priors, var_smoothing=1e-01)\n",
        "# skClsf = GaussianNB(var_smoothing=1e-01)\n",
        "skClsf.fit(trainDataMN, trainLabelsMN.ravel())\n",
        "predLabelsSK = skClsf.predict(testDataMN)\n",
        "print(\"The accuracy of employing sklearn's implementation of Gaussian Naive Bayes classifier is: %1.2f %%\" %((predLabelsSK==testLabelsMN.ravel()).mean()*100))\n",
        "\n",
        "#F1 Score of Classes:\n",
        "calcf1ScoreSK(testLabelsMN.ravel(), predLabelsSK)"
      ],
      "execution_count": 22,
      "outputs": [
        {
          "output_type": "stream",
          "text": [
            "The accuracy of employing sklearn's implementation of Gaussian Naive Bayes classifier is: 75.44 %\n",
            "╒══════════╤══════════╤══════════╤══════════╤══════════╤══════════╤══════════╤══════════╤══════════╤══════════╤═══════════╕\n",
            "│          │  class1  │  class2  │  class3  │  class4  │  class5  │  class6  │  class7  │  class8  │  class9  │  class10  │\n",
            "╞══════════╪══════════╪══════════╪══════════╪══════════╪══════════╪══════════╪══════════╪══════════╪══════════╪═══════════╡\n",
            "│ F1 Score │  0.8688  │  0.8099  │  0.786   │  0.7713  │  0.7366  │  0.6103  │  0.816   │  0.7992  │  0.6213  │  0.6924   │\n",
            "╘══════════╧══════════╧══════════╧══════════╧══════════╧══════════╧══════════╧══════════╧══════════╧══════════╧═══════════╛\n"
          ],
          "name": "stdout"
        }
      ]
    },
    {
      "cell_type": "markdown",
      "metadata": {
        "id": "KtYi5GW4rhLB"
      },
      "source": [
        "Noisy Moon"
      ]
    },
    {
      "cell_type": "markdown",
      "metadata": {
        "id": "C7_o_JKKEI-H"
      },
      "source": [
        "Calculate F1 Score with SKLearn"
      ]
    },
    {
      "cell_type": "code",
      "metadata": {
        "id": "ZWN2X807EI-K"
      },
      "source": [
        "def calcf1ScoreSKMoon(testLabels, predLabels):\n",
        "  f1Scores = f1Score(testLabels, predLabels, average=None)\n",
        "  plotTable({1:[\"F1 Score\"], \n",
        "                2:['{:1.4f}'.format(f1Scores[0])],\n",
        "                3:['{:1.4f}'.format(f1Scores[1])]},\n",
        "                ['class'+str(i) for i in range(1,3)], 3) "
      ],
      "execution_count": 23,
      "outputs": []
    },
    {
      "cell_type": "code",
      "metadata": {
        "id": "hgKSR0-_1o1M",
        "outputId": "08197d36-870d-4de9-f90c-f1e2d60af3e3",
        "colab": {
          "base_uri": "https://localhost:8080/"
        }
      },
      "source": [
        "skClsf = GaussianNB(var_smoothing=1e-07)\n",
        "skClsf.fit(trainData, trainLabels)\n",
        "predLabelsSK = skClsf.predict(testData)\n",
        "print(\"The accuracy of employing sklearn's implementation of Gaussian Naive Bayes classifier is: %1.2f %%\" %((predLabelsSK==testLabels).mean()*100))\n",
        "#F1 Score of Classes:\n",
        "calcf1ScoreSKMoon(testLabels, predLabelsSK)"
      ],
      "execution_count": 24,
      "outputs": [
        {
          "output_type": "stream",
          "text": [
            "The accuracy of employing sklearn's implementation of Gaussian Naive Bayes classifier is: 87.00 %\n",
            "╒══════════╤══════════╤══════════╕\n",
            "│          │  class1  │  class2  │\n",
            "╞══════════╪══════════╪══════════╡\n",
            "│ F1 Score │  0.8687  │  0.8713  │\n",
            "╘══════════╧══════════╧══════════╛\n"
          ],
          "name": "stdout"
        }
      ]
    },
    {
      "cell_type": "code",
      "metadata": {
        "id": "EvRjZ1t8CQFT"
      },
      "source": [
        ""
      ],
      "execution_count": 24,
      "outputs": []
    }
  ]
}
