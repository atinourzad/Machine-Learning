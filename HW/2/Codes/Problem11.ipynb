{
  "nbformat": 4,
  "nbformat_minor": 0,
  "metadata": {
    "colab": {
      "name": "Q11.ipynb",
      "provenance": [],
      "collapsed_sections": []
    },
    "kernelspec": {
      "name": "python3",
      "display_name": "Python 3"
    }
  },
  "cells": [
    {
      "cell_type": "markdown",
      "metadata": {
        "id": "Grd7lWR1FMWf"
      },
      "source": [
        "Importing Neccessary Libraries"
      ]
    },
    {
      "cell_type": "code",
      "metadata": {
        "id": "z_GindbhBzHd"
      },
      "source": [
        "from google.colab import drive\n",
        "\n",
        "import pandas as pd\n",
        "import numpy as np\n",
        "import random\n",
        "\n",
        "import matplotlib.pyplot as plt\n",
        "\n",
        "from sklearn.linear_model import LogisticRegression\n",
        "\n",
        "random.seed(42)"
      ],
      "execution_count": 1,
      "outputs": []
    },
    {
      "cell_type": "code",
      "metadata": {
        "id": "YA0YJMW_FBE4",
        "outputId": "27715915-f97b-478a-eb07-d23d7d00769f",
        "colab": {
          "base_uri": "https://localhost:8080/"
        }
      },
      "source": [
        "drive.mount('/content/gdrive')"
      ],
      "execution_count": 2,
      "outputs": [
        {
          "output_type": "stream",
          "text": [
            "Drive already mounted at /content/gdrive; to attempt to forcibly remount, call drive.mount(\"/content/gdrive\", force_remount=True).\n"
          ],
          "name": "stdout"
        }
      ]
    },
    {
      "cell_type": "markdown",
      "metadata": {
        "id": "pZ-KsCFAGvGV"
      },
      "source": [
        "Function to Change Dimension"
      ]
    },
    {
      "cell_type": "code",
      "metadata": {
        "id": "E2KtptVGGx-6"
      },
      "source": [
        "def changeDim(x1, x2):\n",
        "  return np.transpose(np.array([(x1**(i-j)*x2**(j)) for i in range(1,7) for j in range(0,i+1)]))"
      ],
      "execution_count": 3,
      "outputs": []
    },
    {
      "cell_type": "markdown",
      "metadata": {
        "id": "PZs76tCRHOXr"
      },
      "source": [
        "Find Decision Region:"
      ]
    },
    {
      "cell_type": "code",
      "metadata": {
        "id": "ILVD5MGtHVV9"
      },
      "source": [
        "def findDecisionRegion(testOneData, testTwoData, descCoeff, descBias):\n",
        "  dimOne, dimTwo = testOneData.shape\n",
        "  decisionRegion = np.array([descCoeff * changeDim(testOneData[i][j], testTwoData[i][j]) for i in range(dimOne) for j in range(dimTwo)])\n",
        "  return (decisionRegion.sum(axis=1) + descBias).reshape(testOneData.shape)\n"
      ],
      "execution_count": 4,
      "outputs": []
    },
    {
      "cell_type": "markdown",
      "metadata": {
        "id": "W9LaM4Eq0Qsd"
      },
      "source": [
        "Main"
      ]
    },
    {
      "cell_type": "code",
      "metadata": {
        "id": "GV_9RbloG_uM",
        "outputId": "4c0c54e3-169c-476c-aad2-86a432c7c32e",
        "colab": {
          "base_uri": "https://localhost:8080/",
          "height": 591
        }
      },
      "source": [
        "#Read Data:\n",
        "data = pd.read_csv(r'/content/gdrive/My Drive/Colab Notebooks/HW/2/quality_test.csv', header=None).sample(frac=1)\n",
        "\n",
        "#Plot DataSet:\n",
        "data = data.values\n",
        "zerosData = np.array([data[i,0:2] for i in range(len(data)) if data[i,2]==0])\n",
        "onesData = np.array([data[i,0:2] for i in range(len(data)) if data[i,2]==1])\n",
        "\n",
        "\n",
        "plt.scatter(zerosData[:,0], zerosData[:,1],\n",
        "                marker='*', color='mediumpurple', label='Reject')\n",
        "plt.scatter(onesData[:,0], onesData[:,1],\n",
        "                marker='o', color='lavender', label='Accept')\n",
        "\n",
        "plt.title('Quality Test')\n",
        "plt.xlabel('Test One')\n",
        "plt.ylabel('Test Two')\n",
        "plt.legend(loc=\"lower right\")\n",
        "plt.show()\n",
        "\n",
        "#Separating Features and Labels:\n",
        "X1 = data[:,0]\n",
        "X2 = data[:,1]\n",
        "\n",
        "y = data[:,2]\n",
        "\n",
        "#Change Dimention:\n",
        "X = changeDim(X1, X2)\n",
        "\n",
        "#Employing Logistic Regression:\n",
        "myClsf = LogisticRegression()\n",
        "myClsf.fit(X, y)\n",
        "\n",
        "#Calculating Accuracy\n",
        "predLabel = myClsf.predict(X)\n",
        "print('The accuracy of this classification is: %1.4f %%' %((predLabel==y).mean()*100))\n",
        "\n",
        "\n",
        "#Find the Desicion Region:\n",
        "\n",
        "#Parameters of Decision Function:\n",
        "descCoeff = np.transpose(myClsf.coef_).ravel()\n",
        "descBias = myClsf.intercept_\n",
        "\n",
        "X = data[:,0:2]\n",
        "testOneDataMin, testOneDataMax, testTwoDataMin, testTwoDataMax = X[:, 0].min()-1, X[:, 0].max()+1, X[:, 1].min()-1, X[:, 1].max()+1\n",
        "\n",
        "\n",
        "#Changing the Dimention of Data:\n",
        "arangeStep = 0.01\n",
        "testOneData, testTwoData = np.meshgrid(np.arange(testOneDataMin, testOneDataMax, arangeStep),np.arange(testTwoDataMin, testTwoDataMax, arangeStep))\n",
        "\n",
        "decisionRegion = findDecisionRegion(testOneData, testTwoData, descCoeff, descBias)\n",
        "\n",
        "#Plotting the Results:\n",
        "plt.scatter(zerosData[:,0], zerosData[:,1],\n",
        "                marker='*', color='mediumpurple', label='Reject')\n",
        "plt.scatter(onesData[:,0], onesData[:,1],\n",
        "                marker='o', color='lavender', label='Accept')\n",
        "\n",
        "plt.contour(testOneData, testTwoData, decisionRegion, levels=[0], colors='slateblue')\n",
        "plt.xlim((-1,1.5))\n",
        "plt.ylim((-1,1.5))\n",
        "plt.title('Quality Test with Decision Function')\n",
        "plt.xlabel('Test One')\n",
        "plt.ylabel('Test Two')\n",
        "plt.legend(loc=\"lower right\")\n",
        "plt.show()"
      ],
      "execution_count": 5,
      "outputs": [
        {
          "output_type": "display_data",
          "data": {
            "image/png": "[encoded data removed]",
            "text/plain": [
              "<Figure size 432x288 with 1 Axes>"
            ]
          },
          "metadata": {
            "tags": [],
            "needs_background": "light"
          }
        },
        {
          "output_type": "stream",
          "text": [
            "The accuracy of this classification is: 83.0508 %\n"
          ],
          "name": "stdout"
        },
        {
          "output_type": "display_data",
          "data": {
            "image/png": "[encoded data removed]",
            "text/plain": [
              "<Figure size 432x288 with 1 Axes>"
            ]
          },
          "metadata": {
            "tags": [],
            "needs_background": "light"
          }
        }
      ]
    },
    {
      "cell_type": "code",
      "metadata": {
        "id": "TmS8yD5DySPX"
      },
      "source": [
        "\n"
      ],
      "execution_count": 5,
      "outputs": []
    }
  ]
}
