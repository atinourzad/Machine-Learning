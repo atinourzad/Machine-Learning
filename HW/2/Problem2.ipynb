{
  "nbformat": 4,
  "nbformat_minor": 0,
  "metadata": {
    "kernelspec": {
      "display_name": "Python 3",
      "language": "python",
      "name": "python3"
    },
    "language_info": {
      "codemirror_mode": {
        "name": "ipython",
        "version": 3
      },
      "file_extension": ".py",
      "mimetype": "text/x-python",
      "name": "python",
      "nbconvert_exporter": "python",
      "pygments_lexer": "ipython3",
      "version": "3.6.9"
    },
    "colab": {
      "name": "Q2.ipynb",
      "provenance": [],
      "collapsed_sections": []
    }
  },
  "cells": [
    {
      "cell_type": "code",
      "metadata": {
        "id": "AfSXBRzgGRhZ"
      },
      "source": [
        "import numpy as np\n",
        "from numpy import linalg as LA\n",
        "from scipy import linalg as sciLA "
      ],
      "execution_count": null,
      "outputs": []
    },
    {
      "cell_type": "code",
      "metadata": {
        "id": "Jy28v3FRGRhi"
      },
      "source": [
        "covMat = np.array([[1,0,0],[0,8,2],[0,2,5]])\n",
        "meanVec = np.array([[1], [2], [1]])\n",
        "X = np.array([[2], [0.5], [3]])"
      ],
      "execution_count": null,
      "outputs": []
    },
    {
      "cell_type": "markdown",
      "metadata": {
        "id": "LqDEsT42GRho"
      },
      "source": [
        "#### Part A:"
      ]
    },
    {
      "cell_type": "code",
      "metadata": {
        "id": "2Rb6XEacGRhp",
        "outputId": "0cbb9fb1-52e8-405c-d9bf-feb27e589a7c"
      },
      "source": [
        "def f(X):\n",
        "    covMatInv = LA.inv(covMat)\n",
        "    covMatDet = LA.det(covMat)\n",
        "    return np.exp(-0.5*np.dot(np.dot((X-meanVec).transpose(),covMatInv),(X-meanVec)))/((2*np.pi)**(3/2)*covMatDet**(0.5))\n",
        "\n",
        "print(f(X))"
      ],
      "execution_count": null,
      "outputs": [
        {
          "output_type": "stream",
          "text": [
            "[[0.00297969]]\n"
          ],
          "name": "stdout"
        }
      ]
    },
    {
      "cell_type": "markdown",
      "metadata": {
        "id": "VbiciyB_GRh3"
      },
      "source": [
        "#### Part B:"
      ]
    },
    {
      "cell_type": "code",
      "metadata": {
        "id": "xecbL38hGRh4",
        "outputId": "e4cb5e8e-45cf-4c04-e17e-804cf7eb23f0"
      },
      "source": [
        "U, V = LA.eig(covMat)\n",
        "print(\"Eigenvalues are:\")\n",
        "print(U)\n",
        "print('\\n')\n",
        "\n",
        "print(\"Eigenvectors are:\")\n",
        "print(V)\n",
        "print('\\n')\n",
        "\n",
        "lambdaMat = np.eye(3) * U\n",
        "A_w = np.dot(V,sciLA.fractional_matrix_power(lambdaMat, -0.5))\n",
        "print(\"A_w transformation matrix is as below:\")\n",
        "print(A_w)\n",
        "print('\\n')"
      ],
      "execution_count": null,
      "outputs": [
        {
          "output_type": "stream",
          "text": [
            "Eigenvalues are:\n",
            "[4. 9. 1.]\n",
            "\n",
            "\n",
            "Eigenvectors are:\n",
            "[[ 0.          0.          1.        ]\n",
            " [ 0.4472136  -0.89442719  0.        ]\n",
            " [-0.89442719 -0.4472136   0.        ]]\n",
            "\n",
            "\n",
            "A_w transformation matrix is as below:\n",
            "[[ 0.         0.         1.       ]\n",
            " [ 0.2236068 -0.2981424  0.       ]\n",
            " [-0.4472136 -0.1490712  0.       ]]\n",
            "\n",
            "\n"
          ],
          "name": "stdout"
        }
      ]
    },
    {
      "cell_type": "markdown",
      "metadata": {
        "id": "gM0WfENPGRh-"
      },
      "source": [
        "#### Part C:"
      ]
    },
    {
      "cell_type": "code",
      "metadata": {
        "id": "CTUm7emaGRh_",
        "outputId": "1ae52a10-0b7c-4ae5-da70-2a1f9e9feb13"
      },
      "source": [
        "y = np.dot(A_w.transpose(), (X-meanVec))\n",
        "print(\"y's coordinates are:\")\n",
        "print(y)"
      ],
      "execution_count": null,
      "outputs": [
        {
          "output_type": "stream",
          "text": [
            "y's coordinates are:\n",
            "[[-1.22983739]\n",
            " [ 0.1490712 ]\n",
            " [ 1.        ]]\n"
          ],
          "name": "stdout"
        }
      ]
    },
    {
      "cell_type": "markdown",
      "metadata": {
        "id": "sMI46NzwGRiE"
      },
      "source": [
        "#### Part D:"
      ]
    },
    {
      "cell_type": "code",
      "metadata": {
        "id": "lanJ0Rq7GRiF",
        "outputId": "18da23da-6e91-4c0b-bdc0-d7a121921429"
      },
      "source": [
        "r2 = np.dot(np.dot((X-meanVec).transpose(),LA.inv(covMat)),(X-meanVec))\n",
        "print(\"The Mahalanobis distance from X to mu is: %1.4f\" %(np.sqrt(r2)))\n",
        "\n",
        "eucY = np.sqrt((y[0]**2+y[1]**2+y[2]**2))\n",
        "print(\"The euclidean distance from y to the origin is: %1.4f\" %(eucY))"
      ],
      "execution_count": null,
      "outputs": [
        {
          "output_type": "stream",
          "text": [
            "The Mahalanobis distance from X to mu is: 1.5921\n",
            "The euclidean distance from y to the origin is: 1.5921\n"
          ],
          "name": "stdout"
        }
      ]
    }
  ]
}