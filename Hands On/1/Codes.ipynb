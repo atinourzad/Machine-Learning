{
 "cells": [
  {
   "cell_type": "markdown",
   "metadata": {},
   "source": [
    "## My Task\n",
    "In this part, since we were asked to predict one of the spendings from others, I decided to choose \"transportation and warehousing\" as a goal. In the following cells, the codes to reach this target is presented."
   ]
  },
  {
   "cell_type": "markdown",
   "metadata": {},
   "source": [
    "#### First of all, the necessary libraries are added."
   ]
  },
  {
   "cell_type": "code",
   "execution_count": 1,
   "metadata": {},
   "outputs": [],
   "source": [
    "import sys\n",
    "assert sys.version_info >= (3, 5)\n",
    "\n",
    "import sklearn\n",
    "assert sklearn.__version__ >= \"0.20\"\n",
    "\n",
    "# Common imports\n",
    "import numpy as np\n",
    "import pandas as pd\n",
    "import os\n",
    "\n",
    "# to make this notebook's output stable across runs\n",
    "np.random.seed(42)\n",
    "\n",
    "# To plot pretty figures\n",
    "%matplotlib inline\n",
    "import matplotlib as mpl\n",
    "import matplotlib.pyplot as plt\n",
    "mpl.rc('axes', labelsize=14)\n",
    "mpl.rc('xtick', labelsize=12)\n",
    "mpl.rc('ytick', labelsize=12)\n",
    "\n",
    "# sklearn stuff\n",
    "from sklearn.metrics import mean_squared_error as MSE\n",
    "from sklearn.pipeline import Pipeline\n",
    "from sklearn.preprocessing import StandardScaler\n",
    "from sklearn.preprocessing import PolynomialFeatures\n",
    "from sklearn.linear_model import SGDRegressor\n",
    "from sklearn.linear_model import LinearRegression\n",
    "from sklearn.model_selection import train_test_split as TrainTestSplitter\n",
    "\n",
    "import warnings\n",
    "warnings.filterwarnings(action=\"ignore\", message=\"^internal gelsd\")"
   ]
  },
  {
   "cell_type": "markdown",
   "metadata": {},
   "source": [
    "#### Secondly, the data is loaded.\n",
    "Due to the fact that it was mentioned in the lecture not to include the total spent money, the colunmn of it is dropped after loading the initial data. "
   ]
  },
  {
   "cell_type": "code",
   "execution_count": 58,
   "metadata": {},
   "outputs": [
    {
     "name": "stdout",
     "output_type": "stream",
     "text": [
      "The resulting data is:\n"
     ]
    },
    {
     "data": {
      "text/html": [
       "<div>\n",
       "<style scoped>\n",
       "    .dataframe tbody tr th:only-of-type {\n",
       "        vertical-align: middle;\n",
       "    }\n",
       "\n",
       "    .dataframe tbody tr th {\n",
       "        vertical-align: top;\n",
       "    }\n",
       "\n",
       "    .dataframe thead th {\n",
       "        text-align: right;\n",
       "    }\n",
       "</style>\n",
       "<table border=\"1\" class=\"dataframe\">\n",
       "  <thead>\n",
       "    <tr style=\"text-align: right;\">\n",
       "      <th></th>\n",
       "      <th>year</th>\n",
       "      <th>month</th>\n",
       "      <th>day</th>\n",
       "      <th>cityid</th>\n",
       "      <th>spend_acf</th>\n",
       "      <th>spend_aer</th>\n",
       "      <th>spend_grf</th>\n",
       "      <th>spend_hcs</th>\n",
       "      <th>spend_tws</th>\n",
       "    </tr>\n",
       "  </thead>\n",
       "  <tbody>\n",
       "    <tr>\n",
       "      <th>0</th>\n",
       "      <td>2020</td>\n",
       "      <td>1</td>\n",
       "      <td>13</td>\n",
       "      <td>1</td>\n",
       "      <td>-0.00322</td>\n",
       "      <td>0.00706</td>\n",
       "      <td>0.00389</td>\n",
       "      <td>-0.03550</td>\n",
       "      <td>-0.00510</td>\n",
       "    </tr>\n",
       "    <tr>\n",
       "      <th>1</th>\n",
       "      <td>2020</td>\n",
       "      <td>1</td>\n",
       "      <td>13</td>\n",
       "      <td>2</td>\n",
       "      <td>0.00660</td>\n",
       "      <td>-0.07790</td>\n",
       "      <td>-0.00956</td>\n",
       "      <td>0.06040</td>\n",
       "      <td>-0.03250</td>\n",
       "    </tr>\n",
       "    <tr>\n",
       "      <th>2</th>\n",
       "      <td>2020</td>\n",
       "      <td>1</td>\n",
       "      <td>13</td>\n",
       "      <td>3</td>\n",
       "      <td>-0.10400</td>\n",
       "      <td>0.03340</td>\n",
       "      <td>0.01240</td>\n",
       "      <td>-0.00547</td>\n",
       "      <td>0.01810</td>\n",
       "    </tr>\n",
       "    <tr>\n",
       "      <th>3</th>\n",
       "      <td>2020</td>\n",
       "      <td>1</td>\n",
       "      <td>13</td>\n",
       "      <td>4</td>\n",
       "      <td>-0.03560</td>\n",
       "      <td>-0.15000</td>\n",
       "      <td>0.00405</td>\n",
       "      <td>0.03050</td>\n",
       "      <td>-0.01790</td>\n",
       "    </tr>\n",
       "    <tr>\n",
       "      <th>4</th>\n",
       "      <td>2020</td>\n",
       "      <td>1</td>\n",
       "      <td>13</td>\n",
       "      <td>5</td>\n",
       "      <td>-0.00770</td>\n",
       "      <td>-0.04040</td>\n",
       "      <td>0.00888</td>\n",
       "      <td>-0.00653</td>\n",
       "      <td>0.00175</td>\n",
       "    </tr>\n",
       "    <tr>\n",
       "      <th>...</th>\n",
       "      <td>...</td>\n",
       "      <td>...</td>\n",
       "      <td>...</td>\n",
       "      <td>...</td>\n",
       "      <td>...</td>\n",
       "      <td>...</td>\n",
       "      <td>...</td>\n",
       "      <td>...</td>\n",
       "      <td>...</td>\n",
       "    </tr>\n",
       "    <tr>\n",
       "      <th>12245</th>\n",
       "      <td>2020</td>\n",
       "      <td>9</td>\n",
       "      <td>13</td>\n",
       "      <td>49</td>\n",
       "      <td>-0.32600</td>\n",
       "      <td>-0.42000</td>\n",
       "      <td>-0.09140</td>\n",
       "      <td>-0.03690</td>\n",
       "      <td>-0.57100</td>\n",
       "    </tr>\n",
       "    <tr>\n",
       "      <th>12246</th>\n",
       "      <td>2020</td>\n",
       "      <td>9</td>\n",
       "      <td>13</td>\n",
       "      <td>50</td>\n",
       "      <td>-0.19800</td>\n",
       "      <td>-0.68700</td>\n",
       "      <td>0.37900</td>\n",
       "      <td>-0.35200</td>\n",
       "      <td>-0.55500</td>\n",
       "    </tr>\n",
       "    <tr>\n",
       "      <th>12247</th>\n",
       "      <td>2020</td>\n",
       "      <td>9</td>\n",
       "      <td>13</td>\n",
       "      <td>51</td>\n",
       "      <td>-0.00545</td>\n",
       "      <td>-0.29800</td>\n",
       "      <td>0.21200</td>\n",
       "      <td>0.61400</td>\n",
       "      <td>-0.32400</td>\n",
       "    </tr>\n",
       "    <tr>\n",
       "      <th>12248</th>\n",
       "      <td>2020</td>\n",
       "      <td>9</td>\n",
       "      <td>13</td>\n",
       "      <td>52</td>\n",
       "      <td>-0.42000</td>\n",
       "      <td>-0.73100</td>\n",
       "      <td>0.16200</td>\n",
       "      <td>-0.35200</td>\n",
       "      <td>-0.56800</td>\n",
       "    </tr>\n",
       "    <tr>\n",
       "      <th>12249</th>\n",
       "      <td>2020</td>\n",
       "      <td>9</td>\n",
       "      <td>13</td>\n",
       "      <td>53</td>\n",
       "      <td>-0.11100</td>\n",
       "      <td>-0.69600</td>\n",
       "      <td>0.01450</td>\n",
       "      <td>-0.09160</td>\n",
       "      <td>-0.39000</td>\n",
       "    </tr>\n",
       "  </tbody>\n",
       "</table>\n",
       "<p>12250 rows × 9 columns</p>\n",
       "</div>"
      ],
      "text/plain": [
       "       year  month  day  cityid  spend_acf  spend_aer  spend_grf  spend_hcs  \\\n",
       "0      2020      1   13       1   -0.00322    0.00706    0.00389   -0.03550   \n",
       "1      2020      1   13       2    0.00660   -0.07790   -0.00956    0.06040   \n",
       "2      2020      1   13       3   -0.10400    0.03340    0.01240   -0.00547   \n",
       "3      2020      1   13       4   -0.03560   -0.15000    0.00405    0.03050   \n",
       "4      2020      1   13       5   -0.00770   -0.04040    0.00888   -0.00653   \n",
       "...     ...    ...  ...     ...        ...        ...        ...        ...   \n",
       "12245  2020      9   13      49   -0.32600   -0.42000   -0.09140   -0.03690   \n",
       "12246  2020      9   13      50   -0.19800   -0.68700    0.37900   -0.35200   \n",
       "12247  2020      9   13      51   -0.00545   -0.29800    0.21200    0.61400   \n",
       "12248  2020      9   13      52   -0.42000   -0.73100    0.16200   -0.35200   \n",
       "12249  2020      9   13      53   -0.11100   -0.69600    0.01450   -0.09160   \n",
       "\n",
       "       spend_tws  \n",
       "0       -0.00510  \n",
       "1       -0.03250  \n",
       "2        0.01810  \n",
       "3       -0.01790  \n",
       "4        0.00175  \n",
       "...          ...  \n",
       "12245   -0.57100  \n",
       "12246   -0.55500  \n",
       "12247   -0.32400  \n",
       "12248   -0.56800  \n",
       "12249   -0.39000  \n",
       "\n",
       "[12250 rows x 9 columns]"
      ]
     },
     "execution_count": 58,
     "metadata": {},
     "output_type": "execute_result"
    }
   ],
   "source": [
    "PATH_TO_DATA = 'Affinity-City-Daily-final.csv'\n",
    "Data = pd.read_csv(PATH_TO_DATA)\n",
    "Data = Data.drop(['spend_all'], axis=1) #Dropping MCC\n",
    "\n",
    "\n",
    "print(\"The resulting data is:\")\n",
    "Data"
   ]
  },
  {
   "cell_type": "markdown",
   "metadata": {},
   "source": [
    "#### Now the goal column is separeted from the others. \n",
    "The target is represented by \"y\" while the other parameters, which are in hand, are represented by \"x\". "
   ]
  },
  {
   "cell_type": "code",
   "execution_count": 68,
   "metadata": {},
   "outputs": [],
   "source": [
    "x = Data[Data.columns[4:8]]\n",
    "y = Data[Data.columns[8]]"
   ]
  },
  {
   "cell_type": "markdown",
   "metadata": {},
   "source": [
    "Representing x:"
   ]
  },
  {
   "cell_type": "code",
   "execution_count": 4,
   "metadata": {},
   "outputs": [
    {
     "data": {
      "text/html": [
       "<div>\n",
       "<style scoped>\n",
       "    .dataframe tbody tr th:only-of-type {\n",
       "        vertical-align: middle;\n",
       "    }\n",
       "\n",
       "    .dataframe tbody tr th {\n",
       "        vertical-align: top;\n",
       "    }\n",
       "\n",
       "    .dataframe thead th {\n",
       "        text-align: right;\n",
       "    }\n",
       "</style>\n",
       "<table border=\"1\" class=\"dataframe\">\n",
       "  <thead>\n",
       "    <tr style=\"text-align: right;\">\n",
       "      <th></th>\n",
       "      <th>spend_aer</th>\n",
       "      <th>spend_grf</th>\n",
       "      <th>spend_hcs</th>\n",
       "      <th>spend_tws</th>\n",
       "    </tr>\n",
       "  </thead>\n",
       "  <tbody>\n",
       "    <tr>\n",
       "      <th>0</th>\n",
       "      <td>0.00706</td>\n",
       "      <td>0.00389</td>\n",
       "      <td>-0.03550</td>\n",
       "      <td>-0.00510</td>\n",
       "    </tr>\n",
       "    <tr>\n",
       "      <th>1</th>\n",
       "      <td>-0.07790</td>\n",
       "      <td>-0.00956</td>\n",
       "      <td>0.06040</td>\n",
       "      <td>-0.03250</td>\n",
       "    </tr>\n",
       "    <tr>\n",
       "      <th>2</th>\n",
       "      <td>0.03340</td>\n",
       "      <td>0.01240</td>\n",
       "      <td>-0.00547</td>\n",
       "      <td>0.01810</td>\n",
       "    </tr>\n",
       "    <tr>\n",
       "      <th>3</th>\n",
       "      <td>-0.15000</td>\n",
       "      <td>0.00405</td>\n",
       "      <td>0.03050</td>\n",
       "      <td>-0.01790</td>\n",
       "    </tr>\n",
       "    <tr>\n",
       "      <th>4</th>\n",
       "      <td>-0.04040</td>\n",
       "      <td>0.00888</td>\n",
       "      <td>-0.00653</td>\n",
       "      <td>0.00175</td>\n",
       "    </tr>\n",
       "    <tr>\n",
       "      <th>...</th>\n",
       "      <td>...</td>\n",
       "      <td>...</td>\n",
       "      <td>...</td>\n",
       "      <td>...</td>\n",
       "    </tr>\n",
       "    <tr>\n",
       "      <th>12245</th>\n",
       "      <td>-0.42000</td>\n",
       "      <td>-0.09140</td>\n",
       "      <td>-0.03690</td>\n",
       "      <td>-0.57100</td>\n",
       "    </tr>\n",
       "    <tr>\n",
       "      <th>12246</th>\n",
       "      <td>-0.68700</td>\n",
       "      <td>0.37900</td>\n",
       "      <td>-0.35200</td>\n",
       "      <td>-0.55500</td>\n",
       "    </tr>\n",
       "    <tr>\n",
       "      <th>12247</th>\n",
       "      <td>-0.29800</td>\n",
       "      <td>0.21200</td>\n",
       "      <td>0.61400</td>\n",
       "      <td>-0.32400</td>\n",
       "    </tr>\n",
       "    <tr>\n",
       "      <th>12248</th>\n",
       "      <td>-0.73100</td>\n",
       "      <td>0.16200</td>\n",
       "      <td>-0.35200</td>\n",
       "      <td>-0.56800</td>\n",
       "    </tr>\n",
       "    <tr>\n",
       "      <th>12249</th>\n",
       "      <td>-0.69600</td>\n",
       "      <td>0.01450</td>\n",
       "      <td>-0.09160</td>\n",
       "      <td>-0.39000</td>\n",
       "    </tr>\n",
       "  </tbody>\n",
       "</table>\n",
       "<p>12250 rows × 4 columns</p>\n",
       "</div>"
      ],
      "text/plain": [
       "       spend_aer  spend_grf  spend_hcs  spend_tws\n",
       "0        0.00706    0.00389   -0.03550   -0.00510\n",
       "1       -0.07790   -0.00956    0.06040   -0.03250\n",
       "2        0.03340    0.01240   -0.00547    0.01810\n",
       "3       -0.15000    0.00405    0.03050   -0.01790\n",
       "4       -0.04040    0.00888   -0.00653    0.00175\n",
       "...          ...        ...        ...        ...\n",
       "12245   -0.42000   -0.09140   -0.03690   -0.57100\n",
       "12246   -0.68700    0.37900   -0.35200   -0.55500\n",
       "12247   -0.29800    0.21200    0.61400   -0.32400\n",
       "12248   -0.73100    0.16200   -0.35200   -0.56800\n",
       "12249   -0.69600    0.01450   -0.09160   -0.39000\n",
       "\n",
       "[12250 rows x 4 columns]"
      ]
     },
     "execution_count": 4,
     "metadata": {},
     "output_type": "execute_result"
    }
   ],
   "source": [
    "x"
   ]
  },
  {
   "cell_type": "markdown",
   "metadata": {},
   "source": [
    "Representing y:"
   ]
  },
  {
   "cell_type": "code",
   "execution_count": 5,
   "metadata": {},
   "outputs": [
    {
     "data": {
      "text/plain": [
       "0       -0.00322\n",
       "1        0.00660\n",
       "2       -0.10400\n",
       "3       -0.03560\n",
       "4       -0.00770\n",
       "          ...   \n",
       "12245   -0.32600\n",
       "12246   -0.19800\n",
       "12247   -0.00545\n",
       "12248   -0.42000\n",
       "12249   -0.11100\n",
       "Name: spend_acf, Length: 12250, dtype: float64"
      ]
     },
     "execution_count": 5,
     "metadata": {},
     "output_type": "execute_result"
    }
   ],
   "source": [
    "y"
   ]
  },
  {
   "cell_type": "markdown",
   "metadata": {},
   "source": [
    "#### In this part 'x' and 'y' are separeted into train and test data. "
   ]
  },
  {
   "cell_type": "code",
   "execution_count": 86,
   "metadata": {},
   "outputs": [],
   "source": [
    "def splitData(x, y, train_size=0.5):\n",
    "    index = int(len(x)*train_size)\n",
    "    \n",
    "    xTrainData = x[:index]\n",
    "    xTestData  = x[index:]\n",
    "    yTrainData = y[:index]\n",
    "    yTestData  = y[index:]\n",
    "    \n",
    "    return xTrainData, xTestData, yTrainData, yTestData"
   ]
  },
  {
   "cell_type": "code",
   "execution_count": 70,
   "metadata": {},
   "outputs": [],
   "source": [
    "xTrainData, xTestData, yTrainData, yTestData = splitData(x, y)"
   ]
  },
  {
   "cell_type": "markdown",
   "metadata": {},
   "source": [
    "#### Now it is time to train the regression models.\n",
    "It is crucial to find a degree for polynomials so that the Mean Square Error(MSE) be the least amount possible. Therefore, before training, the best degree is found. "
   ]
  },
  {
   "cell_type": "code",
   "execution_count": 89,
   "metadata": {},
   "outputs": [],
   "source": [
    "def fitAndPredict(desiredDeg, xTrainData, yTrainData):\n",
    "    polyReg = Pipeline([\n",
    "            (\"std_scaler\", StandardScaler()),\n",
    "            (\"poly_features\", PolynomialFeatures(degree=desiredDeg, include_bias=False)),\n",
    "            (\"lin_reg\", LinearRegression()),\n",
    "        ])\n",
    "    polyReg.fit(xTrainData, yTrainData)\n",
    "    \n",
    "    yTrainPred = polyReg.predict(xTrainData)\n",
    "    yTestPred = polyReg.predict(xTestData)\n",
    "    \n",
    "    return yTrainPred, yTestPred\n",
    "\n",
    "def calcTrainTestMSE(yTrainData, yTestData, yTrainPred, yTestPred):\n",
    "    trainMSE = MSE(yTrainData, yTrainPred)\n",
    "    testMSE = MSE(yTestData, yTestPred)\n",
    "    \n",
    "    return trainMSE, testMSE\n",
    "\n",
    "def calcTrainTestMSEs(xTrainData, yTrainData, xTestData, yTestData):\n",
    "    testMSEs, trainMSEs = [], []\n",
    "\n",
    "    for d in range(1,6):\n",
    "        yTrainPred, yTestPred = fitAndPredict(d, xTrainData, yTrainData)\n",
    "        trainMSE, testMSE = calcTrainTestMSE(yTrainData, yTestData, yTrainPred, yTestPred)\n",
    "        \n",
    "        testMSEs.append(testMSE)\n",
    "        trainMSEs.append(trainMSE)\n",
    "            \n",
    "    return trainMSEs, testMSEs\n",
    "    \n",
    "    \n",
    "    "
   ]
  },
  {
   "cell_type": "code",
   "execution_count": 90,
   "metadata": {},
   "outputs": [
    {
     "data": {
      "text/plain": [
       "Text(0.5, 0, 'Degree')"
      ]
     },
     "execution_count": 90,
     "metadata": {},
     "output_type": "execute_result"
    },
    {
     "data": {
      "image/png": "[encoded data removed]",
      "text/plain": [
       "<Figure size 432x288 with 1 Axes>"
      ]
     },
     "metadata": {
      "needs_background": "light"
     },
     "output_type": "display_data"
    }
   ],
   "source": [
    "trainMSEs, testMSEs = calcTrainTestMSEs(xTrainData, yTrainData, xTestData, yTestData)\n",
    "degrees = [i for i in range(1, 6)]\n",
    "plt.plot(degrees, trainMSEs, label='train', color='magenta')\n",
    "plt.plot(degrees, testMSEs, label='test', color='purple')\n",
    "plt.grid()\n",
    "plt.legend()\n",
    "plt.ylabel('MSE')\n",
    "plt.xlabel('Degree')"
   ]
  },
  {
   "cell_type": "markdown",
   "metadata": {},
   "source": [
    "Based on the above plot, the best dgree to fit the model is 3. Therefore, in the following cell using the stated dgree, training is preceded. "
   ]
  },
  {
   "cell_type": "code",
   "execution_count": 91,
   "metadata": {},
   "outputs": [],
   "source": [
    "yTrainPred, yTestPred = fitAndPredict(3, xTrainData, yTrainData)"
   ]
  },
  {
   "cell_type": "markdown",
   "metadata": {},
   "source": [
    "#### Now plotting the result shows how successful the regression worked."
   ]
  },
  {
   "cell_type": "code",
   "execution_count": 92,
   "metadata": {},
   "outputs": [
    {
     "data": {
      "text/plain": [
       "Text(0.5, 1.0, 'Train data')"
      ]
     },
     "execution_count": 92,
     "metadata": {},
     "output_type": "execute_result"
    },
    {
     "data": {
      "image/png": "[encoded data removed]",
      "text/plain": [
       "<Figure size 432x288 with 1 Axes>"
      ]
     },
     "metadata": {
      "needs_background": "light"
     },
     "output_type": "display_data"
    }
   ],
   "source": [
    "time = [i for i in range(1, 201)]\n",
    "plt.plot(time, yTrainPred[0:200], label='Estimated Value', color='magenta')\n",
    "plt.plot(time, yTrainData[0:200], label='True Value', color='purple')\n",
    "plt.grid()\n",
    "plt.legend()\n",
    "plt.ylabel('Value')\n",
    "plt.xlabel('Time')\n",
    "plt.title('Train data')"
   ]
  },
  {
   "cell_type": "code",
   "execution_count": 93,
   "metadata": {},
   "outputs": [
    {
     "data": {
      "text/plain": [
       "Text(0.5, 1.0, 'Test data')"
      ]
     },
     "execution_count": 93,
     "metadata": {},
     "output_type": "execute_result"
    },
    {
     "data": {
      "image/png": "[encoded data removed]",
      "text/plain": [
       "<Figure size 432x288 with 1 Axes>"
      ]
     },
     "metadata": {
      "needs_background": "light"
     },
     "output_type": "display_data"
    }
   ],
   "source": [
    "time = [i for i in range(1, 201)]\n",
    "plt.plot(time, yTestPred[0:200], label='Estimated Value', color='magenta')\n",
    "plt.plot(time, yTestData[0:200], label='True Value', color='purple')\n",
    "plt.grid()\n",
    "plt.legend()\n",
    "plt.ylabel('Value')\n",
    "plt.xlabel('Time')\n",
    "plt.title('Test data')"
   ]
  }
 ],
 "metadata": {
  "kernelspec": {
   "display_name": "Python 3",
   "language": "python",
   "name": "python3"
  },
  "language_info": {
   "codemirror_mode": {
    "name": "ipython",
    "version": 3
   },
   "file_extension": ".py",
   "mimetype": "text/x-python",
   "name": "python",
   "nbconvert_exporter": "python",
   "pygments_lexer": "ipython3",
   "version": "3.6.9"
  }
 },
 "nbformat": 4,
 "nbformat_minor": 2
}
