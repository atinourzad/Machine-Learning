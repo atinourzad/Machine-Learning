{
  "nbformat": 4,
  "nbformat_minor": 0,
  "metadata": {
    "kernelspec": {
      "display_name": "Python 3",
      "language": "python",
      "name": "python3"
    },
    "language_info": {
      "codemirror_mode": {
        "name": "ipython",
        "version": 3
      },
      "file_extension": ".py",
      "mimetype": "text/x-python",
      "name": "python",
      "nbconvert_exporter": "python",
      "pygments_lexer": "ipython3",
      "version": "3.6.9"
    },
    "colab": {
      "name": "Code.ipynb",
      "provenance": []
    }
  },
  "cells": [
    {
      "cell_type": "markdown",
      "metadata": {
        "id": "INJ3FnIhdbxt"
      },
      "source": [
        "![alt text](Capture5.png \"Title\")"
      ]
    },
    {
      "cell_type": "markdown",
      "metadata": {
        "id": "Vb-1d-Tudbx0"
      },
      "source": [
        "### <font color=red>1) Bayes Optimal Classifier</font> ###"
      ]
    },
    {
      "cell_type": "markdown",
      "metadata": {
        "id": "VxiBH-bgdbx2"
      },
      "source": [
        "__Bayes’ Theorem provides a way that we can calculate the probability of a piece of data belonging to a given class, given our prior knowledge.__"
      ]
    },
    {
      "cell_type": "markdown",
      "metadata": {
        "id": "y8L3N_79dbx4"
      },
      "source": [
        "P(class|data) = (P(data|class) * P(class)) / P(data)"
      ]
    },
    {
      "cell_type": "markdown",
      "metadata": {
        "id": "h_aBoc5edbx5"
      },
      "source": [
        "From a Bayesian perspective, we begin with some prior probability for some event, and we update this prior probability with new information to obtain a posterior probability."
      ]
    },
    {
      "cell_type": "markdown",
      "metadata": {
        "id": "GrDI9nUUdbx6"
      },
      "source": [
        "Naive Bayes classifier assume that the effect of the value of a predictor (x) on a given class (c) is independent of the values of other predictors. This assumption is called class conditional independence. This is a very strong assumption that is most unlikely in real data, i.e. that the attributes do not interact. Nevertheless, the approach performs surprisingly well on data where this assumption does not hold."
      ]
    },
    {
      "cell_type": "markdown",
      "metadata": {
        "id": "KOKGC0JKdbx7"
      },
      "source": [
        "Python libraries offer three kinds of Naïve Bayes classifiers:\n",
        "* Gaussian: it assumes that features follow a normal distribution.\n",
        "* Multinomial: it is used for discrete counts\n",
        "* Bernoulli: the binomial model is useful if your feature vectors are binary (i.e. zeros and ones)"
      ]
    },
    {
      "cell_type": "markdown",
      "metadata": {
        "id": "MXqykwXBdbx7"
      },
      "source": [
        "__Let's start with an example ...__"
      ]
    },
    {
      "cell_type": "markdown",
      "metadata": {
        "id": "9PqhUJTpdbx8"
      },
      "source": [
        "![alt text](Capture.png \"Title\")"
      ]
    },
    {
      "cell_type": "markdown",
      "metadata": {
        "id": "mthCFtMQdbx9"
      },
      "source": [
        "##### https://scikit-learn.org/stable/modules/generated/sklearn.datasets.load_iris.html ##### \n",
        "_______________________________________________________________________________________"
      ]
    },
    {
      "cell_type": "code",
      "metadata": {
        "id": "c7M84a-Xdbx-"
      },
      "source": [
        "# Step 1\n",
        "# Import the essential libraries\n",
        "\n",
        "from sklearn import datasets\n",
        "import pandas as pd\n",
        "import numpy as np"
      ],
      "execution_count": 1,
      "outputs": []
    },
    {
      "cell_type": "code",
      "metadata": {
        "id": "QRvH4gG3dbyk",
        "outputId": "1f5c5e75-d70b-4642-e403-6c998c38b6fc",
        "colab": {
          "base_uri": "https://localhost:8080/"
        }
      },
      "source": [
        "# Step 2\n",
        "# Downloading the iris dataset\n",
        "\n",
        "# iris.data              : Names of the columns\n",
        "# iris.feature_names     : Target variable\n",
        "# iris.target            : Target names\n",
        "# iris.target_names      : name of target variable\n",
        "    \n",
        "iris              = datasets.load_iris()\n",
        "class_names       = iris.target_names  \n",
        "iris_df           = pd.DataFrame(iris.data, columns=iris.feature_names)\n",
        "iris_df['target'] = iris.target\n",
        "class_names"
      ],
      "execution_count": 2,
      "outputs": [
        {
          "output_type": "execute_result",
          "data": {
            "text/plain": [
              "array(['setosa', 'versicolor', 'virginica'], dtype='<U10')"
            ]
          },
          "metadata": {
            "tags": []
          },
          "execution_count": 2
        }
      ]
    },
    {
      "cell_type": "markdown",
      "metadata": {
        "id": "zJ9lIMBwdbyr"
      },
      "source": [
        "__Taking a look at our dataset ...__"
      ]
    },
    {
      "cell_type": "code",
      "metadata": {
        "id": "rHtCHzCedbys",
        "outputId": "a3bf3080-6cd2-4267-c54d-577874ab5efb",
        "colab": {
          "base_uri": "https://localhost:8080/",
          "height": 198
        }
      },
      "source": [
        "iris_df.head(n = 5)"
      ],
      "execution_count": 3,
      "outputs": [
        {
          "output_type": "execute_result",
          "data": {
            "text/html": [
              "<div>\n",
              "<style scoped>\n",
              "    .dataframe tbody tr th:only-of-type {\n",
              "        vertical-align: middle;\n",
              "    }\n",
              "\n",
              "    .dataframe tbody tr th {\n",
              "        vertical-align: top;\n",
              "    }\n",
              "\n",
              "    .dataframe thead th {\n",
              "        text-align: right;\n",
              "    }\n",
              "</style>\n",
              "<table border=\"1\" class=\"dataframe\">\n",
              "  <thead>\n",
              "    <tr style=\"text-align: right;\">\n",
              "      <th></th>\n",
              "      <th>sepal length (cm)</th>\n",
              "      <th>sepal width (cm)</th>\n",
              "      <th>petal length (cm)</th>\n",
              "      <th>petal width (cm)</th>\n",
              "      <th>target</th>\n",
              "    </tr>\n",
              "  </thead>\n",
              "  <tbody>\n",
              "    <tr>\n",
              "      <th>0</th>\n",
              "      <td>5.1</td>\n",
              "      <td>3.5</td>\n",
              "      <td>1.4</td>\n",
              "      <td>0.2</td>\n",
              "      <td>0</td>\n",
              "    </tr>\n",
              "    <tr>\n",
              "      <th>1</th>\n",
              "      <td>4.9</td>\n",
              "      <td>3.0</td>\n",
              "      <td>1.4</td>\n",
              "      <td>0.2</td>\n",
              "      <td>0</td>\n",
              "    </tr>\n",
              "    <tr>\n",
              "      <th>2</th>\n",
              "      <td>4.7</td>\n",
              "      <td>3.2</td>\n",
              "      <td>1.3</td>\n",
              "      <td>0.2</td>\n",
              "      <td>0</td>\n",
              "    </tr>\n",
              "    <tr>\n",
              "      <th>3</th>\n",
              "      <td>4.6</td>\n",
              "      <td>3.1</td>\n",
              "      <td>1.5</td>\n",
              "      <td>0.2</td>\n",
              "      <td>0</td>\n",
              "    </tr>\n",
              "    <tr>\n",
              "      <th>4</th>\n",
              "      <td>5.0</td>\n",
              "      <td>3.6</td>\n",
              "      <td>1.4</td>\n",
              "      <td>0.2</td>\n",
              "      <td>0</td>\n",
              "    </tr>\n",
              "  </tbody>\n",
              "</table>\n",
              "</div>"
            ],
            "text/plain": [
              "   sepal length (cm)  sepal width (cm)  ...  petal width (cm)  target\n",
              "0                5.1               3.5  ...               0.2       0\n",
              "1                4.9               3.0  ...               0.2       0\n",
              "2                4.7               3.2  ...               0.2       0\n",
              "3                4.6               3.1  ...               0.2       0\n",
              "4                5.0               3.6  ...               0.2       0\n",
              "\n",
              "[5 rows x 5 columns]"
            ]
          },
          "metadata": {
            "tags": []
          },
          "execution_count": 3
        }
      ]
    },
    {
      "cell_type": "markdown",
      "metadata": {
        "id": "yAPIoQLldbyz"
      },
      "source": [
        "__The method describe() gets a number of useful summaries for a dataset.__"
      ]
    },
    {
      "cell_type": "code",
      "metadata": {
        "id": "IVMH852kdby0",
        "outputId": "c07c5d13-576d-4f80-ec13-a23fc1d68b78",
        "colab": {
          "base_uri": "https://localhost:8080/",
          "height": 288
        }
      },
      "source": [
        "iris_df.describe()"
      ],
      "execution_count": 4,
      "outputs": [
        {
          "output_type": "execute_result",
          "data": {
            "text/html": [
              "<div>\n",
              "<style scoped>\n",
              "    .dataframe tbody tr th:only-of-type {\n",
              "        vertical-align: middle;\n",
              "    }\n",
              "\n",
              "    .dataframe tbody tr th {\n",
              "        vertical-align: top;\n",
              "    }\n",
              "\n",
              "    .dataframe thead th {\n",
              "        text-align: right;\n",
              "    }\n",
              "</style>\n",
              "<table border=\"1\" class=\"dataframe\">\n",
              "  <thead>\n",
              "    <tr style=\"text-align: right;\">\n",
              "      <th></th>\n",
              "      <th>sepal length (cm)</th>\n",
              "      <th>sepal width (cm)</th>\n",
              "      <th>petal length (cm)</th>\n",
              "      <th>petal width (cm)</th>\n",
              "      <th>target</th>\n",
              "    </tr>\n",
              "  </thead>\n",
              "  <tbody>\n",
              "    <tr>\n",
              "      <th>count</th>\n",
              "      <td>150.000000</td>\n",
              "      <td>150.000000</td>\n",
              "      <td>150.000000</td>\n",
              "      <td>150.000000</td>\n",
              "      <td>150.000000</td>\n",
              "    </tr>\n",
              "    <tr>\n",
              "      <th>mean</th>\n",
              "      <td>5.843333</td>\n",
              "      <td>3.057333</td>\n",
              "      <td>3.758000</td>\n",
              "      <td>1.199333</td>\n",
              "      <td>1.000000</td>\n",
              "    </tr>\n",
              "    <tr>\n",
              "      <th>std</th>\n",
              "      <td>0.828066</td>\n",
              "      <td>0.435866</td>\n",
              "      <td>1.765298</td>\n",
              "      <td>0.762238</td>\n",
              "      <td>0.819232</td>\n",
              "    </tr>\n",
              "    <tr>\n",
              "      <th>min</th>\n",
              "      <td>4.300000</td>\n",
              "      <td>2.000000</td>\n",
              "      <td>1.000000</td>\n",
              "      <td>0.100000</td>\n",
              "      <td>0.000000</td>\n",
              "    </tr>\n",
              "    <tr>\n",
              "      <th>25%</th>\n",
              "      <td>5.100000</td>\n",
              "      <td>2.800000</td>\n",
              "      <td>1.600000</td>\n",
              "      <td>0.300000</td>\n",
              "      <td>0.000000</td>\n",
              "    </tr>\n",
              "    <tr>\n",
              "      <th>50%</th>\n",
              "      <td>5.800000</td>\n",
              "      <td>3.000000</td>\n",
              "      <td>4.350000</td>\n",
              "      <td>1.300000</td>\n",
              "      <td>1.000000</td>\n",
              "    </tr>\n",
              "    <tr>\n",
              "      <th>75%</th>\n",
              "      <td>6.400000</td>\n",
              "      <td>3.300000</td>\n",
              "      <td>5.100000</td>\n",
              "      <td>1.800000</td>\n",
              "      <td>2.000000</td>\n",
              "    </tr>\n",
              "    <tr>\n",
              "      <th>max</th>\n",
              "      <td>7.900000</td>\n",
              "      <td>4.400000</td>\n",
              "      <td>6.900000</td>\n",
              "      <td>2.500000</td>\n",
              "      <td>2.000000</td>\n",
              "    </tr>\n",
              "  </tbody>\n",
              "</table>\n",
              "</div>"
            ],
            "text/plain": [
              "       sepal length (cm)  sepal width (cm)  ...  petal width (cm)      target\n",
              "count         150.000000        150.000000  ...        150.000000  150.000000\n",
              "mean            5.843333          3.057333  ...          1.199333    1.000000\n",
              "std             0.828066          0.435866  ...          0.762238    0.819232\n",
              "min             4.300000          2.000000  ...          0.100000    0.000000\n",
              "25%             5.100000          2.800000  ...          0.300000    0.000000\n",
              "50%             5.800000          3.000000  ...          1.300000    1.000000\n",
              "75%             6.400000          3.300000  ...          1.800000    2.000000\n",
              "max             7.900000          4.400000  ...          2.500000    2.000000\n",
              "\n",
              "[8 rows x 5 columns]"
            ]
          },
          "metadata": {
            "tags": []
          },
          "execution_count": 4
        }
      ]
    },
    {
      "cell_type": "markdown",
      "metadata": {
        "id": "DoVhqGDxdby7"
      },
      "source": [
        "![alt text](Capture6.png \"Title\")"
      ]
    },
    {
      "cell_type": "markdown",
      "metadata": {
        "id": "HPBT1Aeedby8"
      },
      "source": [
        "__Now, we want to split our dataset into train and test sections__"
      ]
    },
    {
      "cell_type": "code",
      "metadata": {
        "id": "rXmAFBh0dby9",
        "outputId": "8fc96fd0-0799-4569-a430-22980ef8e768",
        "colab": {
          "base_uri": "https://localhost:8080/"
        }
      },
      "source": [
        "from sklearn.model_selection import train_test_split\n",
        "\n",
        "X = iris_df[['sepal length (cm)', 'sepal width (cm)', 'petal length (cm)', 'petal width (cm)']]\n",
        "y = iris_df['target']\n",
        "\n",
        "X_train, X_test, y_train, y_test = train_test_split(X, y, test_size=0.2, random_state=8)\n",
        "print(type(X))"
      ],
      "execution_count": 5,
      "outputs": [
        {
          "output_type": "stream",
          "text": [
            "<class 'pandas.core.frame.DataFrame'>\n"
          ],
          "name": "stdout"
        }
      ]
    },
    {
      "cell_type": "markdown",
      "metadata": {
        "id": "U-Q6WRqHdbzF"
      },
      "source": [
        "__Here we use Gaussian Naive Bayes Classifier ...__"
      ]
    },
    {
      "cell_type": "code",
      "metadata": {
        "id": "gGqjbrjTdbzG",
        "outputId": "73c14a08-83b5-4f02-e01a-bcd96a10836c",
        "colab": {
          "base_uri": "https://localhost:8080/"
        }
      },
      "source": [
        "from sklearn.naive_bayes import GaussianNB   \n",
        "\n",
        "clf = GaussianNB()  \n",
        "\n",
        "# fitting the classifier\n",
        "clf.fit(X_train, y_train)"
      ],
      "execution_count": 6,
      "outputs": [
        {
          "output_type": "execute_result",
          "data": {
            "text/plain": [
              "GaussianNB(priors=None, var_smoothing=1e-09)"
            ]
          },
          "metadata": {
            "tags": []
          },
          "execution_count": 6
        }
      ]
    },
    {
      "cell_type": "markdown",
      "metadata": {
        "id": "Ecbv3VpFdbzK"
      },
      "source": [
        "__We trained the model. Now, we want to test it ...__"
      ]
    },
    {
      "cell_type": "code",
      "metadata": {
        "id": "eA6dFgAGdbzL",
        "outputId": "11a40060-2cf4-4c5c-d480-6176fd9288f1",
        "colab": {
          "base_uri": "https://localhost:8080/"
        }
      },
      "source": [
        "y_pred = clf.predict(X_test)\n",
        "\n",
        "from sklearn.metrics import accuracy_score\n",
        "\n",
        "print(\"The accuracy of the model is: %.1f%%\" % (accuracy_score(y_test, y_pred)*100))"
      ],
      "execution_count": 7,
      "outputs": [
        {
          "output_type": "stream",
          "text": [
            "The accuracy of the model is: 86.7%\n"
          ],
          "name": "stdout"
        }
      ]
    },
    {
      "cell_type": "markdown",
      "metadata": {
        "id": "GjW-j67pdbzP"
      },
      "source": [
        "__Accuracy is not always the best metric to depend on, specially when the classes are not equally divided__"
      ]
    },
    {
      "cell_type": "markdown",
      "metadata": {
        "id": "efa38tatdbzQ"
      },
      "source": [
        "__A much better way to evaluate the performance of a classifier is to look at the <font color=red>confusion matrix</font>. Here, the idea is to count the number of times that samples are attributed to their own classes or to another class__"
      ]
    },
    {
      "cell_type": "code",
      "metadata": {
        "id": "HeylntkwdbzR",
        "outputId": "e9e526aa-ebc7-4c43-a42c-351277b90427",
        "colab": {
          "base_uri": "https://localhost:8080/"
        }
      },
      "source": [
        "from sklearn.metrics import confusion_matrix\n",
        "\n",
        "confusion_mtx = confusion_matrix(y_test, y_pred)\n",
        "\n",
        "print(confusion_mtx)"
      ],
      "execution_count": 8,
      "outputs": [
        {
          "output_type": "stream",
          "text": [
            "[[10  0  0]\n",
            " [ 0  7  2]\n",
            " [ 0  2  9]]\n"
          ],
          "name": "stdout"
        }
      ]
    },
    {
      "cell_type": "markdown",
      "metadata": {
        "id": "AXwaD1zodbza"
      },
      "source": [
        "##### <font color=red>You can use the following code for plotting a more understandable confusion matrix </font> #####"
      ]
    },
    {
      "cell_type": "code",
      "metadata": {
        "id": "GCENdTXJdbzb"
      },
      "source": [
        "import matplotlib.pyplot as plt\n",
        "import numpy as np\n",
        "import itertools\n",
        "\n",
        "def plot_confusion_matrix(cm, classes,\n",
        "                          normalize=False,\n",
        "                          title='Confusion matrix',\n",
        "                          cmap=plt.cm.Blues):\n",
        "    \"\"\"\n",
        "    This function prints and plots the confusion matrix.\n",
        "    Normalization can be applied by setting `normalize=True`.\n",
        "    \"\"\"\n",
        "    plt.figure(figsize = (5,5))\n",
        "    plt.imshow(cm, interpolation='nearest', cmap=cmap)\n",
        "    plt.title(title)\n",
        "    plt.colorbar()\n",
        "    \n",
        "    if normalize:\n",
        "        cm = cm.astype('float') / cm.sum(axis=1)[:, np.newaxis]\n",
        "\n",
        "    thresh = cm.max() / 2.\n",
        "    for i, j in itertools.product(range(cm.shape[0]), range(cm.shape[1])):\n",
        "        plt.text(j, i, cm[i, j],\n",
        "                 ha='center', va='center',\n",
        "                 color=\"white\" if cm[i, j] > thresh else \"black\")\n",
        "    plt.tight_layout()\n",
        "    plt.ylabel('True label')\n",
        "    plt.xlabel('Predicted label')\n",
        "#     tick_marks = np.arange(len(classes))\n",
        "    plt.xticks([0, 1, 2], ['January', 'February', 'March'],rotation=20)\n",
        "    plt.yticks([-0.5, 0, 0.5, 1, 1.5, 2, 2.5], ['','January', '','February', '','March',''],\n",
        "               rotation=0)\n",
        "    \n",
        "   "
      ],
      "execution_count": 9,
      "outputs": []
    },
    {
      "cell_type": "code",
      "metadata": {
        "id": "0eCQt6IAdbzf",
        "outputId": "dd32037a-212b-48e9-ab67-ea3dc52c4bdb",
        "colab": {
          "base_uri": "https://localhost:8080/",
          "height": 369
        }
      },
      "source": [
        "plot_confusion_matrix(confusion_mtx, class_names)\n",
        "\n"
      ],
      "execution_count": 10,
      "outputs": [
        {
          "output_type": "display_data",
          "data": {
            "image/png": "[encoded data removed]",
            "text/plain": [
              "<Figure size 360x360 with 2 Axes>"
            ]
          },
          "metadata": {
            "tags": [],
            "needs_background": "light"
          }
        }
      ]
    },
    {
      "cell_type": "markdown",
      "metadata": {
        "id": "UrkUs2gUdbzo"
      },
      "source": [
        "__By looking at the <font color=red>confusion matrix</font> above, we understand that:__\n",
        "* In setosa samples, 10 out of 10 are classified correctly.\n",
        "* In versicolor samples, 7 out of 9 are classified correctly.\n",
        "* In virginica samples, 9 out of 11 are classified correctly."
      ]
    },
    {
      "cell_type": "markdown",
      "metadata": {
        "id": "-rXlfIx1dbzp"
      },
      "source": [
        "__But what if you need a metric rather than a <font color=red>confusion matrix</font>?__"
      ]
    },
    {
      "cell_type": "markdown",
      "metadata": {
        "id": "F7_6UZpUdbzq"
      },
      "source": [
        "__There are other metrics which are used in different situations, such as:__\n",
        "* Sensitivity (Recall)\n",
        "* Specificity\n",
        "* Precision\n",
        "* F1-score\n",
        "* AUROC"
      ]
    },
    {
      "cell_type": "markdown",
      "metadata": {
        "id": "b64E-FLndbzr"
      },
      "source": [
        "for more information, check out the link below:\n",
        "##### https://medium.com/analytics-vidhya/notes-on-sensitivity-specificity-precision-recall-and-f1-score-e34204d0bb9b #####\n",
        "_____________________________"
      ]
    },
    {
      "cell_type": "code",
      "metadata": {
        "id": "_hcZ6trvdbzs",
        "outputId": "a870dddb-681a-46f9-ae97-ab059c7b303b",
        "colab": {
          "base_uri": "https://localhost:8080/"
        }
      },
      "source": [
        "# 1\n",
        "\n",
        "from sklearn.metrics import classification_report\n",
        "\n",
        "print(classification_report(y_test, y_pred, target_names=class_names))"
      ],
      "execution_count": 11,
      "outputs": [
        {
          "output_type": "stream",
          "text": [
            "              precision    recall  f1-score   support\n",
            "\n",
            "      setosa       1.00      1.00      1.00        10\n",
            "  versicolor       0.78      0.78      0.78         9\n",
            "   virginica       0.82      0.82      0.82        11\n",
            "\n",
            "    accuracy                           0.87        30\n",
            "   macro avg       0.87      0.87      0.87        30\n",
            "weighted avg       0.87      0.87      0.87        30\n",
            "\n"
          ],
          "name": "stdout"
        }
      ]
    },
    {
      "cell_type": "code",
      "metadata": {
        "id": "Cxg7B2_Sdbzx",
        "outputId": "9bbd248c-55a3-406c-87d1-303ee2628682",
        "colab": {
          "base_uri": "https://localhost:8080/"
        }
      },
      "source": [
        "# 2\n",
        "\n",
        "FP = confusion_mtx.sum(axis=0) - np.diag(confusion_mtx)  \n",
        "FN = confusion_mtx.sum(axis=1) - np.diag(confusion_mtx)\n",
        "TP = np.diag(confusion_mtx)\n",
        "TN = confusion_mtx.sum() - (FP + FN + TP)\n",
        "\n",
        "# Sensitivity, hit rate, recall, or true positive rate\n",
        "TPR = TP/(TP+FN)\n",
        "# Specificity or true negative rate\n",
        "TNR = TN/(TN+FP) \n",
        "# Precision or positive predictive value\n",
        "PPV = TP/(TP+FP)\n",
        "# Negative predictive value\n",
        "NPV = TN/(TN+FN)\n",
        "# Fall out or false positive rate\n",
        "FPR = FP/(FP+TN)\n",
        "# False negative rate\n",
        "FNR = FN/(TP+FN)\n",
        "# False discovery rate\n",
        "FDR = FP/(TP+FP)\n",
        "\n",
        "# Overall accuracy\n",
        "ACC = (TP+TN)/(TP+FP+FN+TN)\n",
        "print(ACC)\n",
        "print(TPR)"
      ],
      "execution_count": 12,
      "outputs": [
        {
          "output_type": "stream",
          "text": [
            "[1.         0.86666667 0.86666667]\n",
            "[1.         0.77777778 0.81818182]\n"
          ],
          "name": "stdout"
        }
      ]
    },
    {
      "cell_type": "markdown",
      "metadata": {
        "id": "lTblOk5Pdbz3"
      },
      "source": [
        "_____________________________________________________________________________"
      ]
    },
    {
      "cell_type": "markdown",
      "metadata": {
        "id": "ZsqQI5LJdbz4"
      },
      "source": [
        "__How to reach a more rigid conclusion about our accuracy? Now, we have selected 20% of our dataset as our test section, which could be biased! In order to increase the validity of our results, *we can do a <font color=red>5-fold cross validation.</font>*__"
      ]
    },
    {
      "cell_type": "code",
      "metadata": {
        "id": "LKwXa6cddbz5",
        "outputId": "09742472-6b10-47c1-f427-4d9df2d8963f",
        "colab": {
          "base_uri": "https://localhost:8080/"
        }
      },
      "source": [
        "from sklearn.model_selection import cross_val_score\n",
        "\n",
        "acc = cross_val_score(clf, X, y, cv=5, scoring='accuracy')\n",
        "\n",
        "print(acc)"
      ],
      "execution_count": 13,
      "outputs": [
        {
          "output_type": "stream",
          "text": [
            "[0.93333333 0.96666667 0.93333333 0.93333333 1.        ]\n"
          ],
          "name": "stdout"
        }
      ]
    },
    {
      "cell_type": "code",
      "metadata": {
        "id": "YcvJgnuvdbz-",
        "outputId": "49d8d896-2658-4214-98b9-eec4f1dc99d4",
        "colab": {
          "base_uri": "https://localhost:8080/"
        }
      },
      "source": [
        "print(\"Our accuracy is: %.2f%% +- %.2f%%\" %(np.mean(acc)*100,np.std(acc)*100))"
      ],
      "execution_count": 14,
      "outputs": [
        {
          "output_type": "stream",
          "text": [
            "Our accuracy is: 95.33% +- 2.67%\n"
          ],
          "name": "stdout"
        }
      ]
    },
    {
      "cell_type": "markdown",
      "metadata": {
        "id": "yqfL748Ndb0E"
      },
      "source": [
        "__<font color=green>Much better!</font>__"
      ]
    },
    {
      "cell_type": "markdown",
      "metadata": {
        "id": "xL536-DTdb0G"
      },
      "source": [
        "###  <font color=red>2) Minimum Distance Classifier</font> ###"
      ]
    },
    {
      "cell_type": "markdown",
      "metadata": {
        "id": "gZxWUvB1db0H"
      },
      "source": [
        "![alt text](Capture3.png \"Title\")"
      ]
    },
    {
      "cell_type": "markdown",
      "metadata": {
        "id": "x8Uz7IRMdb0I"
      },
      "source": [
        "__Let's start with an example ...__"
      ]
    },
    {
      "cell_type": "markdown",
      "metadata": {
        "id": "H271xxRJdb0J"
      },
      "source": [
        "![alt text](Capture.png \"Title\")"
      ]
    },
    {
      "cell_type": "markdown",
      "metadata": {
        "id": "hgDc8jIvdb0K"
      },
      "source": [
        "##### https://scikit-learn.org/stable/modules/generated/sklearn.datasets.load_iris.html ##### "
      ]
    },
    {
      "cell_type": "code",
      "metadata": {
        "id": "lxL3CMxRdb0L"
      },
      "source": [
        "# Step 1\n",
        "# Import the essential libraries\n",
        "\n",
        "from sklearn import datasets\n",
        "import pandas as pd"
      ],
      "execution_count": 15,
      "outputs": []
    },
    {
      "cell_type": "code",
      "metadata": {
        "id": "RRHiG5NFdb0Q"
      },
      "source": [
        "# Step 2\n",
        "# Downloading the iris dataset\n",
        "\n",
        "# iris.data              : Names of the columns\n",
        "# iris.feature_names     : Target variable\n",
        "# iris.target            : Target names\n",
        "# iris.target_names      : name of target variable\n",
        "    \n",
        "iris              = datasets.load_iris()\n",
        "class_names       = iris.target_names  \n",
        "iris_df           = pd.DataFrame(iris.data, columns=iris.feature_names)  \n",
        "iris_df['target'] = iris.target"
      ],
      "execution_count": 16,
      "outputs": []
    },
    {
      "cell_type": "code",
      "metadata": {
        "id": "-cPZeizBdb0T"
      },
      "source": [
        "from sklearn.model_selection import train_test_split  \n",
        "\n",
        "X = iris_df[['sepal length (cm)', 'sepal width (cm)']]\n",
        "y = iris_df['target']\n",
        "\n",
        "X_train, X_test, y_train, y_test = train_test_split(X, y, test_size=0.2, random_state=8)"
      ],
      "execution_count": 17,
      "outputs": []
    },
    {
      "cell_type": "code",
      "metadata": {
        "id": "g74vpgXNdb0Y",
        "outputId": "a10f41ed-aea8-48f7-fbeb-8cb7d5761ca2",
        "colab": {
          "base_uri": "https://localhost:8080/"
        }
      },
      "source": [
        "from sklearn.neighbors import NearestCentroid\n",
        "\n",
        "clf = NearestCentroid(metric='euclidean')\n",
        "\n",
        "# fitting the classifier\n",
        "clf.fit(X_train, y_train)"
      ],
      "execution_count": 18,
      "outputs": [
        {
          "output_type": "execute_result",
          "data": {
            "text/plain": [
              "NearestCentroid(metric='euclidean', shrink_threshold=None)"
            ]
          },
          "metadata": {
            "tags": []
          },
          "execution_count": 18
        }
      ]
    },
    {
      "cell_type": "code",
      "metadata": {
        "id": "K8-_Oyv3db0g",
        "outputId": "4470d97c-1745-4a90-fa93-131ecd5eb76f",
        "colab": {
          "base_uri": "https://localhost:8080/"
        }
      },
      "source": [
        "y_pred = clf.predict(X_test)\n",
        "\n",
        "from sklearn.metrics import accuracy_score\n",
        "\n",
        "print(\"The accuracy of the model is: %.1f%%\" % (accuracy_score(y_test, y_pred)*100))"
      ],
      "execution_count": 19,
      "outputs": [
        {
          "output_type": "stream",
          "text": [
            "The accuracy of the model is: 70.0%\n"
          ],
          "name": "stdout"
        }
      ]
    },
    {
      "cell_type": "code",
      "metadata": {
        "id": "ldyyEMlsdb0l",
        "outputId": "bc58c2c1-5009-44c6-acee-99169bbcc56c",
        "colab": {
          "base_uri": "https://localhost:8080/"
        }
      },
      "source": [
        "from sklearn.metrics import confusion_matrix\n",
        "\n",
        "confusion_mtx = confusion_matrix(y_test, y_pred)\n",
        "\n",
        "confusion_mtx"
      ],
      "execution_count": 20,
      "outputs": [
        {
          "output_type": "execute_result",
          "data": {
            "text/plain": [
              "array([[10,  0,  0],\n",
              "       [ 0,  4,  5],\n",
              "       [ 1,  3,  7]])"
            ]
          },
          "metadata": {
            "tags": []
          },
          "execution_count": 20
        }
      ]
    },
    {
      "cell_type": "markdown",
      "metadata": {
        "id": "1H01s9kCdb00"
      },
      "source": [
        "##### <font color=red>You can use the following code for plotting a more understandable confusion matrix </font> #####"
      ]
    },
    {
      "cell_type": "code",
      "metadata": {
        "id": "yn1Dvfd2db01",
        "outputId": "46e6045a-4f80-40d5-9315-51e23a3ff888",
        "colab": {
          "base_uri": "https://localhost:8080/",
          "height": 0
        }
      },
      "source": [
        "plot_confusion_matrix(confusion_mtx, class_names)"
      ],
      "execution_count": 21,
      "outputs": [
        {
          "output_type": "display_data",
          "data": {
            "image/png": "[encoded data removed]",
            "text/plain": [
              "<Figure size 360x360 with 2 Axes>"
            ]
          },
          "metadata": {
            "tags": [],
            "needs_background": "light"
          }
        }
      ]
    },
    {
      "cell_type": "markdown",
      "metadata": {
        "id": "NbeeucPqdb05"
      },
      "source": [
        "__Plot the decision boundary. \n",
        "For that, we will assign a color to each point in the mesh [x_min, x_max]*[y_min, y_max].__"
      ]
    },
    {
      "cell_type": "code",
      "metadata": {
        "id": "jleqG2ohdb05"
      },
      "source": [
        "from matplotlib.colors import ListedColormap\n",
        "\n",
        "h = 0.02  # step size in the mesh\n",
        "\n",
        "# Create color maps\n",
        "cmap_light = ListedColormap(['orange', 'cyan', 'cornflowerblue'])\n",
        "cmap_bold = ListedColormap(['darkorange', 'c', 'darkblue'])"
      ],
      "execution_count": 22,
      "outputs": []
    },
    {
      "cell_type": "code",
      "metadata": {
        "id": "dd7TxJ-Udb09"
      },
      "source": [
        "X_train_array = X_train.to_numpy()\n",
        "y_train_array = y_train.to_numpy()\n",
        "\n",
        "x_train_min, x_train_max = X_train_array[:, 0].min() - 1, X_train_array[:, 0].max() + 1\n",
        "y_train_min, y_train_max = X_train_array[:, 1].min() - 1, X_train_array[:, 1].max() + 1\n",
        "\n",
        "xx, yy = np.meshgrid(np.arange(x_train_min, x_train_max, h),\n",
        "                     np.arange(y_train_min, y_train_max, h))\n",
        "Z = clf.predict(np.c_[xx.ravel(), yy.ravel()])"
      ],
      "execution_count": 23,
      "outputs": []
    },
    {
      "cell_type": "code",
      "metadata": {
        "id": "RIKm4Wu9db1A",
        "outputId": "b8b6a8a0-a6db-4f2c-dc63-d4f73a2800b2",
        "colab": {
          "base_uri": "https://localhost:8080/",
          "height": 0
        }
      },
      "source": [
        "# Put the result into a color plot\n",
        "Z = Z.reshape(xx.shape)\n",
        "plt.figure()\n",
        "plt.pcolormesh(xx, yy, Z, cmap=cmap_light)\n",
        "\n",
        "# Plot also the training points\n",
        "plt.scatter(X_train_array[:, 0], X_train_array[:, 1], c=y_train, cmap=cmap_bold,\n",
        "            edgecolor='k', s=20)\n",
        "plt.title(\"3-Class classification\")\n",
        "plt.axis('tight')\n",
        "\n",
        "plt.show()"
      ],
      "execution_count": 24,
      "outputs": [
        {
          "output_type": "display_data",
          "data": {
            "image/png": "[encoded data removed]",
            "text/plain": [
              "<Figure size 432x288 with 1 Axes>"
            ]
          },
          "metadata": {
            "tags": [],
            "needs_background": "light"
          }
        }
      ]
    },
    {
      "cell_type": "code",
      "metadata": {
        "id": "7JDjqHY_db1F"
      },
      "source": [
        "X_test_array = X_test.to_numpy()\n",
        "y_test_array = y_test.to_numpy()\n",
        "\n",
        "x_test_min, x_test_max = X_test_array[:, 0].min() - 1, X_test_array[:, 0].max() + 1\n",
        "y_test_min, y_test_max = X_test_array[:, 1].min() - 1, X_test_array[:, 1].max() + 1\n",
        "\n",
        "xx, yy = np.meshgrid(np.arange(x_test_min, x_test_max, h),\n",
        "                     np.arange(y_test_min, y_test_max, h))\n",
        "Z = clf.predict(np.c_[xx.ravel(), yy.ravel()])"
      ],
      "execution_count": 25,
      "outputs": []
    },
    {
      "cell_type": "code",
      "metadata": {
        "id": "TTujnZDKdb1K",
        "outputId": "3a0350b2-9041-4502-de43-c64eef8d377c",
        "colab": {
          "base_uri": "https://localhost:8080/",
          "height": 0
        }
      },
      "source": [
        "# Put the result into a color plot\n",
        "Z = Z.reshape(xx.shape)\n",
        "plt.figure()\n",
        "plt.pcolormesh(xx, yy, Z, cmap=cmap_light)\n",
        "\n",
        "# Plot also the training points\n",
        "plt.scatter(X_test_array[:, 0], X_test_array[:, 1], c=y_test, cmap=cmap_bold,\n",
        "            edgecolor='k', s=20)\n",
        "plt.title(\"3-Class classification\")\n",
        "plt.axis('tight')\n",
        "\n",
        "plt.show()"
      ],
      "execution_count": 26,
      "outputs": [
        {
          "output_type": "display_data",
          "data": {
            "image/png": "[encoded data removed]",
            "text/plain": [
              "<Figure size 432x288 with 1 Axes>"
            ]
          },
          "metadata": {
            "tags": [],
            "needs_background": "light"
          }
        }
      ]
    },
    {
      "cell_type": "code",
      "metadata": {
        "id": "WbbM-SMDdb1P",
        "outputId": "275fe483-f5eb-4941-e7c7-abb878c60064",
        "colab": {
          "base_uri": "https://localhost:8080/"
        }
      },
      "source": [
        "from sklearn.model_selection import cross_val_score\n",
        "\n",
        "acc = cross_val_score(clf, X, y, cv=5, scoring='accuracy')\n",
        "\n",
        "print(acc)"
      ],
      "execution_count": 27,
      "outputs": [
        {
          "output_type": "stream",
          "text": [
            "[0.73333333 0.86666667 0.76666667 0.86666667 0.9       ]\n"
          ],
          "name": "stdout"
        }
      ]
    },
    {
      "cell_type": "code",
      "metadata": {
        "id": "NDTx-Gvzdb1U",
        "outputId": "fa3a835b-bd66-4f8a-f36e-dffa8736e0cf",
        "colab": {
          "base_uri": "https://localhost:8080/"
        }
      },
      "source": [
        "print(\"Our accuracy is: %.2f%% +- %.2f%%\" %(np.mean(acc)*100,np.std(acc)*100))"
      ],
      "execution_count": 28,
      "outputs": [
        {
          "output_type": "stream",
          "text": [
            "Our accuracy is: 82.67% +- 6.46%\n"
          ],
          "name": "stdout"
        }
      ]
    },
    {
      "cell_type": "markdown",
      "metadata": {
        "id": "UU6Gbt20db1X"
      },
      "source": [
        "____________________________________________________________________________"
      ]
    },
    {
      "cell_type": "markdown",
      "metadata": {
        "id": "mcmBpZKldb1b"
      },
      "source": [
        "# Question!\n",
        "\n",
        "##### What if we selected <font color=red>Petal length and Petal width</font> as our features? Are they better features for this problem our not? #####\n",
        "\n",
        "## _<font color=green>Report your answers.</font>_ ##"
      ]
    },
    {
      "cell_type": "markdown",
      "metadata": {
        "id": "2ap-jgjsdb1d"
      },
      "source": [
        "#### Analysing the above steps for Petal length and Petal width:"
      ]
    },
    {
      "cell_type": "code",
      "metadata": {
        "id": "42M96nIbdb1g"
      },
      "source": [
        "from sklearn.model_selection import train_test_split  \n",
        "\n",
        "X = iris_df[['petal length (cm)', 'petal width (cm)']]\n",
        "y = iris_df['target']\n",
        "\n",
        "X_train, X_test, y_train, y_test = train_test_split(X, y, test_size=0.2, random_state=8)"
      ],
      "execution_count": 29,
      "outputs": []
    },
    {
      "cell_type": "code",
      "metadata": {
        "id": "yIEHJ_zFdb1l",
        "outputId": "aa38f8d4-f0f4-4c6a-a7ae-94b482d5a539",
        "colab": {
          "base_uri": "https://localhost:8080/"
        }
      },
      "source": [
        "from sklearn.neighbors import NearestCentroid\n",
        "\n",
        "clf = NearestCentroid(metric='euclidean')\n",
        "\n",
        "# fitting the classifier\n",
        "clf.fit(X_train, y_train)"
      ],
      "execution_count": 30,
      "outputs": [
        {
          "output_type": "execute_result",
          "data": {
            "text/plain": [
              "NearestCentroid(metric='euclidean', shrink_threshold=None)"
            ]
          },
          "metadata": {
            "tags": []
          },
          "execution_count": 30
        }
      ]
    },
    {
      "cell_type": "code",
      "metadata": {
        "id": "zMKIHm4Rdb1q",
        "outputId": "86dad03b-7655-446b-8239-a8f3f412cc96",
        "colab": {
          "base_uri": "https://localhost:8080/"
        }
      },
      "source": [
        "y_pred = clf.predict(X_test)\n",
        "\n",
        "from sklearn.metrics import accuracy_score\n",
        "\n",
        "print(\"The accuracy of the model is: %.1f%%\" % (accuracy_score(y_test, y_pred)*100))"
      ],
      "execution_count": 31,
      "outputs": [
        {
          "output_type": "stream",
          "text": [
            "The accuracy of the model is: 93.3%\n"
          ],
          "name": "stdout"
        }
      ]
    },
    {
      "cell_type": "markdown",
      "metadata": {
        "id": "xq9qpWM_db1w"
      },
      "source": [
        "As can be seen the accuracy is increased. "
      ]
    },
    {
      "cell_type": "code",
      "metadata": {
        "id": "eegQklwAdb1x",
        "outputId": "c460d794-4d08-42f0-b733-19f5933914cb",
        "colab": {
          "base_uri": "https://localhost:8080/"
        }
      },
      "source": [
        "from sklearn.metrics import confusion_matrix\n",
        "\n",
        "confusion_mtx = confusion_matrix(y_test, y_pred)\n",
        "\n",
        "confusion_mtx"
      ],
      "execution_count": 32,
      "outputs": [
        {
          "output_type": "execute_result",
          "data": {
            "text/plain": [
              "array([[10,  0,  0],\n",
              "       [ 0,  9,  0],\n",
              "       [ 0,  2,  9]])"
            ]
          },
          "metadata": {
            "tags": []
          },
          "execution_count": 32
        }
      ]
    },
    {
      "cell_type": "markdown",
      "metadata": {
        "id": "KoDJCNFNdb11"
      },
      "source": [
        "It is obvious from the confucion matrix as well. "
      ]
    },
    {
      "cell_type": "code",
      "metadata": {
        "id": "62jmBn0Rdb11",
        "outputId": "c6aba9f3-ed72-4e7b-c75b-54d3d94505d7",
        "colab": {
          "base_uri": "https://localhost:8080/",
          "height": 369
        }
      },
      "source": [
        "plot_confusion_matrix(confusion_mtx, class_names)"
      ],
      "execution_count": 33,
      "outputs": [
        {
          "output_type": "display_data",
          "data": {
            "image/png": "[encoded data removed]",
            "text/plain": [
              "<Figure size 360x360 with 2 Axes>"
            ]
          },
          "metadata": {
            "tags": [],
            "needs_background": "light"
          }
        }
      ]
    },
    {
      "cell_type": "code",
      "metadata": {
        "id": "Ef56T8Gedb15"
      },
      "source": [
        "from matplotlib.colors import ListedColormap\n",
        "\n",
        "h = 0.02  # step size in the mesh\n",
        "\n",
        "# Create color maps\n",
        "cmap_light = ListedColormap(['orange', 'cyan', 'cornflowerblue'])\n",
        "cmap_bold = ListedColormap(['darkorange', 'c', 'darkblue'])"
      ],
      "execution_count": 34,
      "outputs": []
    },
    {
      "cell_type": "code",
      "metadata": {
        "id": "02i2ST30db1-"
      },
      "source": [
        "X_train_array = X_train.to_numpy()\n",
        "y_train_array = y_train.to_numpy()\n",
        "\n",
        "x_train_min, x_train_max = X_train_array[:, 0].min() - 1, X_train_array[:, 0].max() + 1\n",
        "y_train_min, y_train_max = X_train_array[:, 1].min() - 1, X_train_array[:, 1].max() + 1\n",
        "\n",
        "xx, yy = np.meshgrid(np.arange(x_train_min, x_train_max, h),\n",
        "                     np.arange(y_train_min, y_train_max, h))\n",
        "Z = clf.predict(np.c_[xx.ravel(), yy.ravel()])"
      ],
      "execution_count": 35,
      "outputs": []
    },
    {
      "cell_type": "code",
      "metadata": {
        "id": "LAwv0maxdb2D",
        "outputId": "4f60b59b-b051-4624-ba97-805461c7b2f0",
        "colab": {
          "base_uri": "https://localhost:8080/",
          "height": 281
        }
      },
      "source": [
        "# Put the result into a color plot\n",
        "Z = Z.reshape(xx.shape)\n",
        "plt.figure()\n",
        "plt.pcolormesh(xx, yy, Z, cmap=cmap_light)\n",
        "\n",
        "# Plot also the training points\n",
        "plt.scatter(X_train_array[:, 0], X_train_array[:, 1], c=y_train, cmap=cmap_bold,\n",
        "            edgecolor='k', s=20)\n",
        "plt.title(\"3-Class classification\")\n",
        "plt.axis('tight')\n",
        "\n",
        "plt.show()"
      ],
      "execution_count": 36,
      "outputs": [
        {
          "output_type": "display_data",
          "data": {
            "image/png": "[encoded data removed]",
            "text/plain": [
              "<Figure size 432x288 with 1 Axes>"
            ]
          },
          "metadata": {
            "tags": [],
            "needs_background": "light"
          }
        }
      ]
    },
    {
      "cell_type": "code",
      "metadata": {
        "id": "twi6Q0IPdb2I"
      },
      "source": [
        "X_test_array = X_test.to_numpy()\n",
        "y_test_array = y_test.to_numpy()\n",
        "\n",
        "x_test_min, x_test_max = X_test_array[:, 0].min() - 1, X_test_array[:, 0].max() + 1\n",
        "y_test_min, y_test_max = X_test_array[:, 1].min() - 1, X_test_array[:, 1].max() + 1\n",
        "\n",
        "xx, yy = np.meshgrid(np.arange(x_test_min, x_test_max, h),\n",
        "                     np.arange(y_test_min, y_test_max, h))\n",
        "Z = clf.predict(np.c_[xx.ravel(), yy.ravel()])"
      ],
      "execution_count": 37,
      "outputs": []
    },
    {
      "cell_type": "code",
      "metadata": {
        "id": "RWWg6yhKdb2T",
        "outputId": "2663e86d-6cdc-4df4-a9d2-644e8ae39f41",
        "colab": {
          "base_uri": "https://localhost:8080/",
          "height": 281
        }
      },
      "source": [
        "# Put the result into a color plot\n",
        "Z = Z.reshape(xx.shape)\n",
        "plt.figure()\n",
        "plt.pcolormesh(xx, yy, Z, cmap=cmap_light)\n",
        "\n",
        "# Plot also the training points\n",
        "plt.scatter(X_test_array[:, 0], X_test_array[:, 1], c=y_test, cmap=cmap_bold,\n",
        "            edgecolor='k', s=20)\n",
        "plt.title(\"3-Class classification\")\n",
        "plt.axis('tight')\n",
        "\n",
        "plt.show()"
      ],
      "execution_count": 38,
      "outputs": [
        {
          "output_type": "display_data",
          "data": {
            "image/png": "[encoded data removed]",
            "text/plain": [
              "<Figure size 432x288 with 1 Axes>"
            ]
          },
          "metadata": {
            "tags": [],
            "needs_background": "light"
          }
        }
      ]
    },
    {
      "cell_type": "markdown",
      "metadata": {
        "id": "YQQS2durdb2l"
      },
      "source": [
        "As it is obvious in the above plot, the classes are more separated with these features than the ones analysed before. Therefore, the increased accuracy can be proved in this way as well. "
      ]
    },
    {
      "cell_type": "code",
      "metadata": {
        "id": "Y7JzQbi6db2m",
        "outputId": "b54c9ab5-3571-435a-d240-b42ad67210aa",
        "colab": {
          "base_uri": "https://localhost:8080/"
        }
      },
      "source": [
        "from sklearn.model_selection import cross_val_score\n",
        "\n",
        "acc = cross_val_score(clf, X, y, cv=5, scoring='accuracy')\n",
        "\n",
        "print(acc)"
      ],
      "execution_count": 39,
      "outputs": [
        {
          "output_type": "stream",
          "text": [
            "[0.96666667 0.96666667 0.93333333 0.93333333 1.        ]\n"
          ],
          "name": "stdout"
        }
      ]
    },
    {
      "cell_type": "code",
      "metadata": {
        "id": "GorlYlNJdb2q",
        "outputId": "da97c651-0f21-48e7-cdc4-40c6983e5659",
        "colab": {
          "base_uri": "https://localhost:8080/"
        }
      },
      "source": [
        "print(\"Our accuracy is: %.2f%% +- %.2f%%\" %(np.mean(acc)*100,np.std(acc)*100))"
      ],
      "execution_count": 40,
      "outputs": [
        {
          "output_type": "stream",
          "text": [
            "Our accuracy is: 96.00% +- 2.49%\n"
          ],
          "name": "stdout"
        }
      ]
    }
  ]
}