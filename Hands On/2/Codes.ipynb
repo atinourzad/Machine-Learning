{
  "nbformat": 4,
  "nbformat_minor": 0,
  "metadata": {
    "kernelspec": {
      "display_name": "Python 3",
      "language": "python",
      "name": "python3"
    },
    "language_info": {
      "codemirror_mode": {
        "name": "ipython",
        "version": 3
      },
      "file_extension": ".py",
      "mimetype": "text/x-python",
      "name": "python",
      "nbconvert_exporter": "python",
      "pygments_lexer": "ipython3",
      "version": "3.6.9"
    },
    "colab": {
      "name": "HO2_Answers.ipynb",
      "provenance": [],
      "collapsed_sections": []
    }
  },
  "cells": [
    {
      "cell_type": "markdown",
      "metadata": {
        "id": "_kSNLjuqknbZ"
      },
      "source": [
        "![alt text](Capture8.png \"Title\")"
      ]
    },
    {
      "cell_type": "markdown",
      "metadata": {
        "id": "SuVkloEgknbf"
      },
      "source": [
        "###  <font color=mediumpurple>Working with MNIST Dataset</font> ###"
      ]
    },
    {
      "cell_type": "markdown",
      "metadata": {
        "id": "EKUgvfCDknbi"
      },
      "source": [
        "__In this question, you are given the MNIST dataset, which consists of 70,000 images of digits handwritten by students and employees of US Census Bureau.__\n",
        "\n",
        "\n",
        "__Note: problem is colored as medium purple while my answers are in slate blue__"
      ]
    },
    {
      "cell_type": "markdown",
      "metadata": {
        "id": "xC0wRLc7knbm"
      },
      "source": [
        "####  <font color=slateblue>Importing Neccessary Libraries</font> ####"
      ]
    },
    {
      "cell_type": "code",
      "metadata": {
        "id": "FcZjaSixknbn"
      },
      "source": [
        "from sklearn.datasets import fetch_openml\n",
        "\n",
        "import numpy as np\n",
        "import random\n",
        "import itertools\n",
        "\n",
        "import matplotlib.pyplot as plt\n",
        "import matplotlib.cm as cm\n",
        "from tabulate import tabulate\n",
        "\n",
        "from sklearn.model_selection import train_test_split as trainTestSplitter\n",
        "from sklearn import preprocessing\n",
        "from sklearn.metrics import confusion_matrix\n",
        "\n",
        "from sklearn.naive_bayes import GaussianNB \n",
        "from sklearn.neighbors import NearestCentroid\n",
        "from sklearn.linear_model import LogisticRegression\n",
        "\n",
        "from sklearn import metrics\n",
        "from sklearn.metrics import accuracy_score as accScore\n",
        "from sklearn.metrics import roc_curve as ROC \n",
        "from sklearn.metrics import roc_auc_score as AUC\n",
        "from sklearn.model_selection import cross_val_score as crossValScore\n"
      ],
      "execution_count": 1,
      "outputs": []
    },
    {
      "cell_type": "markdown",
      "metadata": {
        "id": "5EsnbHpvknbt"
      },
      "source": [
        "You are supposed to perform a binary classification task, separating digit 4 from others (0,1,2,3,5,6,7,8,9). The data could be downloaded using the code below:"
      ]
    },
    {
      "cell_type": "code",
      "metadata": {
        "id": "X6S-4W9Qknbv"
      },
      "source": [
        "X, y = fetch_openml('mnist_784', version=1, return_X_y=True)"
      ],
      "execution_count": 2,
      "outputs": []
    },
    {
      "cell_type": "markdown",
      "metadata": {
        "id": "onFkOUhlknbz"
      },
      "source": [
        "### <font color=mediumpurple>1:</font> ###\n",
        "\n",
        "__In the first step, you are going to get acquainted with the dataset.__\n",
        "\n",
        "Randomly, plot three digits from the dataset."
      ]
    },
    {
      "cell_type": "code",
      "metadata": {
        "id": "DZt7k9EQknb0",
        "outputId": "4546a8e9-c752-4617-9c46-03cc9ac8c7d1",
        "colab": {
          "base_uri": "https://localhost:8080/",
          "height": 761
        }
      },
      "source": [
        "reshapeSize = int(np.sqrt(len(X[0][:]))) \n",
        "n1, n2, n3 = random. sample(range(0, 70000), 3) #Choosing 3 random images to show\n",
        "\n",
        "plt.imshow(X[n1][:].reshape(reshapeSize, reshapeSize), cmap=plt.cm.Purples)\n",
        "plt.show()\n",
        "plt.imshow(X[n2][:].reshape(reshapeSize, reshapeSize), cmap=plt.cm.Purples)\n",
        "plt.show()  \n",
        "plt.imshow(X[n3][:].reshape(reshapeSize, reshapeSize), cmap=plt.cm.Purples)\n",
        "plt.show()\n"
      ],
      "execution_count": 3,
      "outputs": [
        {
          "output_type": "display_data",
          "data": {
            "image/png": "[encoded data removed]",
            "text/plain": [
              "<Figure size 432x288 with 1 Axes>"
            ]
          },
          "metadata": {
            "tags": [],
            "needs_background": "light"
          }
        },
        {
          "output_type": "display_data",
          "data": {
            "image/png": "[encoded data removed]",
            "text/plain": [
              "<Figure size 432x288 with 1 Axes>"
            ]
          },
          "metadata": {
            "tags": [],
            "needs_background": "light"
          }
        },
        {
          "output_type": "display_data",
          "data": {
            "image/png": "[encoded data removed]",
            "text/plain": [
              "<Figure size 432x288 with 1 Axes>"
            ]
          },
          "metadata": {
            "tags": [],
            "needs_background": "light"
          }
        }
      ]
    },
    {
      "cell_type": "markdown",
      "metadata": {
        "id": "--nzC6Puknb5"
      },
      "source": [
        "### <font color=mediumpurple>2:</font> ###\n",
        "__In the second step, you should build your dataset. Do as follows:__\n",
        "* Split your training and testing dataset (80% and 20%).\n",
        "* Set the random_state to 10.\n",
        "* As your goal is to identify digit 4, create the target vectors for this classification task  <font color=mediumpurple>(note that you are training a binary classifier)</font>"
      ]
    },
    {
      "cell_type": "markdown",
      "metadata": {
        "id": "yym4F_Ykknb7"
      },
      "source": [
        "#### <font color=slateblue>Answer:</font> ####\n",
        "To do so, first of all, the trainTestSplitter function is used based on the given information, so that train and test datasets are in hand. Then, among the labels, the ones with 4 as their label are called \"goal\", while others are called \"other\". "
      ]
    },
    {
      "cell_type": "code",
      "metadata": {
        "id": "M_djmdBtknb9"
      },
      "source": [
        "trainData, testData, trainLabels, testLabels = trainTestSplitter(X, y, \n",
        "                                                                 test_size =0.2, random_state=10)\n",
        "\n",
        "#Defining Desired Labels:\n",
        "goal = 1\n",
        "others = 0\n",
        "\n",
        "trainLabels = [goal if trainLabels[i]=='4' else others for i in range(len(trainLabels))]\n",
        "testLabels = [goal if testLabels[i]=='4' else others for i in range(len(testLabels))]"
      ],
      "execution_count": 4,
      "outputs": []
    },
    {
      "cell_type": "markdown",
      "metadata": {
        "id": "Q6e75YIvkncI"
      },
      "source": [
        "### <font color=mediumpurple>3:</font> ###\n",
        "__Do the classification task using a <font color=mediumpurple>Gaussian Naive Bayes Classifier</font>__"
      ]
    },
    {
      "cell_type": "markdown",
      "metadata": {
        "id": "-pF1ZzFPkncJ"
      },
      "source": [
        "#### <font color=slateblue>Answer:</font> ####\n",
        "The model is set and fitted to the train data and their labels. (After all functions, the implementaion of Gaussian Naive Bayesian Classifier is given.) "
      ]
    },
    {
      "cell_type": "code",
      "metadata": {
        "id": "NvAjitjzkncJ"
      },
      "source": [
        "def giveClassPred(classType, trainData, trainLabels, testData):\n",
        "  myClf = classType.fit(trainData, trainLabels) \n",
        "  predLabels = myClf.predict(testData)\n",
        "  \n",
        "  return myClf, predLabels"
      ],
      "execution_count": 5,
      "outputs": []
    },
    {
      "cell_type": "markdown",
      "metadata": {
        "id": "LKC7ofpCkncQ"
      },
      "source": [
        "### <font color=mediumpurple>4:</font> ###\n",
        "__Calculate the following values:__\n",
        "* Confusion Matrix\n",
        "* Accuracy\n",
        "* Sensitivity\n",
        "* Specificity\n",
        "* Precision\n",
        "* Recall"
      ]
    },
    {
      "cell_type": "markdown",
      "metadata": {
        "id": "SjN40zs6kncT"
      },
      "source": [
        "#### <font color=slateblue>Answer:</font> ####\n",
        "Each of these values are evaluated by both employing and not employing the implemented methods in \"sklearn\". Each of the cells are for one of these bullet points: "
      ]
    },
    {
      "cell_type": "markdown",
      "metadata": {
        "id": "jsuHYMp-kncW"
      },
      "source": [
        "#### <font color=slateblue>Confusion Matrix:</font> ####"
      ]
    },
    {
      "cell_type": "code",
      "metadata": {
        "id": "vM_RoJSqkncX"
      },
      "source": [
        "def calcConfMat(testLabels, predLabels):\n",
        "  #Evaluating Confusion Matrix without SKLearn:\n",
        "  classLabels = np.unique(testLabels)  \n",
        "  myConfMat = np.array([[np.sum((testLabels == classLabels[i]) & \n",
        "                                (predLabels == classLabels[j])) \n",
        "  for j in range(len(classLabels))] for i in  range(len(classLabels))]) \n",
        "\n",
        "  #Evaluating Confusion Matrix with SKLearn:\n",
        "  confMat = confusion_matrix(testLabels, predLabels)\n",
        "\n",
        "  return myConfMat, confMat"
      ],
      "execution_count": 6,
      "outputs": []
    },
    {
      "cell_type": "code",
      "metadata": {
        "scrolled": true,
        "id": "OLpYlEj_knca"
      },
      "source": [
        "def plotConfMatrix(matrix, classes, normalize=False, title='Confusion matrix', \n",
        "                   cmap=plt.cm.Purples):\n",
        "  \n",
        "  plt.figure(figsize = (5,5))\n",
        "  plt.imshow(matrix, interpolation='nearest', cmap=cmap)\n",
        "  plt.title(title, fontsize=10, fontweight='bold')\n",
        "  plt.colorbar()\n",
        "\n",
        "  tick_marks = np.arange(len(classes))\n",
        "  plt.xticks(tick_marks, classes)\n",
        "  plt.yticks([-0.5, -0.25, 0, 0.25, 0.5, 0.75, 1, 1.25, 1.5], \n",
        "            ['', '', classes[0], '', '', '', classes[1], '', ''])\n",
        "  \n",
        "  if normalize:\n",
        "      matrix = matrix.astype('float') / matrix.sum(axis=1)[:, np.newaxis]\n",
        "\n",
        "  thresh = matrix.max() / 2.\n",
        "  for i, j in itertools.product(range(matrix.shape[0]), range(matrix.shape[1])):\n",
        "      plt.text(j, i, matrix[i, j], ha='center', va='center', color='lavender' \n",
        "                if matrix[i,j]>thresh else 'mediumpurple')\n",
        "      \n",
        "  plt.tight_layout()\n",
        "  plt.ylabel('True Labels', fontsize=10, fontweight='bold')\n",
        "  plt.xlabel('Predicted Lables', fontsize=10, fontweight='bold')\n",
        "  plt.show()"
      ],
      "execution_count": 7,
      "outputs": []
    },
    {
      "cell_type": "markdown",
      "metadata": {
        "id": "GNNw6efrknce"
      },
      "source": [
        "#### <font color=slateblue>Plot Tables:</font> ####"
      ]
    },
    {
      "cell_type": "code",
      "metadata": {
        "id": "4JrDzhGPkncf"
      },
      "source": [
        "def plotTable(clms, clmDataHeadears, alignSize):\n",
        "  data = []\n",
        "  \n",
        "  for i in range(len(clms[list(clms.keys())[0]])):\n",
        "      dataElement = []\n",
        "      for key in clms.keys():\n",
        "          dataElement.append(clms[key][i])\n",
        "      data.append(dataElement)\n",
        "      \n",
        "  print(tabulate(data, headers=clmDataHeadears, tablefmt=\"fancy_grid\", \n",
        "                  colalign=[\"center\"]*alignSize))"
      ],
      "execution_count": 8,
      "outputs": []
    },
    {
      "cell_type": "markdown",
      "metadata": {
        "id": "Dgud5m-Gknci"
      },
      "source": [
        "#### <font color=slateblue>Accuracy:</font> ####"
      ]
    },
    {
      "cell_type": "code",
      "metadata": {
        "id": "6Z7ytaJlkncj"
      },
      "source": [
        "def calcAcc(confMat, testLabels, predLabels):\n",
        "  FP = confMat.sum(axis=0) - np.diag(confMat)  \n",
        "  FN = confMat.sum(axis=1) - np.diag(confMat)\n",
        "  TP = np.diag(confMat)\n",
        "  TN = confMat.sum() - (FP + FN + TP)\n",
        "  \n",
        "  #Evaluating Accuracy without SKLearn:\n",
        "  myAcc = np.mean((TP+TN)/(TP+FP+FN+TN))*100\n",
        "\n",
        "  #Evaluating Accuracy with SKLearn:\n",
        "  skAcc = accScore(testLabels, predLabels)*100\n",
        "\n",
        "  plotTable({1:[\"Without Sklearn\", \"With Sklearn\"], 2:['{:1.2f}'.format(myAcc), \n",
        "                                                        '{:1.2f}'.format(skAcc)]}, \n",
        "            ['Method', 'Accuracy'], 2)"
      ],
      "execution_count": 9,
      "outputs": []
    },
    {
      "cell_type": "markdown",
      "metadata": {
        "id": "_t-LR61Pkncm"
      },
      "source": [
        "#### <font color=slateblue>Sensitivity:</font> ####"
      ]
    },
    {
      "cell_type": "code",
      "metadata": {
        "id": "s_LSMgKPkncn"
      },
      "source": [
        "def calcSens(confMat, testLabels, predLabels):\n",
        "  TP = np.diag(confMat)\n",
        "  FN = confMat.sum(axis=1) - np.diag(confMat)\n",
        "  \n",
        "  #Evaluating Sensivity without SKLearn:\n",
        "  mySens = TP/(TP+FN)\n",
        "\n",
        "  #Evaluating Sensivity with SKLearn:\n",
        "  skSens4 = metrics.recall_score(testLabels, predLabels, pos_label=goal)\n",
        "  skSensOther = metrics.recall_score(testLabels, predLabels, pos_label=others)\n",
        "\n",
        "  plotTable({1:[\"Without Sklearn\", \"With Sklearn\"], \n",
        "              2:['{:1.2f}'.format(mySens[1]), '{:1.2f}'.format(skSens4)],\n",
        "              3:['{:1.2f}'.format(mySens[0]), '{:1.2f}'.format(skSensOther)]}, \n",
        "            ['Method', 'Sensivity to 4', 'Sensivity to Others'], 3) "
      ],
      "execution_count": 10,
      "outputs": []
    },
    {
      "cell_type": "markdown",
      "metadata": {
        "id": "z7IbsFEvkncq"
      },
      "source": [
        "#### <font color=slateblue>Specificity:</font> ####"
      ]
    },
    {
      "cell_type": "code",
      "metadata": {
        "id": "bx7Lyzf0kncr"
      },
      "source": [
        "def calcSpec(confMat, testLabels, predLabels):\n",
        "    \n",
        "  FP = confMat.sum(axis=0) - np.diag(confMat)  \n",
        "  FN = confMat.sum(axis=1) - np.diag(confMat)\n",
        "  TP = np.diag(confMat)\n",
        "  TN = confMat.sum() - (FP + FN + TP)\n",
        "  \n",
        "  #Evaluating Specificity without SKLearn:\n",
        "  mySpec = TN/(TN+FP) \n",
        "\n",
        "  plotTable({1:[\"Without Sklearn\"], \n",
        "              2:['{:1.2f}'.format(mySpec[0])],\n",
        "              3:['{:1.2f}'.format(mySpec[1])]}, \n",
        "            ['Method', 'Specificity to 4', 'Specificity to Others'], 3)"
      ],
      "execution_count": 11,
      "outputs": []
    },
    {
      "cell_type": "markdown",
      "metadata": {
        "id": "j3ynhqXWkncx"
      },
      "source": [
        "#### <font color=slateblue>Precision:</font> ####"
      ]
    },
    {
      "cell_type": "code",
      "metadata": {
        "id": "IKeAwvwckncy"
      },
      "source": [
        "def calcPrecision(confMat, testLabels, predLabels):  \n",
        "  FP = confMat.sum(axis=0) - np.diag(confMat) \n",
        "  TP = np.diag(confMat)\n",
        "  \n",
        "  #Evaluating Precision without SKLearn:\n",
        "  myPres = TP/(TP+FP)\n",
        "\n",
        "  #Evaluating Precision without SKLearn:\n",
        "  skPres4 = metrics.precision_score(testLabels, predLabels, pos_label=goal)\n",
        "  skPresOther = metrics.precision_score(testLabels, predLabels, pos_label=others)\n",
        "\n",
        "  plotTable({1:[\"Without Sklearn\", \"With Sklearn\"], \n",
        "              2:['{:1.2f}'.format(myPres[1]), '{:1.2f}'.format(skPres4)],\n",
        "              3:['{:1.2f}'.format(myPres[0]), '{:1.2f}'.format(skPresOther)]}, \n",
        "            ['Method', 'Precision to 4', 'Precision to Others'], 3)"
      ],
      "execution_count": 12,
      "outputs": []
    },
    {
      "cell_type": "markdown",
      "metadata": {
        "id": "bB4DbPA5knc3"
      },
      "source": [
        "#### <font color=slateblue>Recall:</font> ####"
      ]
    },
    {
      "cell_type": "code",
      "metadata": {
        "id": "HvvZoqy7knc4"
      },
      "source": [
        "def calcRecall(confMat, testLabels, predLabels):   \n",
        "  FN = confMat.sum(axis=1) - np.diag(confMat)\n",
        "  TP = np.diag(confMat)\n",
        "  \n",
        "  #Evaluating Recall without SKLearn:\n",
        "  myRecall = TP/(TP+FN)\n",
        "\n",
        "  #Evaluating Sensivity with SKLearn:\n",
        "  skRecall4 = metrics.recall_score(testLabels, predLabels, pos_label=goal)\n",
        "  skRecallOther = metrics.recall_score(testLabels, predLabels, pos_label=others)\n",
        "\n",
        "  plotTable({1:[\"Without Sklearn\", \"With Sklearn\"], \n",
        "              2:['{:1.2f}'.format(myRecall[1]), '{:1.2f}'.format(skRecall4)],\n",
        "              3:['{:1.2f}'.format(myRecall[0]), '{:1.2f}'.format(skRecallOther)]}, \n",
        "            ['Method', 'Recall of 4', 'Recall of Others'], 3) "
      ],
      "execution_count": 13,
      "outputs": []
    },
    {
      "cell_type": "markdown",
      "metadata": {
        "id": "2BgMv_Q2knc7"
      },
      "source": [
        "Note that recall and sensivity are the same measure but with different names! \n"
      ]
    },
    {
      "cell_type": "markdown",
      "metadata": {
        "id": "cPnCdUyZknc8"
      },
      "source": [
        "### <font color=mediumpurple>5:</font> ###\n",
        "__Now plot <font color=mediumpurple>the ROC curve</font>, then calculate <font color=mediumpurple>Area Under ROC (AUROC)</font>__"
      ]
    },
    {
      "cell_type": "code",
      "metadata": {
        "id": "BNSg_N2xknc9"
      },
      "source": [
        "def ROCandAUC(testLabels, predLabels):\n",
        "  falseAlarm, hit, threshold = ROC(testLabels, predLabels)\n",
        "\n",
        "  plt.plot(falseAlarm, hit, color='mediumpurple')\n",
        "  plt.title(\"ROC\")\n",
        "  plt.xlabel(\"False Alarm\")\n",
        "  plt.ylabel(\"Hit\")\n",
        "  plt.show()\n",
        "\n",
        "  print('The calculated AUC is: %1.4f' %(AUC(testLabels, predLabels)))"
      ],
      "execution_count": 14,
      "outputs": []
    },
    {
      "cell_type": "markdown",
      "metadata": {
        "id": "ElvZlJlMkndF"
      },
      "source": [
        "### <font color=mediumpurple>6:</font> ###\n",
        "__Finally, apply a 5-fold cross validation, and report your <font color=mediumpurple>mean and std values</font>.__"
      ]
    },
    {
      "cell_type": "code",
      "metadata": {
        "id": "jcAgxqOSkndG"
      },
      "source": [
        "def accCross(myClf, X, newY):\n",
        "  acc = crossValScore(myClf, X, newY, cv=5, scoring='accuracy')\n",
        "  print('Our accuracy is: %.2f%% +- %.2f%%' %(np.mean(acc)*100,np.std(acc)*100))"
      ],
      "execution_count": 15,
      "outputs": []
    },
    {
      "cell_type": "markdown",
      "metadata": {
        "id": "_MOPeMplkndL"
      },
      "source": [
        "### <font color=mediumpurple>7:</font> ###\n",
        "__How are your results?__\n",
        "#### <font color=slateblue>Answer:</font> ####\n",
        "Note that in orderto improve this classifier's performance, the variance parameter is set.\n",
        "\n",
        "##### <font color=slateblue>*Accuracy:</font> #####\n",
        "As the below results suggest, the accuracy of detecting \"4\" is about 69.21%. This means that among the total number of predictions by this classifier, only in 69.21% of the times the prediction is accurate. \n",
        "##### <font color=slateblue>*Precision:</font> #####\n",
        "As the below table suggests, percision values are 24% and 99% for detecting \"4\" and detecting other numbers, respectively. Owing to the fact that precision shows the ration between true positive and all positives, among all the times this classifier detects \"4\" as a label for a handwriting pictures, only 24% of the times \"4\" is the true label as well. The same story holds for other numbers in 99% of the times.\n",
        "##### <font color=slateblue>*Recall:</font> #####\n",
        "As the below table suggests, recall values are 94% and 66% for detecting \"4\" and detecting other numbers, respectively. Owing to the fact that recall measures the model's accuracy in identifying true positive, among all the pictures containing \"4\", in 94% of the times, \"4\" is the classifier's prediction as well. The same story holds for other numbers in 66% of the times. \n",
        "\n",
        "##### <font color=slateblue>*Sensitivity and Specificity:</font> #####\n",
        "Sensitivity is another name for recall, and specificity is the same as the other class of the sensivity. Meaning, in our example, sensivity to \"4\" is the same as specificity to other numbers and vice versa. \n",
        "\n",
        "\n",
        "__Is <font color=mediumpurple>Gaussian Naive Bayes Classifier</font> a good one for this problem?__ \n",
        "#### <font color=slateblue>Answer:</font> ####\n",
        "Depending on what we aim to do this answer may differ. If our goal is to minimize erronous detections, recall does not give an insight about how reliable our model is performing. In addition, precision does not give us the vision to grasp how accurate our model in performing. Besides, while using accuracy as a defining metric for our model does make sense intuitively, but more often than not, it is always advisable to use the former two as well. \n",
        "Therefore, depenting on what we aim to achieve and what are the costs we can decide whether a model is performing well or not. For instance, if we want to detect as much \"4\"s as possible, this means that we seek for high recall, which this model is giving us. However, if our goal is to eliminate errors in detecting \"4\", we are aiming for high precision in \"4\" label's detection, which is not the case for this model. "
      ]
    },
    {
      "cell_type": "markdown",
      "metadata": {
        "id": "hbxkvak0kndL"
      },
      "source": [
        "### __Repeat all the steps using <font color=mediumpurple>Nearest Centroid Classifier</font> and <font color=mediumpurple>Logistic Regression Classifier</font>.__ ### \n",
        "* You just need to make some changes to step 3!\n",
        "* You should report all the values in steps 4, 5, and 6"
      ]
    },
    {
      "cell_type": "markdown",
      "metadata": {
        "id": "1ngEpovPkndM"
      },
      "source": [
        "## <font color=mediumpurple>Gaussian Naive Bayes Classifier</font> ##"
      ]
    },
    {
      "cell_type": "code",
      "metadata": {
        "scrolled": true,
        "id": "cm5Wk_yYkndN",
        "outputId": "c5ddee81-e187-4a5b-c1e2-7cbf37d087aa",
        "colab": {
          "base_uri": "https://localhost:8080/",
          "height": 1000
        }
      },
      "source": [
        "#######################################3#######################################\n",
        "myClf, predLabels = giveClassPred(GaussianNB(var_smoothing=1e-03), trainData, trainLabels, testData)\n",
        "#######################################4#######################################\n",
        "print('\\033[1m' +  \"\\033[1;36m\" + '*'*60+'4'+'*'*60)\n",
        "myConfMat, confMat = calcConfMat(testLabels, predLabels)\n",
        "plotConfMatrix(myConfMat, ['Others', 4], title='Confusion Matrix without sklearn')\n",
        "plotConfMatrix(confMat, ['Others', 4],title='Confusion Matrix with sklearn')\n",
        "calcAcc(confMat, testLabels, predLabels)\n",
        "calcSens(confMat, testLabels, predLabels)\n",
        "calcSpec(confMat, testLabels, predLabels)\n",
        "calcPrecision(confMat, testLabels, predLabels)\n",
        "calcRecall(confMat, testLabels, predLabels)\n",
        "print(\"\\n Using sklearn's report we get: \\n\")\n",
        "print(metrics.classification_report(testLabels, predLabels,\n",
        "                                    target_names=['Others', 'goal']))\n",
        "print('\\033[1m' +  \"\\033[1;36m\" + '*'*121)\n",
        "#######################################5#######################################\n",
        "print('\\033[1m' +  \"\\033[1;36m\" + '*'*60+'5'+'*'*60)\n",
        "ROCandAUC(testLabels, predLabels)\n",
        "print('\\033[1m' +  \"\\033[1;36m\" + '*'*121)\n",
        "#######################################6#######################################\n",
        "print('\\033[1m' +  \"\\033[1;36m\" + '*'*60+'6'+'*'*60)\n",
        "newY = [goal if y[i]=='4' else others for i in range(len(y))]\n",
        "accCross(myClf, X, newY)\n",
        "print('\\033[1m' +  \"\\033[1;36m\" + '*'*121)"
      ],
      "execution_count": 16,
      "outputs": [
        {
          "output_type": "stream",
          "text": [
            "\u001b[1m\u001b[1;36m************************************************************4************************************************************\n"
          ],
          "name": "stdout"
        },
        {
          "output_type": "display_data",
          "data": {
            "image/png": "[encoded data removed]",
            "text/plain": [
              "<Figure size 360x360 with 2 Axes>"
            ]
          },
          "metadata": {
            "tags": [],
            "needs_background": "light"
          }
        },
        {
          "output_type": "display_data",
          "data": {
            "image/png": "[encoded data removed]",
            "text/plain": [
              "<Figure size 360x360 with 2 Axes>"
            ]
          },
          "metadata": {
            "tags": [],
            "needs_background": "light"
          }
        },
        {
          "output_type": "stream",
          "text": [
            "╒═════════════════╤════════════╕\n",
            "│     Method      │  Accuracy  │\n",
            "╞═════════════════╪════════════╡\n",
            "│ Without Sklearn │   69.21    │\n",
            "├─────────────────┼────────────┤\n",
            "│  With Sklearn   │   69.21    │\n",
            "╘═════════════════╧════════════╛\n",
            "╒═════════════════╤══════════════════╤═══════════════════════╕\n",
            "│     Method      │  Sensivity to 4  │  Sensivity to Others  │\n",
            "╞═════════════════╪══════════════════╪═══════════════════════╡\n",
            "│ Without Sklearn │       0.94       │         0.66          │\n",
            "├─────────────────┼──────────────────┼───────────────────────┤\n",
            "│  With Sklearn   │       0.94       │         0.66          │\n",
            "╘═════════════════╧══════════════════╧═══════════════════════╛\n",
            "╒═════════════════╤════════════════════╤═════════════════════════╕\n",
            "│     Method      │  Specificity to 4  │  Specificity to Others  │\n",
            "╞═════════════════╪════════════════════╪═════════════════════════╡\n",
            "│ Without Sklearn │        0.94        │          0.66           │\n",
            "╘═════════════════╧════════════════════╧═════════════════════════╛\n",
            "╒═════════════════╤══════════════════╤═══════════════════════╕\n",
            "│     Method      │  Precision to 4  │  Precision to Others  │\n",
            "╞═════════════════╪══════════════════╪═══════════════════════╡\n",
            "│ Without Sklearn │       0.24       │         0.99          │\n",
            "├─────────────────┼──────────────────┼───────────────────────┤\n",
            "│  With Sklearn   │       0.24       │         0.99          │\n",
            "╘═════════════════╧══════════════════╧═══════════════════════╛\n",
            "╒═════════════════╤═══════════════╤════════════════════╕\n",
            "│     Method      │  Recall of 4  │  Recall of Others  │\n",
            "╞═════════════════╪═══════════════╪════════════════════╡\n",
            "│ Without Sklearn │     0.94      │        0.66        │\n",
            "├─────────────────┼───────────────┼────────────────────┤\n",
            "│  With Sklearn   │     0.94      │        0.66        │\n",
            "╘═════════════════╧═══════════════╧════════════════════╛\n",
            "\n",
            " Using sklearn's report we get: \n",
            "\n",
            "              precision    recall  f1-score   support\n",
            "\n",
            "      Others       0.99      0.66      0.80     12609\n",
            "        goal       0.24      0.94      0.38      1391\n",
            "\n",
            "    accuracy                           0.69     14000\n",
            "   macro avg       0.61      0.80      0.59     14000\n",
            "weighted avg       0.92      0.69      0.75     14000\n",
            "\n",
            "\u001b[1m\u001b[1;36m*************************************************************************************************************************\n",
            "\u001b[1m\u001b[1;36m************************************************************5************************************************************\n"
          ],
          "name": "stdout"
        },
        {
          "output_type": "display_data",
          "data": {
            "image/png": "[encoded data removed]",
            "text/plain": [
              "<Figure size 432x288 with 1 Axes>"
            ]
          },
          "metadata": {
            "tags": [],
            "needs_background": "light"
          }
        },
        {
          "output_type": "stream",
          "text": [
            "The calculated AUC is: 0.8029\n",
            "\u001b[1m\u001b[1;36m*************************************************************************************************************************\n",
            "\u001b[1m\u001b[1;36m************************************************************6************************************************************\n",
            "Our accuracy is: 69.28% +- 0.55%\n",
            "\u001b[1m\u001b[1;36m*************************************************************************************************************************\n"
          ],
          "name": "stdout"
        }
      ]
    },
    {
      "cell_type": "markdown",
      "metadata": {
        "id": "pLkvvArFkndT"
      },
      "source": [
        "## <font color=mediumpurple>Nearest Centroid Classifier</font> ##"
      ]
    },
    {
      "cell_type": "code",
      "metadata": {
        "scrolled": true,
        "id": "_3CVYn3ykndV",
        "outputId": "9a3bb7ea-0e8b-4006-fb90-37513375e40a",
        "colab": {
          "base_uri": "https://localhost:8080/",
          "height": 1000
        }
      },
      "source": [
        "#######################################3#######################################\n",
        "myClf, predLabels = giveClassPred(NearestCentroid(metric='euclidean'), trainData, \n",
        "                                  trainLabels, testData)\n",
        "#######################################4#######################################\n",
        "print('\\033[1m' +  \"\\033[1;36m\" + '*'*60+'4'+'*'*60)\n",
        "myConfMat, confMat = calcConfMat(testLabels, predLabels)\n",
        "plotConfMatrix(myConfMat, ['Others', 4], title='Confusion Matrix without sklearn')\n",
        "plotConfMatrix(confMat, ['Others', 4],title='Confusion Matrix with sklearn')\n",
        "calcAcc(confMat, testLabels, predLabels)\n",
        "calcSens(confMat, testLabels, predLabels)\n",
        "calcSpec(confMat, testLabels, predLabels)\n",
        "calcPrecision(confMat, testLabels, predLabels)\n",
        "calcRecall(confMat, testLabels, predLabels)\n",
        "print(\"\\n Using sklearn's report we get: \\n\")\n",
        "print(metrics.classification_report(testLabels, predLabels,\n",
        "                                    target_names=['Others', 'goal']))\n",
        "print('\\033[1m' +  \"\\033[1;36m\" + '*'*121)\n",
        "#######################################5#######################################\n",
        "print('\\033[1m' +  \"\\033[1;36m\" + '*'*60+'5'+'*'*60)\n",
        "ROCandAUC(testLabels, predLabels)\n",
        "print('\\033[1m' +  \"\\033[1;36m\" + '*'*121)\n",
        "#######################################6#######################################\n",
        "print('\\033[1m' +  \"\\033[1;36m\" + '*'*60+'6'+'*'*60)\n",
        "newY = [goal if y[i]=='4' else others for i in range(len(y))]\n",
        "accCross(myClf, X, newY)\n",
        "print('\\033[1m' +  \"\\033[1;36m\" + '*'*121)"
      ],
      "execution_count": 17,
      "outputs": [
        {
          "output_type": "stream",
          "text": [
            "\u001b[1m\u001b[1;36m************************************************************4************************************************************\n"
          ],
          "name": "stdout"
        },
        {
          "output_type": "display_data",
          "data": {
            "image/png": "[encoded data removed]",
            "text/plain": [
              "<Figure size 360x360 with 2 Axes>"
            ]
          },
          "metadata": {
            "tags": [],
            "needs_background": "light"
          }
        },
        {
          "output_type": "display_data",
          "data": {
            "image/png": "[encoded data removed]",
            "text/plain": [
              "<Figure size 360x360 with 2 Axes>"
            ]
          },
          "metadata": {
            "tags": [],
            "needs_background": "light"
          }
        },
        {
          "output_type": "stream",
          "text": [
            "╒═════════════════╤════════════╕\n",
            "│     Method      │  Accuracy  │\n",
            "╞═════════════════╪════════════╡\n",
            "│ Without Sklearn │   87.26    │\n",
            "├─────────────────┼────────────┤\n",
            "│  With Sklearn   │   87.26    │\n",
            "╘═════════════════╧════════════╛\n",
            "╒═════════════════╤══════════════════╤═══════════════════════╕\n",
            "│     Method      │  Sensivity to 4  │  Sensivity to Others  │\n",
            "╞═════════════════╪══════════════════╪═══════════════════════╡\n",
            "│ Without Sklearn │       0.91       │         0.87          │\n",
            "├─────────────────┼──────────────────┼───────────────────────┤\n",
            "│  With Sklearn   │       0.91       │         0.87          │\n",
            "╘═════════════════╧══════════════════╧═══════════════════════╛\n",
            "╒═════════════════╤════════════════════╤═════════════════════════╕\n",
            "│     Method      │  Specificity to 4  │  Specificity to Others  │\n",
            "╞═════════════════╪════════════════════╪═════════════════════════╡\n",
            "│ Without Sklearn │        0.91        │          0.87           │\n",
            "╘═════════════════╧════════════════════╧═════════════════════════╛\n",
            "╒═════════════════╤══════════════════╤═══════════════════════╕\n",
            "│     Method      │  Precision to 4  │  Precision to Others  │\n",
            "╞═════════════════╪══════════════════╪═══════════════════════╡\n",
            "│ Without Sklearn │       0.43       │         0.99          │\n",
            "├─────────────────┼──────────────────┼───────────────────────┤\n",
            "│  With Sklearn   │       0.43       │         0.99          │\n",
            "╘═════════════════╧══════════════════╧═══════════════════════╛\n",
            "╒═════════════════╤═══════════════╤════════════════════╕\n",
            "│     Method      │  Recall of 4  │  Recall of Others  │\n",
            "╞═════════════════╪═══════════════╪════════════════════╡\n",
            "│ Without Sklearn │     0.91      │        0.87        │\n",
            "├─────────────────┼───────────────┼────────────────────┤\n",
            "│  With Sklearn   │     0.91      │        0.87        │\n",
            "╘═════════════════╧═══════════════╧════════════════════╛\n",
            "\n",
            " Using sklearn's report we get: \n",
            "\n",
            "              precision    recall  f1-score   support\n",
            "\n",
            "      Others       0.99      0.87      0.92     12609\n",
            "        goal       0.43      0.91      0.59      1391\n",
            "\n",
            "    accuracy                           0.87     14000\n",
            "   macro avg       0.71      0.89      0.76     14000\n",
            "weighted avg       0.93      0.87      0.89     14000\n",
            "\n",
            "\u001b[1m\u001b[1;36m*************************************************************************************************************************\n",
            "\u001b[1m\u001b[1;36m************************************************************5************************************************************\n"
          ],
          "name": "stdout"
        },
        {
          "output_type": "display_data",
          "data": {
            "image/png": "[encoded data removed]",
            "text/plain": [
              "<Figure size 432x288 with 1 Axes>"
            ]
          },
          "metadata": {
            "tags": [],
            "needs_background": "light"
          }
        },
        {
          "output_type": "stream",
          "text": [
            "The calculated AUC is: 0.8912\n",
            "\u001b[1m\u001b[1;36m*************************************************************************************************************************\n",
            "\u001b[1m\u001b[1;36m************************************************************6************************************************************\n",
            "Our accuracy is: 87.06% +- 0.37%\n",
            "\u001b[1m\u001b[1;36m*************************************************************************************************************************\n"
          ],
          "name": "stdout"
        }
      ]
    },
    {
      "cell_type": "markdown",
      "metadata": {
        "id": "Pl9rWPZUkndZ"
      },
      "source": [
        "## <font color=mediumpurple>Logistic Regression Classifier</font> ##"
      ]
    },
    {
      "cell_type": "code",
      "metadata": {
        "scrolled": true,
        "id": "DDhOjEvpknda",
        "outputId": "8ff14dc3-064a-4ed4-ce15-41c960581d95",
        "colab": {
          "base_uri": "https://localhost:8080/",
          "height": 1000
        }
      },
      "source": [
        "#######################################3#######################################\n",
        "scaler = preprocessing.StandardScaler().fit(trainData)\n",
        "trainDataScaled = scaler.transform(trainData)\n",
        "testDataScaled = scaler.transform(testData)\n",
        "XScaled = scaler.transform(X)\n",
        "\n",
        "myClf, predLabels = giveClassPred(LogisticRegression(tol=100, max_iter=1000), \n",
        "                                  trainDataScaled, trainLabels, testDataScaled)\n",
        "#######################################4#######################################\n",
        "print('\\033[1m' +  \"\\033[1;36m\" + '*'*60+'4'+'*'*60)\n",
        "myConfMat, confMat = calcConfMat(testLabels, predLabels)\n",
        "plotConfMatrix(myConfMat, ['Others', 4], title='Confusion Matrix without sklearn')\n",
        "plotConfMatrix(confMat, ['Others', 4],title='Confusion Matrix with sklearn')\n",
        "calcAcc(confMat, testLabels, predLabels)\n",
        "calcSens(confMat, testLabels, predLabels)\n",
        "calcSpec(confMat, testLabels, predLabels)\n",
        "calcPrecision(confMat, testLabels, predLabels)\n",
        "calcRecall(confMat, testLabels, predLabels)\n",
        "print(\"\\n Using sklearn's report we get: \\n\")\n",
        "print(metrics.classification_report(testLabels, predLabels,\n",
        "                                    target_names=['Others', 'goal']))\n",
        "print('\\033[1m' +  \"\\033[1;36m\" + '*'*121)\n",
        "#######################################5#######################################\n",
        "print('\\033[1m' +  \"\\033[1;36m\" + '*'*60+'5'+'*'*60)\n",
        "ROCandAUC(testLabels, predLabels)\n",
        "print('\\033[1m' +  \"\\033[1;36m\" + '*'*121)\n",
        "#######################################6#######################################\n",
        "print('\\033[1m' +  \"\\033[1;36m\" + '*'*60+'6'+'*'*60)\n",
        "newY = [goal if y[i]=='4' else others for i in range(len(y))]\n",
        "accCross(myClf, XScaled, newY)\n",
        "print('\\033[1m' +  \"\\033[1;36m\" + '*'*121)"
      ],
      "execution_count": 18,
      "outputs": [
        {
          "output_type": "stream",
          "text": [
            "\u001b[1m\u001b[1;36m************************************************************4************************************************************\n"
          ],
          "name": "stdout"
        },
        {
          "output_type": "display_data",
          "data": {
            "image/png": "[encoded data removed]",
            "text/plain": [
              "<Figure size 360x360 with 2 Axes>"
            ]
          },
          "metadata": {
            "tags": [],
            "needs_background": "light"
          }
        },
        {
          "output_type": "display_data",
          "data": {
            "image/png": "[encoded data removed]",
            "text/plain": [
              "<Figure size 360x360 with 2 Axes>"
            ]
          },
          "metadata": {
            "tags": [],
            "needs_background": "light"
          }
        },
        {
          "output_type": "stream",
          "text": [
            "╒═════════════════╤════════════╕\n",
            "│     Method      │  Accuracy  │\n",
            "╞═════════════════╪════════════╡\n",
            "│ Without Sklearn │    98.2    │\n",
            "├─────────────────┼────────────┤\n",
            "│  With Sklearn   │    98.2    │\n",
            "╘═════════════════╧════════════╛\n",
            "╒═════════════════╤══════════════════╤═══════════════════════╕\n",
            "│     Method      │  Sensivity to 4  │  Sensivity to Others  │\n",
            "╞═════════════════╪══════════════════╪═══════════════════════╡\n",
            "│ Without Sklearn │       0.89       │         0.99          │\n",
            "├─────────────────┼──────────────────┼───────────────────────┤\n",
            "│  With Sklearn   │       0.89       │         0.99          │\n",
            "╘═════════════════╧══════════════════╧═══════════════════════╛\n",
            "╒═════════════════╤════════════════════╤═════════════════════════╕\n",
            "│     Method      │  Specificity to 4  │  Specificity to Others  │\n",
            "╞═════════════════╪════════════════════╪═════════════════════════╡\n",
            "│ Without Sklearn │        0.89        │          0.99           │\n",
            "╘═════════════════╧════════════════════╧═════════════════════════╛\n",
            "╒═════════════════╤══════════════════╤═══════════════════════╕\n",
            "│     Method      │  Precision to 4  │  Precision to Others  │\n",
            "╞═════════════════╪══════════════════╪═══════════════════════╡\n",
            "│ Without Sklearn │       0.92       │         0.99          │\n",
            "├─────────────────┼──────────────────┼───────────────────────┤\n",
            "│  With Sklearn   │       0.92       │         0.99          │\n",
            "╘═════════════════╧══════════════════╧═══════════════════════╛\n",
            "╒═════════════════╤═══════════════╤════════════════════╕\n",
            "│     Method      │  Recall of 4  │  Recall of Others  │\n",
            "╞═════════════════╪═══════════════╪════════════════════╡\n",
            "│ Without Sklearn │     0.89      │        0.99        │\n",
            "├─────────────────┼───────────────┼────────────────────┤\n",
            "│  With Sklearn   │     0.89      │        0.99        │\n",
            "╘═════════════════╧═══════════════╧════════════════════╛\n",
            "\n",
            " Using sklearn's report we get: \n",
            "\n",
            "              precision    recall  f1-score   support\n",
            "\n",
            "      Others       0.99      0.99      0.99     12609\n",
            "        goal       0.92      0.89      0.91      1391\n",
            "\n",
            "    accuracy                           0.98     14000\n",
            "   macro avg       0.96      0.94      0.95     14000\n",
            "weighted avg       0.98      0.98      0.98     14000\n",
            "\n",
            "\u001b[1m\u001b[1;36m*************************************************************************************************************************\n",
            "\u001b[1m\u001b[1;36m************************************************************5************************************************************\n"
          ],
          "name": "stdout"
        },
        {
          "output_type": "display_data",
          "data": {
            "image/png": "[encoded data removed]",
            "text/plain": [
              "<Figure size 432x288 with 1 Axes>"
            ]
          },
          "metadata": {
            "tags": [],
            "needs_background": "light"
          }
        },
        {
          "output_type": "stream",
          "text": [
            "The calculated AUC is: 0.9427\n",
            "\u001b[1m\u001b[1;36m*************************************************************************************************************************\n",
            "\u001b[1m\u001b[1;36m************************************************************6************************************************************\n",
            "Our accuracy is: 98.22% +- 0.15%\n",
            "\u001b[1m\u001b[1;36m*************************************************************************************************************************\n"
          ],
          "name": "stdout"
        }
      ]
    },
    {
      "cell_type": "markdown",
      "metadata": {
        "id": "lbBgxhjIkndd"
      },
      "source": [
        "### __Which one is better? Report it.__ ###\n",
        "#### <font color=slateblue>Answer:</font> ####\n",
        "As was discussed above regarding how good Gaussian Naive Classifier is, this answer totally depends on what we mean by better. \n",
        "#### <font color=slateblue>*Precision:</font> ####\n",
        "As was dicsucced earlier, in order to detect less erronous \"4\"s, our precision in detecting \"4\" needs to be maximized. Between the above models, the classifier based on \"Logistic Regression\" gives us the highest percision. Therefore, if our measurement is precision, the last classifier is the best one.\n",
        "#### <font color=slateblue>*Recall:</font> ####\n",
        "As was dicsucced earlier, if we want to detect most of the pictures containing 4, as number 4, no matter we detect other numbers inaccurately as four (error in other numbers' detecting is not essential for us), we need to seek for a classifier providing the highest recall rate for \"4\". Amoung all of them, the first classifier achieves this goal. Therefore, if our measurement is recall, the best classifier is the first one. \n",
        "#### <font color=slateblue>*Accuracy and AUC:</font> ####\n",
        "As was dicsucced earlier, if our measurement is how accurate our model is, we seek to achieve a high accuracy rate. Therefore, among the given classifiers, the last one is the best one, since it has the highest accuracy. The same story holds for its AUC. \n",
        "\n"
      ]
    }
  ]
}
