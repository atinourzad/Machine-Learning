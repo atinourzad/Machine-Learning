{
  "nbformat": 4,
  "nbformat_minor": 0,
  "metadata": {
    "kernelspec": {
      "display_name": "Python 3",
      "language": "python",
      "name": "python3"
    },
    "language_info": {
      "codemirror_mode": {
        "name": "ipython",
        "version": 3
      },
      "file_extension": ".py",
      "mimetype": "text/x-python",
      "name": "python",
      "nbconvert_exporter": "python",
      "pygments_lexer": "ipython3",
      "version": "3.7.6"
    },
    "colab": {
      "name": "Codes_with_Report.ipynb",
      "provenance": [],
      "collapsed_sections": []
    },
    "accelerator": "GPU"
  },
  "cells": [
    {
      "cell_type": "markdown",
      "metadata": {
        "id": "g8TC4NGwyJ47"
      },
      "source": [
        "<img src='http://arch.ut.ac.ir/documents/70819125/2017cca1-b036-41de-bcce-f7376699275b' alt=\"UT logo\" width=\"120\" height=\"120\" align=\"left\">\n",
        "\n",
        "<h1 align=center><font size=5> <b><i>Machine Learning(Fall 2020)</b><br>Task 3</i></font></h1>"
      ]
    },
    {
      "cell_type": "markdown",
      "metadata": {
        "id": "EnQtKHhMyJ48"
      },
      "source": [
        "#### In this notebook we want to become more familiar with data visualization and classify data with Logistic Regression."
      ]
    },
    {
      "cell_type": "markdown",
      "metadata": {
        "id": "xC0wRLc7knbm"
      },
      "source": [
        "#####  <font color=slateblue>Importing Neccessary Libraries</font> ####"
      ]
    },
    {
      "cell_type": "code",
      "metadata": {
        "id": "FcZjaSixknbn"
      },
      "source": [
        "from sklearn.datasets import fetch_openml\n",
        "\n",
        "import numpy as np\n",
        "import pandas as pd\n",
        "import random\n",
        "import itertools\n",
        "import cv2 \n",
        "\n",
        "import matplotlib.pyplot as plt\n",
        "import seaborn as sns\n",
        "import matplotlib.cm as cm\n",
        "from tabulate import tabulate\n",
        "\n",
        "from sklearn.model_selection import train_test_split as trainTestSplitter\n",
        "from sklearn import preprocessing\n",
        "from sklearn.metrics import plot_confusion_matrix as plotConfMatrix\n",
        "from sklearn.metrics import confusion_matrix as confMatrix\n",
        "\n",
        "from sklearn.linear_model import LogisticRegression\n",
        "\n",
        "from sklearn import metrics\n",
        "from sklearn.metrics import plot_precision_recall_curve as pltPrecisionRecallCurve\n",
        "from sklearn.metrics import precision_recall_curve as precisionRecallCurve\n",
        "from sklearn.metrics import roc_curve as ROC \n",
        "\n",
        "from google.colab import drive"
      ],
      "execution_count": 17,
      "outputs": []
    },
    {
      "cell_type": "code",
      "metadata": {
        "colab": {
          "base_uri": "https://localhost:8080/"
        },
        "id": "AkbjUZ74lP_D",
        "outputId": "90705c40-7f47-4170-8bb2-8a5cd9e0d9bb"
      },
      "source": [
        "drive.mount('/content/gdrive')"
      ],
      "execution_count": null,
      "outputs": [
        {
          "output_type": "stream",
          "text": [
            "Mounted at /content/gdrive\n"
          ],
          "name": "stdout"
        }
      ]
    },
    {
      "cell_type": "markdown",
      "metadata": {
        "id": "rJGk0yhvyJ48"
      },
      "source": [
        "# Section 1: MNIST Dataset\n",
        "You can find information about the dataset and download it from [here](https://www.kaggle.com/oddrationale/mnist-in-csv)(please download train dataset).\n"
      ]
    },
    {
      "cell_type": "markdown",
      "metadata": {
        "id": "uMTBlTJzyzvT"
      },
      "source": [
        "### <font color=mediumpurple>1:</font> ###\n",
        "\n",
        "__Downloading the Dataset__\n",
        "\n"
      ]
    },
    {
      "cell_type": "code",
      "metadata": {
        "id": "fjvuCwlGyzWi"
      },
      "source": [
        "X, y = fetch_openml('mnist_784', version=1, return_X_y=True)"
      ],
      "execution_count": null,
      "outputs": []
    },
    {
      "cell_type": "markdown",
      "metadata": {
        "id": "_1ocDZJpyJ48"
      },
      "source": [
        "## Visualize Dataset\n",
        "### <font color=mediumpurple>2:</font> ###\n",
        "\n",
        "__Plot a Digit__\n"
      ]
    },
    {
      "cell_type": "code",
      "metadata": {
        "colab": {
          "base_uri": "https://localhost:8080/",
          "height": 265
        },
        "id": "frkOFwBOznWA",
        "outputId": "e4247ab2-9f95-4f7b-8d3f-1fd9cd7ef37c"
      },
      "source": [
        "reshapeSize = int(np.sqrt(len(X[0][:]))) \n",
        "n = random. sample(range(0, 70000), 1) #Choosing 1 random images to show\n",
        "\n",
        "plt.imshow(X[n][:].reshape(reshapeSize, reshapeSize), cmap=plt.cm.Purples)\n",
        "plt.show()"
      ],
      "execution_count": null,
      "outputs": [
        {
          "output_type": "display_data",
          "data": {
            "image/png": "[encoded data removed]",
            "text/plain": [
              "<Figure size 432x288 with 1 Axes>"
            ]
          },
          "metadata": {
            "tags": [],
            "needs_background": "light"
          }
        }
      ]
    },
    {
      "cell_type": "markdown",
      "metadata": {
        "id": "v9NYz47az_6O"
      },
      "source": [
        "### <font color=mediumpurple>3:</font> ###\n",
        "\n",
        "__Plot a Series of Instances of Each Class__\n"
      ]
    },
    {
      "cell_type": "code",
      "metadata": {
        "colab": {
          "base_uri": "https://localhost:8080/",
          "height": 595
        },
        "id": "ejoTwtt500a6",
        "outputId": "070e0c9c-0309-4adc-8652-1cf4c5099ef0"
      },
      "source": [
        "fig, ax = plt.subplots(10, 5, figsize=(10,10))\n",
        "for rowIndex, row in enumerate(ax):\n",
        "  index = np.argwhere(y == str(rowIndex))[0:10]\n",
        "  for clmIndex, clm in enumerate(row):\n",
        "    clm.imshow(X[index[clmIndex]][:].reshape(reshapeSize, reshapeSize), cmap=plt.cm.Purples)\n",
        "plt.show()"
      ],
      "execution_count": null,
      "outputs": [
        {
          "output_type": "display_data",
          "data": {
            "image/png": "[encoded data removed]",
            "text/plain": [
              "<Figure size 720x720 with 50 Axes>"
            ]
          },
          "metadata": {
            "tags": [],
            "needs_background": "light"
          }
        }
      ]
    },
    {
      "cell_type": "markdown",
      "metadata": {
        "id": "jcii6ClvU0WP"
      },
      "source": [
        "### <font color=mediumpurple>4:</font> ###\n",
        "\n",
        "__Plot a Shifted Digit__\n"
      ]
    },
    {
      "cell_type": "code",
      "metadata": {
        "id": "DkDHs1knyZWQ",
        "colab": {
          "base_uri": "https://localhost:8080/",
          "height": 545
        },
        "outputId": "2ec1b587-6eed-4855-f3ec-af8f9a07eaeb"
      },
      "source": [
        "n = 7\n",
        "\n",
        "plt.title(\"Shifted Image\")\n",
        "plt.imshow(np.roll(X[n][:].reshape(reshapeSize, reshapeSize), 5), cmap=plt.cm.Purples)\n",
        "plt.show()\n",
        "\n",
        "plt.title(\"Actual Image\")\n",
        "plt.imshow(X[n][:].reshape(reshapeSize, reshapeSize), cmap=plt.cm.Purples)\n",
        "plt.show()"
      ],
      "execution_count": null,
      "outputs": [
        {
          "output_type": "display_data",
          "data": {
            "image/png": "[encoded data removed]",
            "text/plain": [
              "<Figure size 432x288 with 1 Axes>"
            ]
          },
          "metadata": {
            "tags": [],
            "needs_background": "light"
          }
        },
        {
          "output_type": "display_data",
          "data": {
            "image/png": "[encoded data removed]",
            "text/plain": [
              "<Figure size 432x288 with 1 Axes>"
            ]
          },
          "metadata": {
            "tags": [],
            "needs_background": "light"
          }
        }
      ]
    },
    {
      "cell_type": "markdown",
      "metadata": {
        "id": "Uvx-M4VHyJ48"
      },
      "source": [
        "## <font color=mediumpurple>Classification:</font> ##\n",
        "In this part, you should do a binary classification to predict if a digit is '4' or not. report the requests listed below:\n",
        "\n",
        "### <font color=mediumpurple>5:</font> ###\n",
        "\n",
        "__Plot Confusion Matrix and ROC__"
      ]
    },
    {
      "cell_type": "code",
      "metadata": {
        "colab": {
          "base_uri": "https://localhost:8080/",
          "height": 573
        },
        "id": "1IqHoXNLYksA",
        "outputId": "ef4e19a9-2760-4b56-e509-deb7deaae397"
      },
      "source": [
        "#Separating train and test data:\n",
        "trainData, testData, trainLabels, testLabels = trainTestSplitter(X, y, \n",
        "                                                                 test_size =0.2, random_state=10)\n",
        "#Defining Desired Labels:\n",
        "goal = 1\n",
        "others = 0\n",
        "\n",
        "trainLabels = [goal if trainLabels[i]=='4' else others for i in range(len(trainLabels))]\n",
        "testLabels = [goal if testLabels[i]=='4' else others for i in range(len(testLabels))]\n",
        "\n",
        "#Employing the classifier:\n",
        "myClf = LogisticRegression(tol=100, max_iter=10000).fit(trainData, trainLabels) \n",
        "predLabels = myClf.predict(testData)\n",
        "\n",
        "#Confusion Matrix:\n",
        "myConfMat = confMatrix(testLabels, predLabels)\n",
        "disp = plotConfMatrix(myClf, testData, testLabels, display_labels=['Others', '4'], cmap=plt.cm.Purples, values_format='1.0f')\n",
        "disp.ax_.set_title('Confusion Matrix')\n",
        "plt.show()\n",
        "\n",
        "#ROC:\n",
        "falseAlarm, hit, threshold = ROC(testLabels, predLabels)\n",
        "plt.plot(falseAlarm, hit, color='mediumpurple')\n",
        "plt.plot([0, 1], [0, 1], '--', color='thistle')\n",
        "plt.title(\"ROC\")\n",
        "plt.xlabel(\"False Alarm\")\n",
        "plt.ylabel(\"Hit\")\n",
        "plt.show()"
      ],
      "execution_count": 15,
      "outputs": [
        {
          "output_type": "display_data",
          "data": {
            "image/png": "[encoded data removed]",
            "text/plain": [
              "<Figure size 432x288 with 2 Axes>"
            ]
          },
          "metadata": {
            "tags": [],
            "needs_background": "light"
          }
        },
        {
          "output_type": "display_data",
          "data": {
            "image/png": "[encoded data removed]",
            "text/plain": [
              "<Figure size 432x288 with 1 Axes>"
            ]
          },
          "metadata": {
            "tags": [],
            "needs_background": "light"
          }
        }
      ]
    },
    {
      "cell_type": "markdown",
      "metadata": {
        "id": "ZLJgEYcUf5TA"
      },
      "source": [
        "### <font color=mediumpurple>6:</font> ###\n",
        "\n",
        "__Show Accuracy, Recall, Precision, Sensivity, and Specifity__"
      ]
    },
    {
      "cell_type": "code",
      "metadata": {
        "id": "g12pOeWdk5uD",
        "colab": {
          "base_uri": "https://localhost:8080/"
        },
        "outputId": "ae1de656-2687-4e10-bbc7-c1ba8facfec5"
      },
      "source": [
        "print(\"\\n Using sklearn's report we get: \\n\")\n",
        "print(metrics.classification_report(testLabels, predLabels,\n",
        "                                    target_names=['Others', 'goal']))"
      ],
      "execution_count": 16,
      "outputs": [
        {
          "output_type": "stream",
          "text": [
            "\n",
            " Using sklearn's report we get: \n",
            "\n",
            "              precision    recall  f1-score   support\n",
            "\n",
            "      Others       0.99      0.99      0.99     12609\n",
            "        goal       0.92      0.91      0.91      1391\n",
            "\n",
            "    accuracy                           0.98     14000\n",
            "   macro avg       0.96      0.95      0.95     14000\n",
            "weighted avg       0.98      0.98      0.98     14000\n",
            "\n"
          ],
          "name": "stdout"
        }
      ]
    },
    {
      "cell_type": "markdown",
      "metadata": {
        "id": "GT28XbhALGL5"
      },
      "source": [
        "Note that sensivity is the same as recall, and the sensivity to \"4\" is actually the specificity to \"Others\". Therefore, a report same as above, gives all the resutls. "
      ]
    },
    {
      "cell_type": "markdown",
      "metadata": {
        "id": "adtWwHq_O0DU"
      },
      "source": [
        "### <font color=mediumpurple>7:</font> ###\n",
        "\n",
        "__Precision-Recall Curve__"
      ]
    },
    {
      "cell_type": "code",
      "metadata": {
        "id": "l8AAHbo_O8AO",
        "colab": {
          "base_uri": "https://localhost:8080/",
          "height": 313
        },
        "outputId": "86fe2f72-6a3e-4140-b6f3-a0430fc7d94a"
      },
      "source": [
        "disp = pltPrecisionRecallCurve(myClf, testData, testLabels, color='mediumpurple')\n",
        "disp.ax_.set_title('2-Class Precision-Recall Curve: ')"
      ],
      "execution_count": 20,
      "outputs": [
        {
          "output_type": "execute_result",
          "data": {
            "text/plain": [
              "Text(0.5, 1.0, '2-Class Precision-Recall Curve: ')"
            ]
          },
          "metadata": {
            "tags": []
          },
          "execution_count": 20
        },
        {
          "output_type": "display_data",
          "data": {
            "image/png": "[encoded data removed]",
            "text/plain": [
              "<Figure size 432x288 with 1 Axes>"
            ]
          },
          "metadata": {
            "tags": [],
            "needs_background": "light"
          }
        }
      ]
    },
    {
      "cell_type": "markdown",
      "metadata": {
        "id": "q1GvBvdG1Ogs"
      },
      "source": [
        "__Precision-Recall Curve with Respect to Threshold__"
      ]
    },
    {
      "cell_type": "code",
      "metadata": {
        "colab": {
          "base_uri": "https://localhost:8080/",
          "height": 295
        },
        "id": "L56NB5EC1WVD",
        "outputId": "1b66318b-7131-4e6d-fad3-29662c48bda5"
      },
      "source": [
        "precision, recall, thresholds = precisionRecallCurve(testLabels, myClf.decision_function(testData))\n",
        "plt.plot(thresholds, precision[:-1], color='mediumpurple', label='Precision')\n",
        "plt.plot(thresholds, recall[:-1], color='slateblue', label='Recall')\n",
        "plt.title('2-Class Precision and Recall Curve with Respect to Threshold')\n",
        "plt.xlabel('Threshold')\n",
        "plt.legend(loc='best')\n",
        "plt.show()"
      ],
      "execution_count": 23,
      "outputs": [
        {
          "output_type": "display_data",
          "data": {
            "image/png": "[encoded data removed]",
            "text/plain": [
              "<Figure size 432x288 with 1 Axes>"
            ]
          },
          "metadata": {
            "tags": [],
            "needs_background": "light"
          }
        }
      ]
    },
    {
      "cell_type": "markdown",
      "metadata": {
        "id": "pM37FgW9yJ48"
      },
      "source": [
        "# Section 2: Titanic Dataset\n",
        "\n",
        "You can find information about the dataset and download it from [here](https://www.kaggle.com/c/titanic/data)(please download train dataset).\n"
      ]
    },
    {
      "cell_type": "code",
      "metadata": {
        "id": "rOwh0Md-mIWW"
      },
      "source": [
        "data = pd.read_csv(r'/content/gdrive/My Drive/Colab Notebooks/Hands On/3/train.csv')\n"
      ],
      "execution_count": 24,
      "outputs": []
    },
    {
      "cell_type": "code",
      "metadata": {
        "colab": {
          "base_uri": "https://localhost:8080/",
          "height": 407
        },
        "id": "kmlDonhonTIN",
        "outputId": "ef6477d4-38b0-418e-c948-4e0b1f604f81"
      },
      "source": [
        "data"
      ],
      "execution_count": 25,
      "outputs": [
        {
          "output_type": "execute_result",
          "data": {
            "text/html": [
              "<div>\n",
              "<style scoped>\n",
              "    .dataframe tbody tr th:only-of-type {\n",
              "        vertical-align: middle;\n",
              "    }\n",
              "\n",
              "    .dataframe tbody tr th {\n",
              "        vertical-align: top;\n",
              "    }\n",
              "\n",
              "    .dataframe thead th {\n",
              "        text-align: right;\n",
              "    }\n",
              "</style>\n",
              "<table border=\"1\" class=\"dataframe\">\n",
              "  <thead>\n",
              "    <tr style=\"text-align: right;\">\n",
              "      <th></th>\n",
              "      <th>PassengerId</th>\n",
              "      <th>Survived</th>\n",
              "      <th>Pclass</th>\n",
              "      <th>Name</th>\n",
              "      <th>Sex</th>\n",
              "      <th>Age</th>\n",
              "      <th>SibSp</th>\n",
              "      <th>Parch</th>\n",
              "      <th>Ticket</th>\n",
              "      <th>Fare</th>\n",
              "      <th>Cabin</th>\n",
              "      <th>Embarked</th>\n",
              "    </tr>\n",
              "  </thead>\n",
              "  <tbody>\n",
              "    <tr>\n",
              "      <th>0</th>\n",
              "      <td>1</td>\n",
              "      <td>0</td>\n",
              "      <td>3</td>\n",
              "      <td>Braund, Mr. Owen Harris</td>\n",
              "      <td>male</td>\n",
              "      <td>22.0</td>\n",
              "      <td>1</td>\n",
              "      <td>0</td>\n",
              "      <td>A/5 21171</td>\n",
              "      <td>7.2500</td>\n",
              "      <td>NaN</td>\n",
              "      <td>S</td>\n",
              "    </tr>\n",
              "    <tr>\n",
              "      <th>1</th>\n",
              "      <td>2</td>\n",
              "      <td>1</td>\n",
              "      <td>1</td>\n",
              "      <td>Cumings, Mrs. John Bradley (Florence Briggs Th...</td>\n",
              "      <td>female</td>\n",
              "      <td>38.0</td>\n",
              "      <td>1</td>\n",
              "      <td>0</td>\n",
              "      <td>PC 17599</td>\n",
              "      <td>71.2833</td>\n",
              "      <td>C85</td>\n",
              "      <td>C</td>\n",
              "    </tr>\n",
              "    <tr>\n",
              "      <th>2</th>\n",
              "      <td>3</td>\n",
              "      <td>1</td>\n",
              "      <td>3</td>\n",
              "      <td>Heikkinen, Miss. Laina</td>\n",
              "      <td>female</td>\n",
              "      <td>26.0</td>\n",
              "      <td>0</td>\n",
              "      <td>0</td>\n",
              "      <td>STON/O2. 3101282</td>\n",
              "      <td>7.9250</td>\n",
              "      <td>NaN</td>\n",
              "      <td>S</td>\n",
              "    </tr>\n",
              "    <tr>\n",
              "      <th>3</th>\n",
              "      <td>4</td>\n",
              "      <td>1</td>\n",
              "      <td>1</td>\n",
              "      <td>Futrelle, Mrs. Jacques Heath (Lily May Peel)</td>\n",
              "      <td>female</td>\n",
              "      <td>35.0</td>\n",
              "      <td>1</td>\n",
              "      <td>0</td>\n",
              "      <td>113803</td>\n",
              "      <td>53.1000</td>\n",
              "      <td>C123</td>\n",
              "      <td>S</td>\n",
              "    </tr>\n",
              "    <tr>\n",
              "      <th>4</th>\n",
              "      <td>5</td>\n",
              "      <td>0</td>\n",
              "      <td>3</td>\n",
              "      <td>Allen, Mr. William Henry</td>\n",
              "      <td>male</td>\n",
              "      <td>35.0</td>\n",
              "      <td>0</td>\n",
              "      <td>0</td>\n",
              "      <td>373450</td>\n",
              "      <td>8.0500</td>\n",
              "      <td>NaN</td>\n",
              "      <td>S</td>\n",
              "    </tr>\n",
              "    <tr>\n",
              "      <th>...</th>\n",
              "      <td>...</td>\n",
              "      <td>...</td>\n",
              "      <td>...</td>\n",
              "      <td>...</td>\n",
              "      <td>...</td>\n",
              "      <td>...</td>\n",
              "      <td>...</td>\n",
              "      <td>...</td>\n",
              "      <td>...</td>\n",
              "      <td>...</td>\n",
              "      <td>...</td>\n",
              "      <td>...</td>\n",
              "    </tr>\n",
              "    <tr>\n",
              "      <th>886</th>\n",
              "      <td>887</td>\n",
              "      <td>0</td>\n",
              "      <td>2</td>\n",
              "      <td>Montvila, Rev. Juozas</td>\n",
              "      <td>male</td>\n",
              "      <td>27.0</td>\n",
              "      <td>0</td>\n",
              "      <td>0</td>\n",
              "      <td>211536</td>\n",
              "      <td>13.0000</td>\n",
              "      <td>NaN</td>\n",
              "      <td>S</td>\n",
              "    </tr>\n",
              "    <tr>\n",
              "      <th>887</th>\n",
              "      <td>888</td>\n",
              "      <td>1</td>\n",
              "      <td>1</td>\n",
              "      <td>Graham, Miss. Margaret Edith</td>\n",
              "      <td>female</td>\n",
              "      <td>19.0</td>\n",
              "      <td>0</td>\n",
              "      <td>0</td>\n",
              "      <td>112053</td>\n",
              "      <td>30.0000</td>\n",
              "      <td>B42</td>\n",
              "      <td>S</td>\n",
              "    </tr>\n",
              "    <tr>\n",
              "      <th>888</th>\n",
              "      <td>889</td>\n",
              "      <td>0</td>\n",
              "      <td>3</td>\n",
              "      <td>Johnston, Miss. Catherine Helen \"Carrie\"</td>\n",
              "      <td>female</td>\n",
              "      <td>NaN</td>\n",
              "      <td>1</td>\n",
              "      <td>2</td>\n",
              "      <td>W./C. 6607</td>\n",
              "      <td>23.4500</td>\n",
              "      <td>NaN</td>\n",
              "      <td>S</td>\n",
              "    </tr>\n",
              "    <tr>\n",
              "      <th>889</th>\n",
              "      <td>890</td>\n",
              "      <td>1</td>\n",
              "      <td>1</td>\n",
              "      <td>Behr, Mr. Karl Howell</td>\n",
              "      <td>male</td>\n",
              "      <td>26.0</td>\n",
              "      <td>0</td>\n",
              "      <td>0</td>\n",
              "      <td>111369</td>\n",
              "      <td>30.0000</td>\n",
              "      <td>C148</td>\n",
              "      <td>C</td>\n",
              "    </tr>\n",
              "    <tr>\n",
              "      <th>890</th>\n",
              "      <td>891</td>\n",
              "      <td>0</td>\n",
              "      <td>3</td>\n",
              "      <td>Dooley, Mr. Patrick</td>\n",
              "      <td>male</td>\n",
              "      <td>32.0</td>\n",
              "      <td>0</td>\n",
              "      <td>0</td>\n",
              "      <td>370376</td>\n",
              "      <td>7.7500</td>\n",
              "      <td>NaN</td>\n",
              "      <td>Q</td>\n",
              "    </tr>\n",
              "  </tbody>\n",
              "</table>\n",
              "<p>891 rows × 12 columns</p>\n",
              "</div>"
            ],
            "text/plain": [
              "     PassengerId  Survived  Pclass  ...     Fare Cabin  Embarked\n",
              "0              1         0       3  ...   7.2500   NaN         S\n",
              "1              2         1       1  ...  71.2833   C85         C\n",
              "2              3         1       3  ...   7.9250   NaN         S\n",
              "3              4         1       1  ...  53.1000  C123         S\n",
              "4              5         0       3  ...   8.0500   NaN         S\n",
              "..           ...       ...     ...  ...      ...   ...       ...\n",
              "886          887         0       2  ...  13.0000   NaN         S\n",
              "887          888         1       1  ...  30.0000   B42         S\n",
              "888          889         0       3  ...  23.4500   NaN         S\n",
              "889          890         1       1  ...  30.0000  C148         C\n",
              "890          891         0       3  ...   7.7500   NaN         Q\n",
              "\n",
              "[891 rows x 12 columns]"
            ]
          },
          "metadata": {
            "tags": []
          },
          "execution_count": 25
        }
      ]
    },
    {
      "cell_type": "markdown",
      "metadata": {
        "id": "X6aGEPDPyJ48"
      },
      "source": [
        "## <font color=mediumpurple>Cleaning the Dataset:</font> ##\n",
        "Do some process and answer to questions below:\n",
        "\n",
        "1. Which columns have missing values?\n",
        "#### <font color=mediumpurple>Answer:</font> ####\n",
        "Based on the below code, it can be seen that \"Age\", \"Cabin\", and \"Embarked\" include rows with missing values. \n"
      ]
    },
    {
      "cell_type": "code",
      "metadata": {
        "colab": {
          "base_uri": "https://localhost:8080/"
        },
        "id": "PNezx9w6pXUr",
        "outputId": "dab832b5-1d0b-4606-d4ba-e12469d4ac5c"
      },
      "source": [
        "missingDataHeader = [name for name in data.head() if (pd.isna(data[name])).any()]\n",
        "missingDataHeader"
      ],
      "execution_count": 26,
      "outputs": [
        {
          "output_type": "execute_result",
          "data": {
            "text/plain": [
              "['Age', 'Cabin', 'Embarked']"
            ]
          },
          "metadata": {
            "tags": []
          },
          "execution_count": 26
        }
      ]
    },
    {
      "cell_type": "markdown",
      "metadata": {
        "id": "WhNkJmZqrgjX"
      },
      "source": [
        "2. How do you fill the missing values, and why do you use this approach?\n",
        "#### <font color=mediumpurple>Answer:</font> ####\n",
        "As was discussed in the tutorial, there are two ways to deal with missing data. One way is to eliminate them from the dataset. However, this solution can be helpful when there are enough data, which is not the case for this train dataset. In order to show the stated point, Let us remove the missing rows:"
      ]
    },
    {
      "cell_type": "code",
      "metadata": {
        "colab": {
          "base_uri": "https://localhost:8080/"
        },
        "id": "TgubdCVOsbnj",
        "outputId": "346382b0-4d9f-4be5-8788-7c8770cf8f2b"
      },
      "source": [
        "print(\"Dataset's shape wihtout dropping the missing data is:\", data.shape, \"\\nAfter eliminating the missing data, dataset's shape is:\", data.dropna().shape)"
      ],
      "execution_count": 27,
      "outputs": [
        {
          "output_type": "stream",
          "text": [
            "Dataset's shape wihtout dropping the missing data is: (891, 12) \n",
            "After eliminating the missing data, dataset's shape is: (183, 12)\n"
          ],
          "name": "stdout"
        }
      ]
    },
    {
      "cell_type": "markdown",
      "metadata": {
        "id": "odIbE6RdtE32"
      },
      "source": [
        "As the above results suggest, most of training data are lost, which is not ideal for sure. Therefore, we need to employ the second approach. \n",
        "\n",
        "For the age case, the mean value of the before and after passengers are repleced by the missing data."
      ]
    },
    {
      "cell_type": "code",
      "metadata": {
        "colab": {
          "base_uri": "https://localhost:8080/",
          "height": 48
        },
        "id": "3aFhVUppwb8l",
        "outputId": "e164f834-29e2-4804-8820-3cbbe9554a20"
      },
      "source": [
        "data.loc[(data[\"Age\"].isna()), \"Age\"] = data[(~data[\"Age\"].isna())][\"Age\"].mean()\n",
        "data[data['Age'].isna()]"
      ],
      "execution_count": 28,
      "outputs": [
        {
          "output_type": "execute_result",
          "data": {
            "text/html": [
              "<div>\n",
              "<style scoped>\n",
              "    .dataframe tbody tr th:only-of-type {\n",
              "        vertical-align: middle;\n",
              "    }\n",
              "\n",
              "    .dataframe tbody tr th {\n",
              "        vertical-align: top;\n",
              "    }\n",
              "\n",
              "    .dataframe thead th {\n",
              "        text-align: right;\n",
              "    }\n",
              "</style>\n",
              "<table border=\"1\" class=\"dataframe\">\n",
              "  <thead>\n",
              "    <tr style=\"text-align: right;\">\n",
              "      <th></th>\n",
              "      <th>PassengerId</th>\n",
              "      <th>Survived</th>\n",
              "      <th>Pclass</th>\n",
              "      <th>Name</th>\n",
              "      <th>Sex</th>\n",
              "      <th>Age</th>\n",
              "      <th>SibSp</th>\n",
              "      <th>Parch</th>\n",
              "      <th>Ticket</th>\n",
              "      <th>Fare</th>\n",
              "      <th>Cabin</th>\n",
              "      <th>Embarked</th>\n",
              "    </tr>\n",
              "  </thead>\n",
              "  <tbody>\n",
              "  </tbody>\n",
              "</table>\n",
              "</div>"
            ],
            "text/plain": [
              "Empty DataFrame\n",
              "Columns: [PassengerId, Survived, Pclass, Name, Sex, Age, SibSp, Parch, Ticket, Fare, Cabin, Embarked]\n",
              "Index: []"
            ]
          },
          "metadata": {
            "tags": []
          },
          "execution_count": 28
        }
      ]
    },
    {
      "cell_type": "markdown",
      "metadata": {
        "id": "M8L05zFo1SiK"
      },
      "source": [
        "As the above code suggests, we were successful in eliminating the missing data in the \"Age\" column. However, there are two additional columns in need of preprocessing. Let us discuss \"Cabin\". "
      ]
    },
    {
      "cell_type": "code",
      "metadata": {
        "colab": {
          "base_uri": "https://localhost:8080/"
        },
        "id": "GSq-gTBa1pBu",
        "outputId": "2a5cfe53-b46a-4cab-d83a-c31ed265e968"
      },
      "source": [
        "len(data[data['Cabin'].isna()])"
      ],
      "execution_count": 29,
      "outputs": [
        {
          "output_type": "execute_result",
          "data": {
            "text/plain": [
              "687"
            ]
          },
          "metadata": {
            "tags": []
          },
          "execution_count": 29
        }
      ]
    },
    {
      "cell_type": "markdown",
      "metadata": {
        "id": "v4XVbLYL1t9L"
      },
      "source": [
        "As can be seen, among 891 rows, there are 687 rows that have no data in the \"Cabin\" column. In addition, since its data are unique strings, we can conclude that this feature is not a helpful one in the future usages for predicting which passsgers survive. Based on the given descriptions, it makes sense to remove this feature. "
      ]
    },
    {
      "cell_type": "code",
      "metadata": {
        "colab": {
          "base_uri": "https://localhost:8080/",
          "height": 407
        },
        "id": "xdWxRpp82UEn",
        "outputId": "f00b300e-9350-4c76-f934-a72c098df786"
      },
      "source": [
        "data.drop(columns=['Cabin'], inplace=True)\n",
        "data"
      ],
      "execution_count": 30,
      "outputs": [
        {
          "output_type": "execute_result",
          "data": {
            "text/html": [
              "<div>\n",
              "<style scoped>\n",
              "    .dataframe tbody tr th:only-of-type {\n",
              "        vertical-align: middle;\n",
              "    }\n",
              "\n",
              "    .dataframe tbody tr th {\n",
              "        vertical-align: top;\n",
              "    }\n",
              "\n",
              "    .dataframe thead th {\n",
              "        text-align: right;\n",
              "    }\n",
              "</style>\n",
              "<table border=\"1\" class=\"dataframe\">\n",
              "  <thead>\n",
              "    <tr style=\"text-align: right;\">\n",
              "      <th></th>\n",
              "      <th>PassengerId</th>\n",
              "      <th>Survived</th>\n",
              "      <th>Pclass</th>\n",
              "      <th>Name</th>\n",
              "      <th>Sex</th>\n",
              "      <th>Age</th>\n",
              "      <th>SibSp</th>\n",
              "      <th>Parch</th>\n",
              "      <th>Ticket</th>\n",
              "      <th>Fare</th>\n",
              "      <th>Embarked</th>\n",
              "    </tr>\n",
              "  </thead>\n",
              "  <tbody>\n",
              "    <tr>\n",
              "      <th>0</th>\n",
              "      <td>1</td>\n",
              "      <td>0</td>\n",
              "      <td>3</td>\n",
              "      <td>Braund, Mr. Owen Harris</td>\n",
              "      <td>male</td>\n",
              "      <td>22.000000</td>\n",
              "      <td>1</td>\n",
              "      <td>0</td>\n",
              "      <td>A/5 21171</td>\n",
              "      <td>7.2500</td>\n",
              "      <td>S</td>\n",
              "    </tr>\n",
              "    <tr>\n",
              "      <th>1</th>\n",
              "      <td>2</td>\n",
              "      <td>1</td>\n",
              "      <td>1</td>\n",
              "      <td>Cumings, Mrs. John Bradley (Florence Briggs Th...</td>\n",
              "      <td>female</td>\n",
              "      <td>38.000000</td>\n",
              "      <td>1</td>\n",
              "      <td>0</td>\n",
              "      <td>PC 17599</td>\n",
              "      <td>71.2833</td>\n",
              "      <td>C</td>\n",
              "    </tr>\n",
              "    <tr>\n",
              "      <th>2</th>\n",
              "      <td>3</td>\n",
              "      <td>1</td>\n",
              "      <td>3</td>\n",
              "      <td>Heikkinen, Miss. Laina</td>\n",
              "      <td>female</td>\n",
              "      <td>26.000000</td>\n",
              "      <td>0</td>\n",
              "      <td>0</td>\n",
              "      <td>STON/O2. 3101282</td>\n",
              "      <td>7.9250</td>\n",
              "      <td>S</td>\n",
              "    </tr>\n",
              "    <tr>\n",
              "      <th>3</th>\n",
              "      <td>4</td>\n",
              "      <td>1</td>\n",
              "      <td>1</td>\n",
              "      <td>Futrelle, Mrs. Jacques Heath (Lily May Peel)</td>\n",
              "      <td>female</td>\n",
              "      <td>35.000000</td>\n",
              "      <td>1</td>\n",
              "      <td>0</td>\n",
              "      <td>113803</td>\n",
              "      <td>53.1000</td>\n",
              "      <td>S</td>\n",
              "    </tr>\n",
              "    <tr>\n",
              "      <th>4</th>\n",
              "      <td>5</td>\n",
              "      <td>0</td>\n",
              "      <td>3</td>\n",
              "      <td>Allen, Mr. William Henry</td>\n",
              "      <td>male</td>\n",
              "      <td>35.000000</td>\n",
              "      <td>0</td>\n",
              "      <td>0</td>\n",
              "      <td>373450</td>\n",
              "      <td>8.0500</td>\n",
              "      <td>S</td>\n",
              "    </tr>\n",
              "    <tr>\n",
              "      <th>...</th>\n",
              "      <td>...</td>\n",
              "      <td>...</td>\n",
              "      <td>...</td>\n",
              "      <td>...</td>\n",
              "      <td>...</td>\n",
              "      <td>...</td>\n",
              "      <td>...</td>\n",
              "      <td>...</td>\n",
              "      <td>...</td>\n",
              "      <td>...</td>\n",
              "      <td>...</td>\n",
              "    </tr>\n",
              "    <tr>\n",
              "      <th>886</th>\n",
              "      <td>887</td>\n",
              "      <td>0</td>\n",
              "      <td>2</td>\n",
              "      <td>Montvila, Rev. Juozas</td>\n",
              "      <td>male</td>\n",
              "      <td>27.000000</td>\n",
              "      <td>0</td>\n",
              "      <td>0</td>\n",
              "      <td>211536</td>\n",
              "      <td>13.0000</td>\n",
              "      <td>S</td>\n",
              "    </tr>\n",
              "    <tr>\n",
              "      <th>887</th>\n",
              "      <td>888</td>\n",
              "      <td>1</td>\n",
              "      <td>1</td>\n",
              "      <td>Graham, Miss. Margaret Edith</td>\n",
              "      <td>female</td>\n",
              "      <td>19.000000</td>\n",
              "      <td>0</td>\n",
              "      <td>0</td>\n",
              "      <td>112053</td>\n",
              "      <td>30.0000</td>\n",
              "      <td>S</td>\n",
              "    </tr>\n",
              "    <tr>\n",
              "      <th>888</th>\n",
              "      <td>889</td>\n",
              "      <td>0</td>\n",
              "      <td>3</td>\n",
              "      <td>Johnston, Miss. Catherine Helen \"Carrie\"</td>\n",
              "      <td>female</td>\n",
              "      <td>29.699118</td>\n",
              "      <td>1</td>\n",
              "      <td>2</td>\n",
              "      <td>W./C. 6607</td>\n",
              "      <td>23.4500</td>\n",
              "      <td>S</td>\n",
              "    </tr>\n",
              "    <tr>\n",
              "      <th>889</th>\n",
              "      <td>890</td>\n",
              "      <td>1</td>\n",
              "      <td>1</td>\n",
              "      <td>Behr, Mr. Karl Howell</td>\n",
              "      <td>male</td>\n",
              "      <td>26.000000</td>\n",
              "      <td>0</td>\n",
              "      <td>0</td>\n",
              "      <td>111369</td>\n",
              "      <td>30.0000</td>\n",
              "      <td>C</td>\n",
              "    </tr>\n",
              "    <tr>\n",
              "      <th>890</th>\n",
              "      <td>891</td>\n",
              "      <td>0</td>\n",
              "      <td>3</td>\n",
              "      <td>Dooley, Mr. Patrick</td>\n",
              "      <td>male</td>\n",
              "      <td>32.000000</td>\n",
              "      <td>0</td>\n",
              "      <td>0</td>\n",
              "      <td>370376</td>\n",
              "      <td>7.7500</td>\n",
              "      <td>Q</td>\n",
              "    </tr>\n",
              "  </tbody>\n",
              "</table>\n",
              "<p>891 rows × 11 columns</p>\n",
              "</div>"
            ],
            "text/plain": [
              "     PassengerId  Survived  Pclass  ...            Ticket     Fare  Embarked\n",
              "0              1         0       3  ...         A/5 21171   7.2500         S\n",
              "1              2         1       1  ...          PC 17599  71.2833         C\n",
              "2              3         1       3  ...  STON/O2. 3101282   7.9250         S\n",
              "3              4         1       1  ...            113803  53.1000         S\n",
              "4              5         0       3  ...            373450   8.0500         S\n",
              "..           ...       ...     ...  ...               ...      ...       ...\n",
              "886          887         0       2  ...            211536  13.0000         S\n",
              "887          888         1       1  ...            112053  30.0000         S\n",
              "888          889         0       3  ...        W./C. 6607  23.4500         S\n",
              "889          890         1       1  ...            111369  30.0000         C\n",
              "890          891         0       3  ...            370376   7.7500         Q\n",
              "\n",
              "[891 rows x 11 columns]"
            ]
          },
          "metadata": {
            "tags": []
          },
          "execution_count": 30
        }
      ]
    },
    {
      "cell_type": "markdown",
      "metadata": {
        "id": "XlIevVxI32TK"
      },
      "source": [
        "Now we need to fix the NaN data of Embarked. To do so, we need to gain insight of their number and index."
      ]
    },
    {
      "cell_type": "code",
      "metadata": {
        "colab": {
          "base_uri": "https://localhost:8080/",
          "height": 108
        },
        "id": "3uZQWr_n3-uu",
        "outputId": "b8fb9045-f5ff-4b3a-f325-a7dd34494857"
      },
      "source": [
        "data[data[\"Embarked\"].isna()]"
      ],
      "execution_count": 31,
      "outputs": [
        {
          "output_type": "execute_result",
          "data": {
            "text/html": [
              "<div>\n",
              "<style scoped>\n",
              "    .dataframe tbody tr th:only-of-type {\n",
              "        vertical-align: middle;\n",
              "    }\n",
              "\n",
              "    .dataframe tbody tr th {\n",
              "        vertical-align: top;\n",
              "    }\n",
              "\n",
              "    .dataframe thead th {\n",
              "        text-align: right;\n",
              "    }\n",
              "</style>\n",
              "<table border=\"1\" class=\"dataframe\">\n",
              "  <thead>\n",
              "    <tr style=\"text-align: right;\">\n",
              "      <th></th>\n",
              "      <th>PassengerId</th>\n",
              "      <th>Survived</th>\n",
              "      <th>Pclass</th>\n",
              "      <th>Name</th>\n",
              "      <th>Sex</th>\n",
              "      <th>Age</th>\n",
              "      <th>SibSp</th>\n",
              "      <th>Parch</th>\n",
              "      <th>Ticket</th>\n",
              "      <th>Fare</th>\n",
              "      <th>Embarked</th>\n",
              "    </tr>\n",
              "  </thead>\n",
              "  <tbody>\n",
              "    <tr>\n",
              "      <th>61</th>\n",
              "      <td>62</td>\n",
              "      <td>1</td>\n",
              "      <td>1</td>\n",
              "      <td>Icard, Miss. Amelie</td>\n",
              "      <td>female</td>\n",
              "      <td>38.0</td>\n",
              "      <td>0</td>\n",
              "      <td>0</td>\n",
              "      <td>113572</td>\n",
              "      <td>80.0</td>\n",
              "      <td>NaN</td>\n",
              "    </tr>\n",
              "    <tr>\n",
              "      <th>829</th>\n",
              "      <td>830</td>\n",
              "      <td>1</td>\n",
              "      <td>1</td>\n",
              "      <td>Stone, Mrs. George Nelson (Martha Evelyn)</td>\n",
              "      <td>female</td>\n",
              "      <td>62.0</td>\n",
              "      <td>0</td>\n",
              "      <td>0</td>\n",
              "      <td>113572</td>\n",
              "      <td>80.0</td>\n",
              "      <td>NaN</td>\n",
              "    </tr>\n",
              "  </tbody>\n",
              "</table>\n",
              "</div>"
            ],
            "text/plain": [
              "     PassengerId  Survived  Pclass  ...  Ticket  Fare  Embarked\n",
              "61            62         1       1  ...  113572  80.0       NaN\n",
              "829          830         1       1  ...  113572  80.0       NaN\n",
              "\n",
              "[2 rows x 11 columns]"
            ]
          },
          "metadata": {
            "tags": []
          },
          "execution_count": 31
        }
      ]
    },
    {
      "cell_type": "markdown",
      "metadata": {
        "id": "2g2TCpnw4HhV"
      },
      "source": [
        "So since there are only two rows, we can check to see what Embarked is made up of or we can remove these two rows. However, let us employ the first method."
      ]
    },
    {
      "cell_type": "code",
      "metadata": {
        "colab": {
          "base_uri": "https://localhost:8080/"
        },
        "id": "-NNCuWgG4d22",
        "outputId": "a6740fe8-dd0e-4983-f0a0-01242822f184"
      },
      "source": [
        "print(\"There are %d unique embarked ports passengers reach the ship.\" %(len(data[\"Embarked\"].unique())))"
      ],
      "execution_count": 32,
      "outputs": [
        {
          "output_type": "stream",
          "text": [
            "There are 4 unique embarked ports passengers reach the ship.\n"
          ],
          "name": "stdout"
        }
      ]
    },
    {
      "cell_type": "markdown",
      "metadata": {
        "id": "gwl5LQmX5BF3"
      },
      "source": [
        "This shows there are 3 different ports as well as the two rows containing loss data. Therefore, it is good ti see which ports are most likely and more popular among passengers."
      ]
    },
    {
      "cell_type": "code",
      "metadata": {
        "colab": {
          "base_uri": "https://localhost:8080/"
        },
        "id": "PBNgfAJE5Oxy",
        "outputId": "041f7a8d-892d-4fc3-df51-556d4641f8d2"
      },
      "source": [
        "print(\"There are %d passengers embarked from Southampton port\" %(data[data.Embarked == 'S'].shape[0]))\n",
        "print(\"There are %d passengers embarked from Cherbourg port\" %(data[data.Embarked == 'C'].shape[0]))\n",
        "print(\"There are %d passengers embarked from Queenstown port\" %(data[data.Embarked == 'Q'].shape[0]))"
      ],
      "execution_count": 33,
      "outputs": [
        {
          "output_type": "stream",
          "text": [
            "There are 644 passengers embarked from Southampton port\n",
            "There are 168 passengers embarked from Cherbourg port\n",
            "There are 77 passengers embarked from Queenstown port\n"
          ],
          "name": "stdout"
        }
      ]
    },
    {
      "cell_type": "markdown",
      "metadata": {
        "id": "IZGkJUYp8IHO"
      },
      "source": [
        "So based on the above stats, we can set the two missing data as \"S\"."
      ]
    },
    {
      "cell_type": "code",
      "metadata": {
        "colab": {
          "base_uri": "https://localhost:8080/",
          "height": 407
        },
        "id": "oaNV42xQ8RAm",
        "outputId": "3f7d4a21-34fd-401b-cc4a-5caf3538c14a"
      },
      "source": [
        "data.loc[data[\"Embarked\"].isna(), \"Embarked\"] = 'S'\n",
        "data"
      ],
      "execution_count": 34,
      "outputs": [
        {
          "output_type": "execute_result",
          "data": {
            "text/html": [
              "<div>\n",
              "<style scoped>\n",
              "    .dataframe tbody tr th:only-of-type {\n",
              "        vertical-align: middle;\n",
              "    }\n",
              "\n",
              "    .dataframe tbody tr th {\n",
              "        vertical-align: top;\n",
              "    }\n",
              "\n",
              "    .dataframe thead th {\n",
              "        text-align: right;\n",
              "    }\n",
              "</style>\n",
              "<table border=\"1\" class=\"dataframe\">\n",
              "  <thead>\n",
              "    <tr style=\"text-align: right;\">\n",
              "      <th></th>\n",
              "      <th>PassengerId</th>\n",
              "      <th>Survived</th>\n",
              "      <th>Pclass</th>\n",
              "      <th>Name</th>\n",
              "      <th>Sex</th>\n",
              "      <th>Age</th>\n",
              "      <th>SibSp</th>\n",
              "      <th>Parch</th>\n",
              "      <th>Ticket</th>\n",
              "      <th>Fare</th>\n",
              "      <th>Embarked</th>\n",
              "    </tr>\n",
              "  </thead>\n",
              "  <tbody>\n",
              "    <tr>\n",
              "      <th>0</th>\n",
              "      <td>1</td>\n",
              "      <td>0</td>\n",
              "      <td>3</td>\n",
              "      <td>Braund, Mr. Owen Harris</td>\n",
              "      <td>male</td>\n",
              "      <td>22.000000</td>\n",
              "      <td>1</td>\n",
              "      <td>0</td>\n",
              "      <td>A/5 21171</td>\n",
              "      <td>7.2500</td>\n",
              "      <td>S</td>\n",
              "    </tr>\n",
              "    <tr>\n",
              "      <th>1</th>\n",
              "      <td>2</td>\n",
              "      <td>1</td>\n",
              "      <td>1</td>\n",
              "      <td>Cumings, Mrs. John Bradley (Florence Briggs Th...</td>\n",
              "      <td>female</td>\n",
              "      <td>38.000000</td>\n",
              "      <td>1</td>\n",
              "      <td>0</td>\n",
              "      <td>PC 17599</td>\n",
              "      <td>71.2833</td>\n",
              "      <td>C</td>\n",
              "    </tr>\n",
              "    <tr>\n",
              "      <th>2</th>\n",
              "      <td>3</td>\n",
              "      <td>1</td>\n",
              "      <td>3</td>\n",
              "      <td>Heikkinen, Miss. Laina</td>\n",
              "      <td>female</td>\n",
              "      <td>26.000000</td>\n",
              "      <td>0</td>\n",
              "      <td>0</td>\n",
              "      <td>STON/O2. 3101282</td>\n",
              "      <td>7.9250</td>\n",
              "      <td>S</td>\n",
              "    </tr>\n",
              "    <tr>\n",
              "      <th>3</th>\n",
              "      <td>4</td>\n",
              "      <td>1</td>\n",
              "      <td>1</td>\n",
              "      <td>Futrelle, Mrs. Jacques Heath (Lily May Peel)</td>\n",
              "      <td>female</td>\n",
              "      <td>35.000000</td>\n",
              "      <td>1</td>\n",
              "      <td>0</td>\n",
              "      <td>113803</td>\n",
              "      <td>53.1000</td>\n",
              "      <td>S</td>\n",
              "    </tr>\n",
              "    <tr>\n",
              "      <th>4</th>\n",
              "      <td>5</td>\n",
              "      <td>0</td>\n",
              "      <td>3</td>\n",
              "      <td>Allen, Mr. William Henry</td>\n",
              "      <td>male</td>\n",
              "      <td>35.000000</td>\n",
              "      <td>0</td>\n",
              "      <td>0</td>\n",
              "      <td>373450</td>\n",
              "      <td>8.0500</td>\n",
              "      <td>S</td>\n",
              "    </tr>\n",
              "    <tr>\n",
              "      <th>...</th>\n",
              "      <td>...</td>\n",
              "      <td>...</td>\n",
              "      <td>...</td>\n",
              "      <td>...</td>\n",
              "      <td>...</td>\n",
              "      <td>...</td>\n",
              "      <td>...</td>\n",
              "      <td>...</td>\n",
              "      <td>...</td>\n",
              "      <td>...</td>\n",
              "      <td>...</td>\n",
              "    </tr>\n",
              "    <tr>\n",
              "      <th>886</th>\n",
              "      <td>887</td>\n",
              "      <td>0</td>\n",
              "      <td>2</td>\n",
              "      <td>Montvila, Rev. Juozas</td>\n",
              "      <td>male</td>\n",
              "      <td>27.000000</td>\n",
              "      <td>0</td>\n",
              "      <td>0</td>\n",
              "      <td>211536</td>\n",
              "      <td>13.0000</td>\n",
              "      <td>S</td>\n",
              "    </tr>\n",
              "    <tr>\n",
              "      <th>887</th>\n",
              "      <td>888</td>\n",
              "      <td>1</td>\n",
              "      <td>1</td>\n",
              "      <td>Graham, Miss. Margaret Edith</td>\n",
              "      <td>female</td>\n",
              "      <td>19.000000</td>\n",
              "      <td>0</td>\n",
              "      <td>0</td>\n",
              "      <td>112053</td>\n",
              "      <td>30.0000</td>\n",
              "      <td>S</td>\n",
              "    </tr>\n",
              "    <tr>\n",
              "      <th>888</th>\n",
              "      <td>889</td>\n",
              "      <td>0</td>\n",
              "      <td>3</td>\n",
              "      <td>Johnston, Miss. Catherine Helen \"Carrie\"</td>\n",
              "      <td>female</td>\n",
              "      <td>29.699118</td>\n",
              "      <td>1</td>\n",
              "      <td>2</td>\n",
              "      <td>W./C. 6607</td>\n",
              "      <td>23.4500</td>\n",
              "      <td>S</td>\n",
              "    </tr>\n",
              "    <tr>\n",
              "      <th>889</th>\n",
              "      <td>890</td>\n",
              "      <td>1</td>\n",
              "      <td>1</td>\n",
              "      <td>Behr, Mr. Karl Howell</td>\n",
              "      <td>male</td>\n",
              "      <td>26.000000</td>\n",
              "      <td>0</td>\n",
              "      <td>0</td>\n",
              "      <td>111369</td>\n",
              "      <td>30.0000</td>\n",
              "      <td>C</td>\n",
              "    </tr>\n",
              "    <tr>\n",
              "      <th>890</th>\n",
              "      <td>891</td>\n",
              "      <td>0</td>\n",
              "      <td>3</td>\n",
              "      <td>Dooley, Mr. Patrick</td>\n",
              "      <td>male</td>\n",
              "      <td>32.000000</td>\n",
              "      <td>0</td>\n",
              "      <td>0</td>\n",
              "      <td>370376</td>\n",
              "      <td>7.7500</td>\n",
              "      <td>Q</td>\n",
              "    </tr>\n",
              "  </tbody>\n",
              "</table>\n",
              "<p>891 rows × 11 columns</p>\n",
              "</div>"
            ],
            "text/plain": [
              "     PassengerId  Survived  Pclass  ...            Ticket     Fare  Embarked\n",
              "0              1         0       3  ...         A/5 21171   7.2500         S\n",
              "1              2         1       1  ...          PC 17599  71.2833         C\n",
              "2              3         1       3  ...  STON/O2. 3101282   7.9250         S\n",
              "3              4         1       1  ...            113803  53.1000         S\n",
              "4              5         0       3  ...            373450   8.0500         S\n",
              "..           ...       ...     ...  ...               ...      ...       ...\n",
              "886          887         0       2  ...            211536  13.0000         S\n",
              "887          888         1       1  ...            112053  30.0000         S\n",
              "888          889         0       3  ...        W./C. 6607  23.4500         S\n",
              "889          890         1       1  ...            111369  30.0000         C\n",
              "890          891         0       3  ...            370376   7.7500         Q\n",
              "\n",
              "[891 rows x 11 columns]"
            ]
          },
          "metadata": {
            "tags": []
          },
          "execution_count": 34
        }
      ]
    },
    {
      "cell_type": "markdown",
      "metadata": {
        "id": "Cj0vsmuF8w1L"
      },
      "source": [
        "Now what we need to do, is to check whether there are any NaN values in the whole dataframe."
      ]
    },
    {
      "cell_type": "code",
      "metadata": {
        "colab": {
          "base_uri": "https://localhost:8080/"
        },
        "id": "gjQuodw184dv",
        "outputId": "70b4e78e-7512-4972-af9e-d4fe05049394"
      },
      "source": [
        "data.columns[data.isna().any()]"
      ],
      "execution_count": 35,
      "outputs": [
        {
          "output_type": "execute_result",
          "data": {
            "text/plain": [
              "Index([], dtype='object')"
            ]
          },
          "metadata": {
            "tags": []
          },
          "execution_count": 35
        }
      ]
    },
    {
      "cell_type": "markdown",
      "metadata": {
        "id": "-YhNJqm39GVT"
      },
      "source": [
        "So data is cleaned! "
      ]
    },
    {
      "cell_type": "markdown",
      "metadata": {
        "id": "Y4Cu2OWByJ49"
      },
      "source": [
        "## Exploratory Data Analysis\n",
        "\n",
        "Answer to these questions by plot relating figures:\n",
        "\n",
        "1. Compare the age distribution for survivors and the deceased. Do you see any interesting points?\n",
        "\n"
      ]
    },
    {
      "cell_type": "code",
      "metadata": {
        "colab": {
          "base_uri": "https://localhost:8080/",
          "height": 851
        },
        "id": "IBZGj9pt468U",
        "outputId": "9614cd4e-ccf1-4996-80d9-628455263422"
      },
      "source": [
        "plt.hist(data[data[\"Survived\"]==0][\"Age\"], bins=20, color='mediumpurple', label='Deceased Passengers')\n",
        "plt.hist(data[data[\"Survived\"]==1][\"Age\"], bins=20, color='slateblue', label='Survived Passengers')\n",
        "plt.xlabel(\"Age\")\n",
        "plt.ylabel(\"Number of Passengers\")\n",
        "plt.title(\"Age Distribution of Passengers\")\n",
        "plt.legend(loc=\"upper right\")\n",
        "plt.show()\n",
        "\n",
        "plt.hist(data[data[\"Survived\"]==0][\"Age\"], bins=20, color='mediumpurple', label='Deceased Passengers')\n",
        "plt.xlabel(\"Age\")\n",
        "plt.ylabel(\"Number of Passengers\")\n",
        "plt.title(\"Age Distribution of Deceased Passengers\")\n",
        "plt.show()\n",
        "\n",
        "plt.hist(data[data[\"Survived\"]==1][\"Age\"], bins=20, color='slateblue', label='Survived Passengers')\n",
        "plt.xlabel(\"Age\")\n",
        "plt.ylabel(\"Number of Passengers\")\n",
        "plt.title(\"Age Distribution of Survived Passengers\")\n",
        "plt.show()\n"
      ],
      "execution_count": 36,
      "outputs": [
        {
          "output_type": "display_data",
          "data": {
            "image/png": "[encoded data removed]",
            "text/plain": [
              "<Figure size 432x288 with 1 Axes>"
            ]
          },
          "metadata": {
            "tags": [],
            "needs_background": "light"
          }
        },
        {
          "output_type": "display_data",
          "data": {
            "image/png": "[encoded data removed]",
            "text/plain": [
              "<Figure size 432x288 with 1 Axes>"
            ]
          },
          "metadata": {
            "tags": [],
            "needs_background": "light"
          }
        },
        {
          "output_type": "display_data",
          "data": {
            "image/png": "[encoded data removed]",
            "text/plain": [
              "<Figure size 432x288 with 1 Axes>"
            ]
          },
          "metadata": {
            "tags": [],
            "needs_background": "light"
          }
        }
      ]
    },
    {
      "cell_type": "markdown",
      "metadata": {
        "id": "_J3UjXhUJVDK"
      },
      "source": [
        "As can be seen, most of the passengers are in their 20s, and mostly in their late 20s. Among all of them, as can be seen, about half survived. In addition, as we know, they tried to save children by the rescue boats. This fact is also clear in the last plot."
      ]
    },
    {
      "cell_type": "markdown",
      "metadata": {
        "id": "knnyJ8B9AJ5V"
      },
      "source": [
        "2. Compare the fare distribution for survivors and the deceased. Look at the features' description on Kaggle, is there any other feature that seems to be highly correlated to fare? Explain it."
      ]
    },
    {
      "cell_type": "code",
      "metadata": {
        "colab": {
          "base_uri": "https://localhost:8080/",
          "height": 851
        },
        "id": "KqhwrverAKd3",
        "outputId": "e57687c0-3264-4029-d0d5-fa2f1bc2a718"
      },
      "source": [
        "plt.hist(data[data[\"Survived\"]==0][\"Fare\"], bins=20, color='mediumpurple', label='Deceased Passengers')\n",
        "plt.hist(data[data[\"Survived\"]==1][\"Fare\"], bins=20, color='slateblue', label='Survived Passengers')\n",
        "plt.xlabel(\"Fare\")\n",
        "plt.ylabel(\"Number of Passengers\")\n",
        "plt.title(\"Fare Distribution of Passengers\")\n",
        "plt.legend(loc=\"upper right\")\n",
        "plt.show()\n",
        "\n",
        "plt.hist(data[data[\"Survived\"]==0][\"Fare\"], bins=20, color='mediumpurple', label='Deceased Passengers')\n",
        "plt.xlabel(\"Fare\")\n",
        "plt.ylabel(\"Number of Passengers\")\n",
        "plt.title(\"Fare Distribution of Deceased Passengers\")\n",
        "plt.show()\n",
        "\n",
        "plt.hist(data[data[\"Survived\"]==1][\"Fare\"], bins=20, color='slateblue', label='Survived Passengers')\n",
        "plt.xlabel(\"Fare\")\n",
        "plt.ylabel(\"Number of Passengers\")\n",
        "plt.title(\"Fare Distribution of Survived Passengers\")\n",
        "plt.show()"
      ],
      "execution_count": 37,
      "outputs": [
        {
          "output_type": "display_data",
          "data": {
            "image/png": "[encoded data removed]",
            "text/plain": [
              "<Figure size 432x288 with 1 Axes>"
            ]
          },
          "metadata": {
            "tags": [],
            "needs_background": "light"
          }
        },
        {
          "output_type": "display_data",
          "data": {
            "image/png": "[encoded data removed]",
            "text/plain": [
              "<Figure size 432x288 with 1 Axes>"
            ]
          },
          "metadata": {
            "tags": [],
            "needs_background": "light"
          }
        },
        {
          "output_type": "display_data",
          "data": {
            "image/png": "[encoded data removed]",
            "text/plain": [
              "<Figure size 432x288 with 1 Axes>"
            ]
          },
          "metadata": {
            "tags": [],
            "needs_background": "light"
          }
        }
      ]
    },
    {
      "cell_type": "markdown",
      "metadata": {
        "id": "XLPhkT9uHYzT"
      },
      "source": [
        "Based on the above plots, most of the passengers did not pay a large amount of fare. In addition, it can be seen that for the ones paying a large fare, almost everyone survived and none died. Also, it is prominent to note that among the ones that payed a small fare, almost half died in the Titanic accident.\n",
        "\n",
        "Among all the given features, it is crystal clear that the ticket class is highly correlated with the amount of fare a passenger payed in order to board this ship."
      ]
    },
    {
      "cell_type": "markdown",
      "metadata": {
        "id": "jelReLPjAgbw"
      },
      "source": [
        "3. Plot the survivors based on the embarked port. What do you see? Do you have any hypothesis? "
      ]
    },
    {
      "cell_type": "code",
      "metadata": {
        "colab": {
          "base_uri": "https://localhost:8080/",
          "height": 310
        },
        "id": "9VIdQQiTAlNi",
        "outputId": "2dcfe390-d035-470d-d308-29892744012e"
      },
      "source": [
        "pd.crosstab(data['Embarked'], data['Survived']).plot(kind='bar', color=['slateblue', 'mediumpurple'])\n",
        "plt.title('Number of Deceased and Survived Passengers \\n Based on Embarked Ports')\n",
        "plt.xticks(np.arange(3), ('Cherbourg', 'Queenstown', 'Southampton'), rotation=0)\n",
        "plt.xlabel('Embarked Ports')\n",
        "plt.ylabel(\"Number of Passengers\")\n",
        "plt.legend(loc=\"upper left\", labels=['Deceased Passengers', 'Survived Passengers'])\n",
        "plt.show()"
      ],
      "execution_count": 38,
      "outputs": [
        {
          "output_type": "display_data",
          "data": {
            "image/png": "[encoded data removed]",
            "text/plain": [
              "<Figure size 432x288 with 1 Axes>"
            ]
          },
          "metadata": {
            "tags": [],
            "needs_background": "light"
          }
        }
      ]
    },
    {
      "cell_type": "markdown",
      "metadata": {
        "id": "_YrrLhpMR4V6"
      },
      "source": [
        "Based on the above plot, most of the survivors embarked from Southampton port. A more detailed look suggests that the number of passengers embarking from Southampton port is more than the other two and so the number of survivors. However, the survival rate is larger in the other two ports as well. Keeping all these facts in mind, it is more likely that when our model predicts a passenger is among the survivors, he/she embarked from the Southampton port. "
      ]
    },
    {
      "cell_type": "markdown",
      "metadata": {
        "id": "YqtpUtHvEYZ-"
      },
      "source": [
        "4. Plot data based on traveling alone and with family (you may need to merge 2 columns of data somehow).\n"
      ]
    },
    {
      "cell_type": "code",
      "metadata": {
        "id": "t0lv3ErvEasS",
        "colab": {
          "base_uri": "https://localhost:8080/",
          "height": 669
        },
        "outputId": "807a1a9a-deba-42b4-d65c-799728155f51"
      },
      "source": [
        "data[\"TripStat\"] = data[\"SibSp\"].add(data[\"Parch\"], fill_value=0)\n",
        "data.loc[data[\"TripStat\"]>0, \"TripStat\"] = 1\n",
        "\n",
        "sns.countplot(x=\"TripStat\", data=data, palette = sns.cubehelix_palette(start=2.8, rot=.1))\n",
        "plt.xticks(np.arange(2), ('Alone', 'With Family'), rotation=0)\n",
        "plt.xlabel('Passenger Travelling Status')\n",
        "plt.ylabel(\"Number of Passengers\")\n",
        "plt.show()\n",
        "\n",
        "data.drop(columns=[\"TripStat\"], inplace=True)\n",
        "data"
      ],
      "execution_count": 39,
      "outputs": [
        {
          "output_type": "display_data",
          "data": {
            "image/png": "[encoded data removed]",
            "text/plain": [
              "<Figure size 432x288 with 1 Axes>"
            ]
          },
          "metadata": {
            "tags": [],
            "needs_background": "light"
          }
        },
        {
          "output_type": "execute_result",
          "data": {
            "text/html": [
              "<div>\n",
              "<style scoped>\n",
              "    .dataframe tbody tr th:only-of-type {\n",
              "        vertical-align: middle;\n",
              "    }\n",
              "\n",
              "    .dataframe tbody tr th {\n",
              "        vertical-align: top;\n",
              "    }\n",
              "\n",
              "    .dataframe thead th {\n",
              "        text-align: right;\n",
              "    }\n",
              "</style>\n",
              "<table border=\"1\" class=\"dataframe\">\n",
              "  <thead>\n",
              "    <tr style=\"text-align: right;\">\n",
              "      <th></th>\n",
              "      <th>PassengerId</th>\n",
              "      <th>Survived</th>\n",
              "      <th>Pclass</th>\n",
              "      <th>Name</th>\n",
              "      <th>Sex</th>\n",
              "      <th>Age</th>\n",
              "      <th>SibSp</th>\n",
              "      <th>Parch</th>\n",
              "      <th>Ticket</th>\n",
              "      <th>Fare</th>\n",
              "      <th>Embarked</th>\n",
              "    </tr>\n",
              "  </thead>\n",
              "  <tbody>\n",
              "    <tr>\n",
              "      <th>0</th>\n",
              "      <td>1</td>\n",
              "      <td>0</td>\n",
              "      <td>3</td>\n",
              "      <td>Braund, Mr. Owen Harris</td>\n",
              "      <td>male</td>\n",
              "      <td>22.000000</td>\n",
              "      <td>1</td>\n",
              "      <td>0</td>\n",
              "      <td>A/5 21171</td>\n",
              "      <td>7.2500</td>\n",
              "      <td>S</td>\n",
              "    </tr>\n",
              "    <tr>\n",
              "      <th>1</th>\n",
              "      <td>2</td>\n",
              "      <td>1</td>\n",
              "      <td>1</td>\n",
              "      <td>Cumings, Mrs. John Bradley (Florence Briggs Th...</td>\n",
              "      <td>female</td>\n",
              "      <td>38.000000</td>\n",
              "      <td>1</td>\n",
              "      <td>0</td>\n",
              "      <td>PC 17599</td>\n",
              "      <td>71.2833</td>\n",
              "      <td>C</td>\n",
              "    </tr>\n",
              "    <tr>\n",
              "      <th>2</th>\n",
              "      <td>3</td>\n",
              "      <td>1</td>\n",
              "      <td>3</td>\n",
              "      <td>Heikkinen, Miss. Laina</td>\n",
              "      <td>female</td>\n",
              "      <td>26.000000</td>\n",
              "      <td>0</td>\n",
              "      <td>0</td>\n",
              "      <td>STON/O2. 3101282</td>\n",
              "      <td>7.9250</td>\n",
              "      <td>S</td>\n",
              "    </tr>\n",
              "    <tr>\n",
              "      <th>3</th>\n",
              "      <td>4</td>\n",
              "      <td>1</td>\n",
              "      <td>1</td>\n",
              "      <td>Futrelle, Mrs. Jacques Heath (Lily May Peel)</td>\n",
              "      <td>female</td>\n",
              "      <td>35.000000</td>\n",
              "      <td>1</td>\n",
              "      <td>0</td>\n",
              "      <td>113803</td>\n",
              "      <td>53.1000</td>\n",
              "      <td>S</td>\n",
              "    </tr>\n",
              "    <tr>\n",
              "      <th>4</th>\n",
              "      <td>5</td>\n",
              "      <td>0</td>\n",
              "      <td>3</td>\n",
              "      <td>Allen, Mr. William Henry</td>\n",
              "      <td>male</td>\n",
              "      <td>35.000000</td>\n",
              "      <td>0</td>\n",
              "      <td>0</td>\n",
              "      <td>373450</td>\n",
              "      <td>8.0500</td>\n",
              "      <td>S</td>\n",
              "    </tr>\n",
              "    <tr>\n",
              "      <th>...</th>\n",
              "      <td>...</td>\n",
              "      <td>...</td>\n",
              "      <td>...</td>\n",
              "      <td>...</td>\n",
              "      <td>...</td>\n",
              "      <td>...</td>\n",
              "      <td>...</td>\n",
              "      <td>...</td>\n",
              "      <td>...</td>\n",
              "      <td>...</td>\n",
              "      <td>...</td>\n",
              "    </tr>\n",
              "    <tr>\n",
              "      <th>886</th>\n",
              "      <td>887</td>\n",
              "      <td>0</td>\n",
              "      <td>2</td>\n",
              "      <td>Montvila, Rev. Juozas</td>\n",
              "      <td>male</td>\n",
              "      <td>27.000000</td>\n",
              "      <td>0</td>\n",
              "      <td>0</td>\n",
              "      <td>211536</td>\n",
              "      <td>13.0000</td>\n",
              "      <td>S</td>\n",
              "    </tr>\n",
              "    <tr>\n",
              "      <th>887</th>\n",
              "      <td>888</td>\n",
              "      <td>1</td>\n",
              "      <td>1</td>\n",
              "      <td>Graham, Miss. Margaret Edith</td>\n",
              "      <td>female</td>\n",
              "      <td>19.000000</td>\n",
              "      <td>0</td>\n",
              "      <td>0</td>\n",
              "      <td>112053</td>\n",
              "      <td>30.0000</td>\n",
              "      <td>S</td>\n",
              "    </tr>\n",
              "    <tr>\n",
              "      <th>888</th>\n",
              "      <td>889</td>\n",
              "      <td>0</td>\n",
              "      <td>3</td>\n",
              "      <td>Johnston, Miss. Catherine Helen \"Carrie\"</td>\n",
              "      <td>female</td>\n",
              "      <td>29.699118</td>\n",
              "      <td>1</td>\n",
              "      <td>2</td>\n",
              "      <td>W./C. 6607</td>\n",
              "      <td>23.4500</td>\n",
              "      <td>S</td>\n",
              "    </tr>\n",
              "    <tr>\n",
              "      <th>889</th>\n",
              "      <td>890</td>\n",
              "      <td>1</td>\n",
              "      <td>1</td>\n",
              "      <td>Behr, Mr. Karl Howell</td>\n",
              "      <td>male</td>\n",
              "      <td>26.000000</td>\n",
              "      <td>0</td>\n",
              "      <td>0</td>\n",
              "      <td>111369</td>\n",
              "      <td>30.0000</td>\n",
              "      <td>C</td>\n",
              "    </tr>\n",
              "    <tr>\n",
              "      <th>890</th>\n",
              "      <td>891</td>\n",
              "      <td>0</td>\n",
              "      <td>3</td>\n",
              "      <td>Dooley, Mr. Patrick</td>\n",
              "      <td>male</td>\n",
              "      <td>32.000000</td>\n",
              "      <td>0</td>\n",
              "      <td>0</td>\n",
              "      <td>370376</td>\n",
              "      <td>7.7500</td>\n",
              "      <td>Q</td>\n",
              "    </tr>\n",
              "  </tbody>\n",
              "</table>\n",
              "<p>891 rows × 11 columns</p>\n",
              "</div>"
            ],
            "text/plain": [
              "     PassengerId  Survived  Pclass  ...            Ticket     Fare  Embarked\n",
              "0              1         0       3  ...         A/5 21171   7.2500         S\n",
              "1              2         1       1  ...          PC 17599  71.2833         C\n",
              "2              3         1       3  ...  STON/O2. 3101282   7.9250         S\n",
              "3              4         1       1  ...            113803  53.1000         S\n",
              "4              5         0       3  ...            373450   8.0500         S\n",
              "..           ...       ...     ...  ...               ...      ...       ...\n",
              "886          887         0       2  ...            211536  13.0000         S\n",
              "887          888         1       1  ...            112053  30.0000         S\n",
              "888          889         0       3  ...        W./C. 6607  23.4500         S\n",
              "889          890         1       1  ...            111369  30.0000         C\n",
              "890          891         0       3  ...            370376   7.7500         Q\n",
              "\n",
              "[891 rows x 11 columns]"
            ]
          },
          "metadata": {
            "tags": []
          },
          "execution_count": 39
        }
      ]
    },
    {
      "cell_type": "markdown",
      "metadata": {
        "id": "WqEBaZdGEYGL"
      },
      "source": [
        "5. Which gender was more likely to survive? Do you know why?"
      ]
    },
    {
      "cell_type": "code",
      "metadata": {
        "colab": {
          "base_uri": "https://localhost:8080/",
          "height": 335
        },
        "id": "5nGMOaltEc4j",
        "outputId": "28554170-a9aa-4086-abc7-e9e200af56b4"
      },
      "source": [
        "pd.crosstab(data['Sex'],data['Survived']).plot(kind='bar', color=['slateblue', 'mediumpurple'])\n",
        "plt.title(\"Number of Deceased and Survived Passengers \\n Based on Passengers' Sex\")\n",
        "plt.xlabel(\"Passengers' Sex\")\n",
        "plt.ylabel(\"Number of Passengers\")\n",
        "plt.legend(loc=\"upper left\", labels=['Deceased Passengers', 'Survived Passengers'])\n",
        "plt.show()"
      ],
      "execution_count": 40,
      "outputs": [
        {
          "output_type": "display_data",
          "data": {
            "image/png": "[encoded data removed]",
            "text/plain": [
              "<Figure size 432x288 with 1 Axes>"
            ]
          },
          "metadata": {
            "tags": [],
            "needs_background": "light"
          }
        }
      ]
    },
    {
      "cell_type": "markdown",
      "metadata": {
        "id": "0zmdSV3OwX2I"
      },
      "source": [
        "As can be seen, although the number of male passengers are more, the number of female survivors is greater. The reason behind this fact was that most life saving boats were filled with woman."
      ]
    },
    {
      "cell_type": "markdown",
      "metadata": {
        "id": "ChMcLfwR2l4m"
      },
      "source": [
        "In addition to the \"Cabin\" column, there are two other columns which can be eliminated as well. \"Name\" and \"Ticket\" are the two candids. The reason lying behind this logic is that, \"Name\" of each passenger is unique and the uniqueness of \"Tickets\" can be checked as well. "
      ]
    },
    {
      "cell_type": "code",
      "metadata": {
        "colab": {
          "base_uri": "https://localhost:8080/"
        },
        "id": "1aVk7TJN3Cnp",
        "outputId": "87a7d6cb-a982-4204-e0a8-200841ee0ce2"
      },
      "source": [
        "print(\"There are %d unique names in the ship.\" %(len(data[\"Name\"].unique())))\n",
        "print(\"There are %d unique ticket numbers in the ship.\" %(len(data[\"Ticket\"].unique())))"
      ],
      "execution_count": 41,
      "outputs": [
        {
          "output_type": "stream",
          "text": [
            "There are 891 unique names in the ship.\n",
            "There are 681 unique ticket numbers in the ship.\n"
          ],
          "name": "stdout"
        }
      ]
    },
    {
      "cell_type": "markdown",
      "metadata": {
        "id": "MeQ1VfyO3itM"
      },
      "source": [
        "Both of the above results suggest that in order to reduce the dimension of our training dataset an eliminate the ones which are not practical, the two mentioned features are among the best candidates. Therefore, we have:"
      ]
    },
    {
      "cell_type": "code",
      "metadata": {
        "colab": {
          "base_uri": "https://localhost:8080/",
          "height": 407
        },
        "id": "Jy0iwem631EJ",
        "outputId": "2da4e055-31d0-416f-b33f-1c25c32630cb"
      },
      "source": [
        "data.drop(columns=['Name', 'Ticket'], inplace=True)\n",
        "data"
      ],
      "execution_count": 42,
      "outputs": [
        {
          "output_type": "execute_result",
          "data": {
            "text/html": [
              "<div>\n",
              "<style scoped>\n",
              "    .dataframe tbody tr th:only-of-type {\n",
              "        vertical-align: middle;\n",
              "    }\n",
              "\n",
              "    .dataframe tbody tr th {\n",
              "        vertical-align: top;\n",
              "    }\n",
              "\n",
              "    .dataframe thead th {\n",
              "        text-align: right;\n",
              "    }\n",
              "</style>\n",
              "<table border=\"1\" class=\"dataframe\">\n",
              "  <thead>\n",
              "    <tr style=\"text-align: right;\">\n",
              "      <th></th>\n",
              "      <th>PassengerId</th>\n",
              "      <th>Survived</th>\n",
              "      <th>Pclass</th>\n",
              "      <th>Sex</th>\n",
              "      <th>Age</th>\n",
              "      <th>SibSp</th>\n",
              "      <th>Parch</th>\n",
              "      <th>Fare</th>\n",
              "      <th>Embarked</th>\n",
              "    </tr>\n",
              "  </thead>\n",
              "  <tbody>\n",
              "    <tr>\n",
              "      <th>0</th>\n",
              "      <td>1</td>\n",
              "      <td>0</td>\n",
              "      <td>3</td>\n",
              "      <td>male</td>\n",
              "      <td>22.000000</td>\n",
              "      <td>1</td>\n",
              "      <td>0</td>\n",
              "      <td>7.2500</td>\n",
              "      <td>S</td>\n",
              "    </tr>\n",
              "    <tr>\n",
              "      <th>1</th>\n",
              "      <td>2</td>\n",
              "      <td>1</td>\n",
              "      <td>1</td>\n",
              "      <td>female</td>\n",
              "      <td>38.000000</td>\n",
              "      <td>1</td>\n",
              "      <td>0</td>\n",
              "      <td>71.2833</td>\n",
              "      <td>C</td>\n",
              "    </tr>\n",
              "    <tr>\n",
              "      <th>2</th>\n",
              "      <td>3</td>\n",
              "      <td>1</td>\n",
              "      <td>3</td>\n",
              "      <td>female</td>\n",
              "      <td>26.000000</td>\n",
              "      <td>0</td>\n",
              "      <td>0</td>\n",
              "      <td>7.9250</td>\n",
              "      <td>S</td>\n",
              "    </tr>\n",
              "    <tr>\n",
              "      <th>3</th>\n",
              "      <td>4</td>\n",
              "      <td>1</td>\n",
              "      <td>1</td>\n",
              "      <td>female</td>\n",
              "      <td>35.000000</td>\n",
              "      <td>1</td>\n",
              "      <td>0</td>\n",
              "      <td>53.1000</td>\n",
              "      <td>S</td>\n",
              "    </tr>\n",
              "    <tr>\n",
              "      <th>4</th>\n",
              "      <td>5</td>\n",
              "      <td>0</td>\n",
              "      <td>3</td>\n",
              "      <td>male</td>\n",
              "      <td>35.000000</td>\n",
              "      <td>0</td>\n",
              "      <td>0</td>\n",
              "      <td>8.0500</td>\n",
              "      <td>S</td>\n",
              "    </tr>\n",
              "    <tr>\n",
              "      <th>...</th>\n",
              "      <td>...</td>\n",
              "      <td>...</td>\n",
              "      <td>...</td>\n",
              "      <td>...</td>\n",
              "      <td>...</td>\n",
              "      <td>...</td>\n",
              "      <td>...</td>\n",
              "      <td>...</td>\n",
              "      <td>...</td>\n",
              "    </tr>\n",
              "    <tr>\n",
              "      <th>886</th>\n",
              "      <td>887</td>\n",
              "      <td>0</td>\n",
              "      <td>2</td>\n",
              "      <td>male</td>\n",
              "      <td>27.000000</td>\n",
              "      <td>0</td>\n",
              "      <td>0</td>\n",
              "      <td>13.0000</td>\n",
              "      <td>S</td>\n",
              "    </tr>\n",
              "    <tr>\n",
              "      <th>887</th>\n",
              "      <td>888</td>\n",
              "      <td>1</td>\n",
              "      <td>1</td>\n",
              "      <td>female</td>\n",
              "      <td>19.000000</td>\n",
              "      <td>0</td>\n",
              "      <td>0</td>\n",
              "      <td>30.0000</td>\n",
              "      <td>S</td>\n",
              "    </tr>\n",
              "    <tr>\n",
              "      <th>888</th>\n",
              "      <td>889</td>\n",
              "      <td>0</td>\n",
              "      <td>3</td>\n",
              "      <td>female</td>\n",
              "      <td>29.699118</td>\n",
              "      <td>1</td>\n",
              "      <td>2</td>\n",
              "      <td>23.4500</td>\n",
              "      <td>S</td>\n",
              "    </tr>\n",
              "    <tr>\n",
              "      <th>889</th>\n",
              "      <td>890</td>\n",
              "      <td>1</td>\n",
              "      <td>1</td>\n",
              "      <td>male</td>\n",
              "      <td>26.000000</td>\n",
              "      <td>0</td>\n",
              "      <td>0</td>\n",
              "      <td>30.0000</td>\n",
              "      <td>C</td>\n",
              "    </tr>\n",
              "    <tr>\n",
              "      <th>890</th>\n",
              "      <td>891</td>\n",
              "      <td>0</td>\n",
              "      <td>3</td>\n",
              "      <td>male</td>\n",
              "      <td>32.000000</td>\n",
              "      <td>0</td>\n",
              "      <td>0</td>\n",
              "      <td>7.7500</td>\n",
              "      <td>Q</td>\n",
              "    </tr>\n",
              "  </tbody>\n",
              "</table>\n",
              "<p>891 rows × 9 columns</p>\n",
              "</div>"
            ],
            "text/plain": [
              "     PassengerId  Survived  Pclass     Sex  ...  SibSp  Parch     Fare  Embarked\n",
              "0              1         0       3    male  ...      1      0   7.2500         S\n",
              "1              2         1       1  female  ...      1      0  71.2833         C\n",
              "2              3         1       3  female  ...      0      0   7.9250         S\n",
              "3              4         1       1  female  ...      1      0  53.1000         S\n",
              "4              5         0       3    male  ...      0      0   8.0500         S\n",
              "..           ...       ...     ...     ...  ...    ...    ...      ...       ...\n",
              "886          887         0       2    male  ...      0      0  13.0000         S\n",
              "887          888         1       1  female  ...      0      0  30.0000         S\n",
              "888          889         0       3  female  ...      1      2  23.4500         S\n",
              "889          890         1       1    male  ...      0      0  30.0000         C\n",
              "890          891         0       3    male  ...      0      0   7.7500         Q\n",
              "\n",
              "[891 rows x 9 columns]"
            ]
          },
          "metadata": {
            "tags": []
          },
          "execution_count": 42
        }
      ]
    },
    {
      "cell_type": "markdown",
      "metadata": {
        "id": "Qgr1_s-4WSic"
      },
      "source": [
        "There are also two features which are strings. In order to change them into numerical type same as the other features, we employ some processing. First of all, for the \"Sex\" column. We know that there are two values for each row. Therefore, we can represent females as 1 and males as 0."
      ]
    },
    {
      "cell_type": "code",
      "metadata": {
        "colab": {
          "base_uri": "https://localhost:8080/",
          "height": 407
        },
        "id": "4u79jJ7DXBqR",
        "outputId": "dc9c1722-a17b-41a9-a038-1fdc968281e1"
      },
      "source": [
        "data.loc[data[\"Sex\"]=='female', \"Sex\"] = 1\n",
        "data.loc[data[\"Sex\"]=='male', \"Sex\"] = 0\n",
        "data"
      ],
      "execution_count": 43,
      "outputs": [
        {
          "output_type": "execute_result",
          "data": {
            "text/html": [
              "<div>\n",
              "<style scoped>\n",
              "    .dataframe tbody tr th:only-of-type {\n",
              "        vertical-align: middle;\n",
              "    }\n",
              "\n",
              "    .dataframe tbody tr th {\n",
              "        vertical-align: top;\n",
              "    }\n",
              "\n",
              "    .dataframe thead th {\n",
              "        text-align: right;\n",
              "    }\n",
              "</style>\n",
              "<table border=\"1\" class=\"dataframe\">\n",
              "  <thead>\n",
              "    <tr style=\"text-align: right;\">\n",
              "      <th></th>\n",
              "      <th>PassengerId</th>\n",
              "      <th>Survived</th>\n",
              "      <th>Pclass</th>\n",
              "      <th>Sex</th>\n",
              "      <th>Age</th>\n",
              "      <th>SibSp</th>\n",
              "      <th>Parch</th>\n",
              "      <th>Fare</th>\n",
              "      <th>Embarked</th>\n",
              "    </tr>\n",
              "  </thead>\n",
              "  <tbody>\n",
              "    <tr>\n",
              "      <th>0</th>\n",
              "      <td>1</td>\n",
              "      <td>0</td>\n",
              "      <td>3</td>\n",
              "      <td>0</td>\n",
              "      <td>22.000000</td>\n",
              "      <td>1</td>\n",
              "      <td>0</td>\n",
              "      <td>7.2500</td>\n",
              "      <td>S</td>\n",
              "    </tr>\n",
              "    <tr>\n",
              "      <th>1</th>\n",
              "      <td>2</td>\n",
              "      <td>1</td>\n",
              "      <td>1</td>\n",
              "      <td>1</td>\n",
              "      <td>38.000000</td>\n",
              "      <td>1</td>\n",
              "      <td>0</td>\n",
              "      <td>71.2833</td>\n",
              "      <td>C</td>\n",
              "    </tr>\n",
              "    <tr>\n",
              "      <th>2</th>\n",
              "      <td>3</td>\n",
              "      <td>1</td>\n",
              "      <td>3</td>\n",
              "      <td>1</td>\n",
              "      <td>26.000000</td>\n",
              "      <td>0</td>\n",
              "      <td>0</td>\n",
              "      <td>7.9250</td>\n",
              "      <td>S</td>\n",
              "    </tr>\n",
              "    <tr>\n",
              "      <th>3</th>\n",
              "      <td>4</td>\n",
              "      <td>1</td>\n",
              "      <td>1</td>\n",
              "      <td>1</td>\n",
              "      <td>35.000000</td>\n",
              "      <td>1</td>\n",
              "      <td>0</td>\n",
              "      <td>53.1000</td>\n",
              "      <td>S</td>\n",
              "    </tr>\n",
              "    <tr>\n",
              "      <th>4</th>\n",
              "      <td>5</td>\n",
              "      <td>0</td>\n",
              "      <td>3</td>\n",
              "      <td>0</td>\n",
              "      <td>35.000000</td>\n",
              "      <td>0</td>\n",
              "      <td>0</td>\n",
              "      <td>8.0500</td>\n",
              "      <td>S</td>\n",
              "    </tr>\n",
              "    <tr>\n",
              "      <th>...</th>\n",
              "      <td>...</td>\n",
              "      <td>...</td>\n",
              "      <td>...</td>\n",
              "      <td>...</td>\n",
              "      <td>...</td>\n",
              "      <td>...</td>\n",
              "      <td>...</td>\n",
              "      <td>...</td>\n",
              "      <td>...</td>\n",
              "    </tr>\n",
              "    <tr>\n",
              "      <th>886</th>\n",
              "      <td>887</td>\n",
              "      <td>0</td>\n",
              "      <td>2</td>\n",
              "      <td>0</td>\n",
              "      <td>27.000000</td>\n",
              "      <td>0</td>\n",
              "      <td>0</td>\n",
              "      <td>13.0000</td>\n",
              "      <td>S</td>\n",
              "    </tr>\n",
              "    <tr>\n",
              "      <th>887</th>\n",
              "      <td>888</td>\n",
              "      <td>1</td>\n",
              "      <td>1</td>\n",
              "      <td>1</td>\n",
              "      <td>19.000000</td>\n",
              "      <td>0</td>\n",
              "      <td>0</td>\n",
              "      <td>30.0000</td>\n",
              "      <td>S</td>\n",
              "    </tr>\n",
              "    <tr>\n",
              "      <th>888</th>\n",
              "      <td>889</td>\n",
              "      <td>0</td>\n",
              "      <td>3</td>\n",
              "      <td>1</td>\n",
              "      <td>29.699118</td>\n",
              "      <td>1</td>\n",
              "      <td>2</td>\n",
              "      <td>23.4500</td>\n",
              "      <td>S</td>\n",
              "    </tr>\n",
              "    <tr>\n",
              "      <th>889</th>\n",
              "      <td>890</td>\n",
              "      <td>1</td>\n",
              "      <td>1</td>\n",
              "      <td>0</td>\n",
              "      <td>26.000000</td>\n",
              "      <td>0</td>\n",
              "      <td>0</td>\n",
              "      <td>30.0000</td>\n",
              "      <td>C</td>\n",
              "    </tr>\n",
              "    <tr>\n",
              "      <th>890</th>\n",
              "      <td>891</td>\n",
              "      <td>0</td>\n",
              "      <td>3</td>\n",
              "      <td>0</td>\n",
              "      <td>32.000000</td>\n",
              "      <td>0</td>\n",
              "      <td>0</td>\n",
              "      <td>7.7500</td>\n",
              "      <td>Q</td>\n",
              "    </tr>\n",
              "  </tbody>\n",
              "</table>\n",
              "<p>891 rows × 9 columns</p>\n",
              "</div>"
            ],
            "text/plain": [
              "     PassengerId  Survived  Pclass Sex  ...  SibSp  Parch     Fare  Embarked\n",
              "0              1         0       3   0  ...      1      0   7.2500         S\n",
              "1              2         1       1   1  ...      1      0  71.2833         C\n",
              "2              3         1       3   1  ...      0      0   7.9250         S\n",
              "3              4         1       1   1  ...      1      0  53.1000         S\n",
              "4              5         0       3   0  ...      0      0   8.0500         S\n",
              "..           ...       ...     ...  ..  ...    ...    ...      ...       ...\n",
              "886          887         0       2   0  ...      0      0  13.0000         S\n",
              "887          888         1       1   1  ...      0      0  30.0000         S\n",
              "888          889         0       3   1  ...      1      2  23.4500         S\n",
              "889          890         1       1   0  ...      0      0  30.0000         C\n",
              "890          891         0       3   0  ...      0      0   7.7500         Q\n",
              "\n",
              "[891 rows x 9 columns]"
            ]
          },
          "metadata": {
            "tags": []
          },
          "execution_count": 43
        }
      ]
    },
    {
      "cell_type": "markdown",
      "metadata": {
        "id": "enqbhAuCxRd0"
      },
      "source": [
        "In addition, the Embarked column needs to be changed too. S can be casted as 0, C as 1 and Q as 2. "
      ]
    },
    {
      "cell_type": "code",
      "metadata": {
        "colab": {
          "base_uri": "https://localhost:8080/",
          "height": 407
        },
        "id": "jvSAvlYeyi5l",
        "outputId": "76762721-64cc-4687-d017-82454ca2e00c"
      },
      "source": [
        "data.loc[data[\"Embarked\"]=='S', \"Embarked\"] = 0\n",
        "data.loc[data[\"Embarked\"]=='C', \"Embarked\"] = 1\n",
        "data.loc[data[\"Embarked\"]=='Q', \"Embarked\"] = 2\n",
        "data"
      ],
      "execution_count": 44,
      "outputs": [
        {
          "output_type": "execute_result",
          "data": {
            "text/html": [
              "<div>\n",
              "<style scoped>\n",
              "    .dataframe tbody tr th:only-of-type {\n",
              "        vertical-align: middle;\n",
              "    }\n",
              "\n",
              "    .dataframe tbody tr th {\n",
              "        vertical-align: top;\n",
              "    }\n",
              "\n",
              "    .dataframe thead th {\n",
              "        text-align: right;\n",
              "    }\n",
              "</style>\n",
              "<table border=\"1\" class=\"dataframe\">\n",
              "  <thead>\n",
              "    <tr style=\"text-align: right;\">\n",
              "      <th></th>\n",
              "      <th>PassengerId</th>\n",
              "      <th>Survived</th>\n",
              "      <th>Pclass</th>\n",
              "      <th>Sex</th>\n",
              "      <th>Age</th>\n",
              "      <th>SibSp</th>\n",
              "      <th>Parch</th>\n",
              "      <th>Fare</th>\n",
              "      <th>Embarked</th>\n",
              "    </tr>\n",
              "  </thead>\n",
              "  <tbody>\n",
              "    <tr>\n",
              "      <th>0</th>\n",
              "      <td>1</td>\n",
              "      <td>0</td>\n",
              "      <td>3</td>\n",
              "      <td>0</td>\n",
              "      <td>22.000000</td>\n",
              "      <td>1</td>\n",
              "      <td>0</td>\n",
              "      <td>7.2500</td>\n",
              "      <td>0</td>\n",
              "    </tr>\n",
              "    <tr>\n",
              "      <th>1</th>\n",
              "      <td>2</td>\n",
              "      <td>1</td>\n",
              "      <td>1</td>\n",
              "      <td>1</td>\n",
              "      <td>38.000000</td>\n",
              "      <td>1</td>\n",
              "      <td>0</td>\n",
              "      <td>71.2833</td>\n",
              "      <td>1</td>\n",
              "    </tr>\n",
              "    <tr>\n",
              "      <th>2</th>\n",
              "      <td>3</td>\n",
              "      <td>1</td>\n",
              "      <td>3</td>\n",
              "      <td>1</td>\n",
              "      <td>26.000000</td>\n",
              "      <td>0</td>\n",
              "      <td>0</td>\n",
              "      <td>7.9250</td>\n",
              "      <td>0</td>\n",
              "    </tr>\n",
              "    <tr>\n",
              "      <th>3</th>\n",
              "      <td>4</td>\n",
              "      <td>1</td>\n",
              "      <td>1</td>\n",
              "      <td>1</td>\n",
              "      <td>35.000000</td>\n",
              "      <td>1</td>\n",
              "      <td>0</td>\n",
              "      <td>53.1000</td>\n",
              "      <td>0</td>\n",
              "    </tr>\n",
              "    <tr>\n",
              "      <th>4</th>\n",
              "      <td>5</td>\n",
              "      <td>0</td>\n",
              "      <td>3</td>\n",
              "      <td>0</td>\n",
              "      <td>35.000000</td>\n",
              "      <td>0</td>\n",
              "      <td>0</td>\n",
              "      <td>8.0500</td>\n",
              "      <td>0</td>\n",
              "    </tr>\n",
              "    <tr>\n",
              "      <th>...</th>\n",
              "      <td>...</td>\n",
              "      <td>...</td>\n",
              "      <td>...</td>\n",
              "      <td>...</td>\n",
              "      <td>...</td>\n",
              "      <td>...</td>\n",
              "      <td>...</td>\n",
              "      <td>...</td>\n",
              "      <td>...</td>\n",
              "    </tr>\n",
              "    <tr>\n",
              "      <th>886</th>\n",
              "      <td>887</td>\n",
              "      <td>0</td>\n",
              "      <td>2</td>\n",
              "      <td>0</td>\n",
              "      <td>27.000000</td>\n",
              "      <td>0</td>\n",
              "      <td>0</td>\n",
              "      <td>13.0000</td>\n",
              "      <td>0</td>\n",
              "    </tr>\n",
              "    <tr>\n",
              "      <th>887</th>\n",
              "      <td>888</td>\n",
              "      <td>1</td>\n",
              "      <td>1</td>\n",
              "      <td>1</td>\n",
              "      <td>19.000000</td>\n",
              "      <td>0</td>\n",
              "      <td>0</td>\n",
              "      <td>30.0000</td>\n",
              "      <td>0</td>\n",
              "    </tr>\n",
              "    <tr>\n",
              "      <th>888</th>\n",
              "      <td>889</td>\n",
              "      <td>0</td>\n",
              "      <td>3</td>\n",
              "      <td>1</td>\n",
              "      <td>29.699118</td>\n",
              "      <td>1</td>\n",
              "      <td>2</td>\n",
              "      <td>23.4500</td>\n",
              "      <td>0</td>\n",
              "    </tr>\n",
              "    <tr>\n",
              "      <th>889</th>\n",
              "      <td>890</td>\n",
              "      <td>1</td>\n",
              "      <td>1</td>\n",
              "      <td>0</td>\n",
              "      <td>26.000000</td>\n",
              "      <td>0</td>\n",
              "      <td>0</td>\n",
              "      <td>30.0000</td>\n",
              "      <td>1</td>\n",
              "    </tr>\n",
              "    <tr>\n",
              "      <th>890</th>\n",
              "      <td>891</td>\n",
              "      <td>0</td>\n",
              "      <td>3</td>\n",
              "      <td>0</td>\n",
              "      <td>32.000000</td>\n",
              "      <td>0</td>\n",
              "      <td>0</td>\n",
              "      <td>7.7500</td>\n",
              "      <td>2</td>\n",
              "    </tr>\n",
              "  </tbody>\n",
              "</table>\n",
              "<p>891 rows × 9 columns</p>\n",
              "</div>"
            ],
            "text/plain": [
              "     PassengerId  Survived  Pclass Sex  ...  SibSp  Parch     Fare  Embarked\n",
              "0              1         0       3   0  ...      1      0   7.2500         0\n",
              "1              2         1       1   1  ...      1      0  71.2833         1\n",
              "2              3         1       3   1  ...      0      0   7.9250         0\n",
              "3              4         1       1   1  ...      1      0  53.1000         0\n",
              "4              5         0       3   0  ...      0      0   8.0500         0\n",
              "..           ...       ...     ...  ..  ...    ...    ...      ...       ...\n",
              "886          887         0       2   0  ...      0      0  13.0000         0\n",
              "887          888         1       1   1  ...      0      0  30.0000         0\n",
              "888          889         0       3   1  ...      1      2  23.4500         0\n",
              "889          890         1       1   0  ...      0      0  30.0000         1\n",
              "890          891         0       3   0  ...      0      0   7.7500         2\n",
              "\n",
              "[891 rows x 9 columns]"
            ]
          },
          "metadata": {
            "tags": []
          },
          "execution_count": 44
        }
      ]
    },
    {
      "cell_type": "markdown",
      "metadata": {
        "id": "5UItmfCr2btH"
      },
      "source": [
        "Now we can use logisitic regression on this dataset. "
      ]
    },
    {
      "cell_type": "markdown",
      "metadata": {
        "id": "7avWGcRbyJ49"
      },
      "source": [
        "## Classification\n",
        "n this part, you should do a binary classification to predict if a passenger survives or not. report the requests listed below:\n",
        "1. Plot Confusion Matrix and ROC\n"
      ]
    },
    {
      "cell_type": "code",
      "metadata": {
        "id": "ltWBePMtyJ49",
        "colab": {
          "base_uri": "https://localhost:8080/",
          "height": 573
        },
        "outputId": "3d441908-31f9-4b3d-ff5d-2e28cee95dc5"
      },
      "source": [
        "#Splitting train and test datasets:\n",
        "trainData, testData, trainLabels, testLabels = trainTestSplitter(data.drop(columns=[\"PassengerId\", \"Survived\"]), \n",
        "                                                                 data[\"Survived\"], test_size=0.2, random_state=42)\n",
        "\n",
        "#Employing the classifier:\n",
        "myClf = LogisticRegression(max_iter=10000).fit(trainData, trainLabels) \n",
        "predLabels = myClf.predict(testData)\n",
        "\n",
        "#Confusion Matrix:\n",
        "myConfMat = confMatrix(testLabels, predLabels)\n",
        "disp = plotConfMatrix(myClf, testData, testLabels, display_labels=['Deceased Passengers', 'Survived Passengers'], cmap=plt.cm.Purples, values_format='1.0f')\n",
        "disp.ax_.set_title('Confusion Matrix')\n",
        "plt.show()\n",
        "\n",
        "#ROC:\n",
        "falseAlarm, hit, threshold = ROC(testLabels, predLabels)\n",
        "plt.plot(falseAlarm, hit, color='mediumpurple')\n",
        "plt.plot([0, 1], [0, 1], '--', color='thistle')\n",
        "plt.title(\"ROC\")\n",
        "plt.xlabel(\"False Alarm\")\n",
        "plt.ylabel(\"Hit\")\n",
        "plt.show()\n"
      ],
      "execution_count": 45,
      "outputs": [
        {
          "output_type": "display_data",
          "data": {
            "image/png": "[encoded data removed]",
            "text/plain": [
              "<Figure size 432x288 with 2 Axes>"
            ]
          },
          "metadata": {
            "tags": [],
            "needs_background": "light"
          }
        },
        {
          "output_type": "display_data",
          "data": {
            "image/png": "[encoded data removed]",
            "text/plain": [
              "<Figure size 432x288 with 1 Axes>"
            ]
          },
          "metadata": {
            "tags": [],
            "needs_background": "light"
          }
        }
      ]
    },
    {
      "cell_type": "markdown",
      "metadata": {
        "id": "mv9TMEjt2l1y"
      },
      "source": [
        "2. Report Accuracy, Sensitivity, Specificity, Precision, and Recall."
      ]
    },
    {
      "cell_type": "code",
      "metadata": {
        "colab": {
          "base_uri": "https://localhost:8080/"
        },
        "id": "9tSFwyTj2sZA",
        "outputId": "cb3b124c-2cad-4752-8be6-dceba23d5856"
      },
      "source": [
        "print(\"\\n Using sklearn's report we get: \\n\")\n",
        "print(metrics.classification_report(testLabels, predLabels,\n",
        "                                    target_names=['Deceased Passengers', 'Survived Passengers']))"
      ],
      "execution_count": 46,
      "outputs": [
        {
          "output_type": "stream",
          "text": [
            "\n",
            " Using sklearn's report we get: \n",
            "\n",
            "                     precision    recall  f1-score   support\n",
            "\n",
            "Deceased Passengers       0.82      0.85      0.83       105\n",
            "Survived Passengers       0.77      0.73      0.75        74\n",
            "\n",
            "           accuracy                           0.80       179\n",
            "          macro avg       0.79      0.79      0.79       179\n",
            "       weighted avg       0.80      0.80      0.80       179\n",
            "\n"
          ],
          "name": "stdout"
        }
      ]
    },
    {
      "cell_type": "code",
      "metadata": {
        "id": "lYqBDqIc-Kny"
      },
      "source": [
        ""
      ],
      "execution_count": null,
      "outputs": []
    },
    {
      "cell_type": "code",
      "metadata": {
        "id": "bM_2dKhhE9dd"
      },
      "source": [
        ""
      ],
      "execution_count": null,
      "outputs": []
    }
  ]
}