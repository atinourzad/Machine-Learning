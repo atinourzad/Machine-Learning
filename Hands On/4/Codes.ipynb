{
  "nbformat": 4,
  "nbformat_minor": 0,
  "metadata": {
    "kernelspec": {
      "display_name": "Python 3",
      "language": "python",
      "name": "python3"
    },
    "language_info": {
      "codemirror_mode": {
        "name": "ipython",
        "version": 3
      },
      "file_extension": ".py",
      "mimetype": "text/x-python",
      "name": "python",
      "nbconvert_exporter": "python",
      "pygments_lexer": "ipython3",
      "version": "3.7.3"
    },
    "colab": {
      "name": "Task.ipynb",
      "provenance": [],
      "collapsed_sections": [
        "1mmkPE6So4bL"
      ]
    }
  },
  "cells": [
    {
      "cell_type": "markdown",
      "metadata": {
        "id": "bnisRBpYo4bD"
      },
      "source": [
        "![alt text](1.png \"Title\")"
      ]
    },
    {
      "cell_type": "markdown",
      "metadata": {
        "id": "pnrDP_Q5zz1P"
      },
      "source": [
        "Importing Neccessary Libraries"
      ]
    },
    {
      "cell_type": "code",
      "metadata": {
        "id": "ir3G-rCSygkv"
      },
      "source": [
        "import numpy as np\n",
        "import pandas as pd\n",
        "\n",
        "import matplotlib.pyplot as plt\n",
        "\n",
        "from sklearn.covariance import EmpiricalCovariance\n",
        "from sklearn.mixture import BayesianGaussianMixture\n",
        "from sklearn.mixture import GaussianMixture\n",
        "from hmmlearn import hmm\n",
        "\n",
        "from scipy.stats import multivariate_normal\n",
        "\n",
        "from google.colab import drive\n"
      ],
      "execution_count": 4,
      "outputs": []
    },
    {
      "cell_type": "code",
      "metadata": {
        "colab": {
          "base_uri": "https://localhost:8080/"
        },
        "id": "DuDsY8uC_Ekb",
        "outputId": "161d11ac-9a59-433f-92c5-712c3f83f195"
      },
      "source": [
        "!pip install hmmlearn"
      ],
      "execution_count": 5,
      "outputs": [
        {
          "output_type": "stream",
          "text": [
            "Requirement already satisfied: hmmlearn in /usr/local/lib/python3.6/dist-packages (0.2.4)\n",
            "Requirement already satisfied: scikit-learn>=0.16 in /usr/local/lib/python3.6/dist-packages (from hmmlearn) (0.22.2.post1)\n",
            "Requirement already satisfied: numpy>=1.10 in /usr/local/lib/python3.6/dist-packages (from hmmlearn) (1.19.4)\n",
            "Requirement already satisfied: scipy>=0.19 in /usr/local/lib/python3.6/dist-packages (from hmmlearn) (1.4.1)\n",
            "Requirement already satisfied: joblib>=0.11 in /usr/local/lib/python3.6/dist-packages (from scikit-learn>=0.16->hmmlearn) (1.0.0)\n"
          ],
          "name": "stdout"
        }
      ]
    },
    {
      "cell_type": "code",
      "metadata": {
        "colab": {
          "base_uri": "https://localhost:8080/"
        },
        "id": "XJBlJa1NMdRW",
        "outputId": "9d90d67d-c133-43ca-f2dd-f5a090cc0db6"
      },
      "source": [
        "drive.mount('/content/gdrive')"
      ],
      "execution_count": 6,
      "outputs": [
        {
          "output_type": "stream",
          "text": [
            "Drive already mounted at /content/gdrive; to attempt to forcibly remount, call drive.mount(\"/content/gdrive\", force_remount=True).\n"
          ],
          "name": "stdout"
        }
      ]
    },
    {
      "cell_type": "code",
      "metadata": {
        "colab": {
          "base_uri": "https://localhost:8080/",
          "height": 425
        },
        "id": "SCEKPwB2o4bK",
        "outputId": "ba93e06a-ccda-4168-f693-1d7c4599b5ee"
      },
      "source": [
        "dataset = pd.read_csv('/content/gdrive/My Drive/Colab Notebooks/Hands On/4/star_dataset.csv')\n",
        "print('What dataset looks like:')\n",
        "dataset"
      ],
      "execution_count": 7,
      "outputs": [
        {
          "output_type": "stream",
          "text": [
            "What dataset looks like:\n"
          ],
          "name": "stdout"
        },
        {
          "output_type": "execute_result",
          "data": {
            "text/html": [
              "<div>\n",
              "<style scoped>\n",
              "    .dataframe tbody tr th:only-of-type {\n",
              "        vertical-align: middle;\n",
              "    }\n",
              "\n",
              "    .dataframe tbody tr th {\n",
              "        vertical-align: top;\n",
              "    }\n",
              "\n",
              "    .dataframe thead th {\n",
              "        text-align: right;\n",
              "    }\n",
              "</style>\n",
              "<table border=\"1\" class=\"dataframe\">\n",
              "  <thead>\n",
              "    <tr style=\"text-align: right;\">\n",
              "      <th></th>\n",
              "      <th>Temperature (K)</th>\n",
              "      <th>Luminosity(L/Lo)</th>\n",
              "      <th>Radius(R/Ro)</th>\n",
              "      <th>Absolute magnitude(Mv)</th>\n",
              "      <th>Star type</th>\n",
              "      <th>Star color</th>\n",
              "      <th>Spectral Class</th>\n",
              "    </tr>\n",
              "  </thead>\n",
              "  <tbody>\n",
              "    <tr>\n",
              "      <th>0</th>\n",
              "      <td>3068</td>\n",
              "      <td>0.002400</td>\n",
              "      <td>0.1700</td>\n",
              "      <td>16.12</td>\n",
              "      <td>0</td>\n",
              "      <td>Red</td>\n",
              "      <td>M</td>\n",
              "    </tr>\n",
              "    <tr>\n",
              "      <th>1</th>\n",
              "      <td>3042</td>\n",
              "      <td>0.000500</td>\n",
              "      <td>0.1542</td>\n",
              "      <td>16.60</td>\n",
              "      <td>0</td>\n",
              "      <td>Red</td>\n",
              "      <td>M</td>\n",
              "    </tr>\n",
              "    <tr>\n",
              "      <th>2</th>\n",
              "      <td>2600</td>\n",
              "      <td>0.000300</td>\n",
              "      <td>0.1020</td>\n",
              "      <td>18.70</td>\n",
              "      <td>0</td>\n",
              "      <td>Red</td>\n",
              "      <td>M</td>\n",
              "    </tr>\n",
              "    <tr>\n",
              "      <th>3</th>\n",
              "      <td>2800</td>\n",
              "      <td>0.000200</td>\n",
              "      <td>0.1600</td>\n",
              "      <td>16.65</td>\n",
              "      <td>0</td>\n",
              "      <td>Red</td>\n",
              "      <td>M</td>\n",
              "    </tr>\n",
              "    <tr>\n",
              "      <th>4</th>\n",
              "      <td>1939</td>\n",
              "      <td>0.000138</td>\n",
              "      <td>0.1030</td>\n",
              "      <td>20.06</td>\n",
              "      <td>0</td>\n",
              "      <td>Red</td>\n",
              "      <td>M</td>\n",
              "    </tr>\n",
              "    <tr>\n",
              "      <th>...</th>\n",
              "      <td>...</td>\n",
              "      <td>...</td>\n",
              "      <td>...</td>\n",
              "      <td>...</td>\n",
              "      <td>...</td>\n",
              "      <td>...</td>\n",
              "      <td>...</td>\n",
              "    </tr>\n",
              "    <tr>\n",
              "      <th>235</th>\n",
              "      <td>38940</td>\n",
              "      <td>374830.000000</td>\n",
              "      <td>1356.0000</td>\n",
              "      <td>-9.93</td>\n",
              "      <td>5</td>\n",
              "      <td>Blue</td>\n",
              "      <td>O</td>\n",
              "    </tr>\n",
              "    <tr>\n",
              "      <th>236</th>\n",
              "      <td>30839</td>\n",
              "      <td>834042.000000</td>\n",
              "      <td>1194.0000</td>\n",
              "      <td>-10.63</td>\n",
              "      <td>5</td>\n",
              "      <td>Blue</td>\n",
              "      <td>O</td>\n",
              "    </tr>\n",
              "    <tr>\n",
              "      <th>237</th>\n",
              "      <td>8829</td>\n",
              "      <td>537493.000000</td>\n",
              "      <td>1423.0000</td>\n",
              "      <td>-10.73</td>\n",
              "      <td>5</td>\n",
              "      <td>White</td>\n",
              "      <td>A</td>\n",
              "    </tr>\n",
              "    <tr>\n",
              "      <th>238</th>\n",
              "      <td>9235</td>\n",
              "      <td>404940.000000</td>\n",
              "      <td>1112.0000</td>\n",
              "      <td>-11.23</td>\n",
              "      <td>5</td>\n",
              "      <td>White</td>\n",
              "      <td>A</td>\n",
              "    </tr>\n",
              "    <tr>\n",
              "      <th>239</th>\n",
              "      <td>37882</td>\n",
              "      <td>294903.000000</td>\n",
              "      <td>1783.0000</td>\n",
              "      <td>-7.80</td>\n",
              "      <td>5</td>\n",
              "      <td>Blue</td>\n",
              "      <td>O</td>\n",
              "    </tr>\n",
              "  </tbody>\n",
              "</table>\n",
              "<p>240 rows × 7 columns</p>\n",
              "</div>"
            ],
            "text/plain": [
              "     Temperature (K)  Luminosity(L/Lo)  ...  Star color  Spectral Class\n",
              "0               3068          0.002400  ...         Red               M\n",
              "1               3042          0.000500  ...         Red               M\n",
              "2               2600          0.000300  ...         Red               M\n",
              "3               2800          0.000200  ...         Red               M\n",
              "4               1939          0.000138  ...         Red               M\n",
              "..               ...               ...  ...         ...             ...\n",
              "235            38940     374830.000000  ...        Blue               O\n",
              "236            30839     834042.000000  ...        Blue               O\n",
              "237             8829     537493.000000  ...       White               A\n",
              "238             9235     404940.000000  ...       White               A\n",
              "239            37882     294903.000000  ...        Blue               O\n",
              "\n",
              "[240 rows x 7 columns]"
            ]
          },
          "metadata": {
            "tags": []
          },
          "execution_count": 7
        }
      ]
    },
    {
      "cell_type": "markdown",
      "metadata": {
        "id": "1mmkPE6So4bL"
      },
      "source": [
        "### <font color=mediumpurple>1. Maximum Likelihood</font> ###\n",
        "\n",
        "__Report Mean and Covariance values for each class__"
      ]
    },
    {
      "cell_type": "markdown",
      "metadata": {
        "id": "Bz9EbgEztOQ-"
      },
      "source": [
        "#### <font color=slateblue>1.1 Class O</font> ####"
      ]
    },
    {
      "cell_type": "code",
      "metadata": {
        "id": "hLQOKVyIo4bM",
        "colab": {
          "base_uri": "https://localhost:8080/",
          "height": 198
        },
        "outputId": "bb056d42-3cfb-4590-d05d-0b6a3ac24c33"
      },
      "source": [
        "datasetO = dataset[dataset['Spectral Class'] == 'O']\n",
        "datasetO = datasetO[['Temperature (K)','Absolute magnitude(Mv)']]\n",
        "datasetO.head()"
      ],
      "execution_count": 8,
      "outputs": [
        {
          "output_type": "execute_result",
          "data": {
            "text/html": [
              "<div>\n",
              "<style scoped>\n",
              "    .dataframe tbody tr th:only-of-type {\n",
              "        vertical-align: middle;\n",
              "    }\n",
              "\n",
              "    .dataframe tbody tr th {\n",
              "        vertical-align: top;\n",
              "    }\n",
              "\n",
              "    .dataframe thead th {\n",
              "        text-align: right;\n",
              "    }\n",
              "</style>\n",
              "<table border=\"1\" class=\"dataframe\">\n",
              "  <thead>\n",
              "    <tr style=\"text-align: right;\">\n",
              "      <th></th>\n",
              "      <th>Temperature (K)</th>\n",
              "      <th>Absolute magnitude(Mv)</th>\n",
              "    </tr>\n",
              "  </thead>\n",
              "  <tbody>\n",
              "    <tr>\n",
              "      <th>30</th>\n",
              "      <td>39000</td>\n",
              "      <td>-4.70</td>\n",
              "    </tr>\n",
              "    <tr>\n",
              "      <th>99</th>\n",
              "      <td>36108</td>\n",
              "      <td>-4.40</td>\n",
              "    </tr>\n",
              "    <tr>\n",
              "      <th>101</th>\n",
              "      <td>40000</td>\n",
              "      <td>-6.23</td>\n",
              "    </tr>\n",
              "    <tr>\n",
              "      <th>102</th>\n",
              "      <td>23000</td>\n",
              "      <td>-5.76</td>\n",
              "    </tr>\n",
              "    <tr>\n",
              "      <th>103</th>\n",
              "      <td>17120</td>\n",
              "      <td>-6.89</td>\n",
              "    </tr>\n",
              "  </tbody>\n",
              "</table>\n",
              "</div>"
            ],
            "text/plain": [
              "     Temperature (K)  Absolute magnitude(Mv)\n",
              "30             39000                   -4.70\n",
              "99             36108                   -4.40\n",
              "101            40000                   -6.23\n",
              "102            23000                   -5.76\n",
              "103            17120                   -6.89"
            ]
          },
          "metadata": {
            "tags": []
          },
          "execution_count": 8
        }
      ]
    },
    {
      "cell_type": "code",
      "metadata": {
        "colab": {
          "base_uri": "https://localhost:8080/"
        },
        "id": "6bQaAv_7vBwd",
        "outputId": "5fdcf43c-5a46-4579-b11c-31f685be4b9f"
      },
      "source": [
        "covO = EmpiricalCovariance().fit(datasetO.to_numpy())\n",
        "print(\"CLASS O: \")\n",
        "print('\\u03BC = ', covO.location_, sep=\"\\n\")\n",
        "print('\\u03A3 = ', covO.covariance_, sep=\"\\n\")"
      ],
      "execution_count": 9,
      "outputs": [
        {
          "output_type": "stream",
          "text": [
            "CLASS O: \n",
            "μ = \n",
            "[ 2.2294075e+04 -6.5961750e+00]\n",
            "Σ = \n",
            "[[ 1.09342188e+08 -6.18115637e+02]\n",
            " [-6.18115637e+02  2.23654314e+00]]\n"
          ],
          "name": "stdout"
        }
      ]
    },
    {
      "cell_type": "markdown",
      "metadata": {
        "id": "Ai52AONgvY6F"
      },
      "source": [
        "#### <font color=slateblue>1.2 Class B</font> ####"
      ]
    },
    {
      "cell_type": "code",
      "metadata": {
        "colab": {
          "base_uri": "https://localhost:8080/",
          "height": 198
        },
        "id": "5kpZ59ojvfpz",
        "outputId": "2a1fc622-3d09-471d-d4d9-f0b1c34b794d"
      },
      "source": [
        "datasetB = dataset[dataset['Spectral Class'] == 'B']\n",
        "datasetB = datasetB[['Temperature (K)','Absolute magnitude(Mv)']]\n",
        "datasetB.head()"
      ],
      "execution_count": 10,
      "outputs": [
        {
          "output_type": "execute_result",
          "data": {
            "text/html": [
              "<div>\n",
              "<style scoped>\n",
              "    .dataframe tbody tr th:only-of-type {\n",
              "        vertical-align: middle;\n",
              "    }\n",
              "\n",
              "    .dataframe tbody tr th {\n",
              "        vertical-align: top;\n",
              "    }\n",
              "\n",
              "    .dataframe thead th {\n",
              "        text-align: right;\n",
              "    }\n",
              "</style>\n",
              "<table border=\"1\" class=\"dataframe\">\n",
              "  <thead>\n",
              "    <tr style=\"text-align: right;\">\n",
              "      <th></th>\n",
              "      <th>Temperature (K)</th>\n",
              "      <th>Absolute magnitude(Mv)</th>\n",
              "    </tr>\n",
              "  </thead>\n",
              "  <tbody>\n",
              "    <tr>\n",
              "      <th>20</th>\n",
              "      <td>25000</td>\n",
              "      <td>10.58</td>\n",
              "    </tr>\n",
              "    <tr>\n",
              "      <th>24</th>\n",
              "      <td>16500</td>\n",
              "      <td>11.89</td>\n",
              "    </tr>\n",
              "    <tr>\n",
              "      <th>31</th>\n",
              "      <td>30000</td>\n",
              "      <td>-4.20</td>\n",
              "    </tr>\n",
              "    <tr>\n",
              "      <th>32</th>\n",
              "      <td>15276</td>\n",
              "      <td>-1.97</td>\n",
              "    </tr>\n",
              "    <tr>\n",
              "      <th>33</th>\n",
              "      <td>9700</td>\n",
              "      <td>0.16</td>\n",
              "    </tr>\n",
              "  </tbody>\n",
              "</table>\n",
              "</div>"
            ],
            "text/plain": [
              "    Temperature (K)  Absolute magnitude(Mv)\n",
              "20            25000                   10.58\n",
              "24            16500                   11.89\n",
              "31            30000                   -4.20\n",
              "32            15276                   -1.97\n",
              "33             9700                    0.16"
            ]
          },
          "metadata": {
            "tags": []
          },
          "execution_count": 10
        }
      ]
    },
    {
      "cell_type": "code",
      "metadata": {
        "colab": {
          "base_uri": "https://localhost:8080/"
        },
        "id": "3dketcm2vb8F",
        "outputId": "5aa7e886-a389-4d5a-94f1-ad2bc52b759f"
      },
      "source": [
        "covB = EmpiricalCovariance().fit(datasetB.to_numpy())\n",
        "print(\"CLASS B: \")\n",
        "print('\\u03BC = ', covB.location_, sep=\"\\n\")\n",
        "print('\\u03A3 = ', covB.covariance_, sep=\"\\n\")"
      ],
      "execution_count": 11,
      "outputs": [
        {
          "output_type": "stream",
          "text": [
            "CLASS B: \n",
            "μ = \n",
            "[1.95744783e+04 3.72260870e+00]\n",
            "Σ = \n",
            "[[ 3.75467284e+07 -2.67843319e+04]\n",
            " [-2.67843319e+04  7.51544584e+01]]\n"
          ],
          "name": "stdout"
        }
      ]
    },
    {
      "cell_type": "markdown",
      "metadata": {
        "id": "AvqjyL-vo4bM"
      },
      "source": [
        "### <font color=mediumpurple>2. Bayesian Density Estimation</font> ###\n",
        "__1. Report Mean and Covariance values for each class__<br>"
      ]
    },
    {
      "cell_type": "markdown",
      "metadata": {
        "id": "Qhuo4Hp5tdfl"
      },
      "source": [
        "Selecting 2 Features:"
      ]
    },
    {
      "cell_type": "code",
      "metadata": {
        "colab": {
          "base_uri": "https://localhost:8080/",
          "height": 407
        },
        "id": "-8CI1ymQth9m",
        "outputId": "87260673-1001-4741-eab8-94d54637da17"
      },
      "source": [
        "dataset = dataset[(dataset['Spectral Class'] == 'B') | (dataset['Spectral Class'] == 'O')]\n",
        "dataset2Features = dataset[['Temperature (K)','Absolute magnitude(Mv)']]\n",
        "dataset2Features"
      ],
      "execution_count": 12,
      "outputs": [
        {
          "output_type": "execute_result",
          "data": {
            "text/html": [
              "<div>\n",
              "<style scoped>\n",
              "    .dataframe tbody tr th:only-of-type {\n",
              "        vertical-align: middle;\n",
              "    }\n",
              "\n",
              "    .dataframe tbody tr th {\n",
              "        vertical-align: top;\n",
              "    }\n",
              "\n",
              "    .dataframe thead th {\n",
              "        text-align: right;\n",
              "    }\n",
              "</style>\n",
              "<table border=\"1\" class=\"dataframe\">\n",
              "  <thead>\n",
              "    <tr style=\"text-align: right;\">\n",
              "      <th></th>\n",
              "      <th>Temperature (K)</th>\n",
              "      <th>Absolute magnitude(Mv)</th>\n",
              "    </tr>\n",
              "  </thead>\n",
              "  <tbody>\n",
              "    <tr>\n",
              "      <th>20</th>\n",
              "      <td>25000</td>\n",
              "      <td>10.58</td>\n",
              "    </tr>\n",
              "    <tr>\n",
              "      <th>24</th>\n",
              "      <td>16500</td>\n",
              "      <td>11.89</td>\n",
              "    </tr>\n",
              "    <tr>\n",
              "      <th>30</th>\n",
              "      <td>39000</td>\n",
              "      <td>-4.70</td>\n",
              "    </tr>\n",
              "    <tr>\n",
              "      <th>31</th>\n",
              "      <td>30000</td>\n",
              "      <td>-4.20</td>\n",
              "    </tr>\n",
              "    <tr>\n",
              "      <th>32</th>\n",
              "      <td>15276</td>\n",
              "      <td>-1.97</td>\n",
              "    </tr>\n",
              "    <tr>\n",
              "      <th>...</th>\n",
              "      <td>...</td>\n",
              "      <td>...</td>\n",
              "    </tr>\n",
              "    <tr>\n",
              "      <th>233</th>\n",
              "      <td>27739</td>\n",
              "      <td>-7.59</td>\n",
              "    </tr>\n",
              "    <tr>\n",
              "      <th>234</th>\n",
              "      <td>21904</td>\n",
              "      <td>-7.67</td>\n",
              "    </tr>\n",
              "    <tr>\n",
              "      <th>235</th>\n",
              "      <td>38940</td>\n",
              "      <td>-9.93</td>\n",
              "    </tr>\n",
              "    <tr>\n",
              "      <th>236</th>\n",
              "      <td>30839</td>\n",
              "      <td>-10.63</td>\n",
              "    </tr>\n",
              "    <tr>\n",
              "      <th>239</th>\n",
              "      <td>37882</td>\n",
              "      <td>-7.80</td>\n",
              "    </tr>\n",
              "  </tbody>\n",
              "</table>\n",
              "<p>86 rows × 2 columns</p>\n",
              "</div>"
            ],
            "text/plain": [
              "     Temperature (K)  Absolute magnitude(Mv)\n",
              "20             25000                   10.58\n",
              "24             16500                   11.89\n",
              "30             39000                   -4.70\n",
              "31             30000                   -4.20\n",
              "32             15276                   -1.97\n",
              "..               ...                     ...\n",
              "233            27739                   -7.59\n",
              "234            21904                   -7.67\n",
              "235            38940                   -9.93\n",
              "236            30839                  -10.63\n",
              "239            37882                   -7.80\n",
              "\n",
              "[86 rows x 2 columns]"
            ]
          },
          "metadata": {
            "tags": []
          },
          "execution_count": 12
        }
      ]
    },
    {
      "cell_type": "code",
      "metadata": {
        "id": "OZCzBiqvo4bM",
        "colab": {
          "base_uri": "https://localhost:8080/"
        },
        "outputId": "e693fa40-6bbc-493c-d920-0637d8ce20f7"
      },
      "source": [
        "BDE = BayesianGaussianMixture(n_components=2,covariance_type='full').fit(dataset2Features.to_numpy())\n",
        "print('\\u03BC = ', BDE.means_, sep=\"\\n\")\n",
        "print('\\u03A3 = ', BDE.covariances_, sep=\"\\n\")"
      ],
      "execution_count": 13,
      "outputs": [
        {
          "output_type": "stream",
          "text": [
            "μ = \n",
            "[[ 2.23633662e+04 -5.98818975e+00]\n",
            " [ 1.69991200e+04  1.12995213e+01]]\n",
            "Σ = \n",
            "[[[ 8.50458323e+07 -1.97807062e+03]\n",
            "  [-1.97807062e+03  5.75523056e+00]]\n",
            "\n",
            " [[ 1.72474771e+07 -4.40575423e+03]\n",
            "  [-4.40575423e+03  9.39781798e+00]]]\n"
          ],
          "name": "stdout"
        }
      ]
    },
    {
      "cell_type": "markdown",
      "metadata": {
        "id": "zwvydhg9o4bM"
      },
      "source": [
        "### <font color=mediumpurple>3. Expectation Maximization</font> ###\n",
        "__1. Report Mean and Covariance values for each class__<br>\n",
        "__2. Plot the Clusters__"
      ]
    },
    {
      "cell_type": "markdown",
      "metadata": {
        "id": "SnmP56Jsxk8J"
      },
      "source": [
        "#### <font color=slateblue>1.</font> ####"
      ]
    },
    {
      "cell_type": "code",
      "metadata": {
        "id": "tC_9Hvr0o4bN",
        "colab": {
          "base_uri": "https://localhost:8080/"
        },
        "outputId": "720a61a7-d430-43d8-b6cd-328d2e271581"
      },
      "source": [
        "GMM = GaussianMixture(n_components=2, covariance_type='full').fit(dataset2Features.to_numpy()) \n",
        "print('Converged:',GMM.converged_) \n",
        "\n",
        "if GMM.converged_:\n",
        "  print('\\u03BC = ', GMM.means_ , sep=\"\\n\")\n",
        "  print('\\u03A3 = ', GMM.covariances_, sep=\"\\n\")\n",
        "else:\n",
        "  print('Model not converged!')"
      ],
      "execution_count": 14,
      "outputs": [
        {
          "output_type": "stream",
          "text": [
            "Converged: True\n",
            "μ = \n",
            "[[ 1.68391667e+04  1.18154167e+01]\n",
            " [ 2.23878871e+04 -6.06737097e+00]]\n",
            "Σ = \n",
            "[[[ 1.49760780e+07 -1.80027465e+03]\n",
            "  [-1.80027465e+03  6.74842493e-01]]\n",
            "\n",
            " [[ 8.65636517e+07 -1.56714093e+03]\n",
            "  [-1.56714093e+03  4.44045265e+00]]]\n"
          ],
          "name": "stdout"
        }
      ]
    },
    {
      "cell_type": "markdown",
      "metadata": {
        "id": "IlxL3uMnyfje"
      },
      "source": [
        "#### <font color=slateblue>2.</font> ####"
      ]
    },
    {
      "cell_type": "code",
      "metadata": {
        "colab": {
          "base_uri": "https://localhost:8080/",
          "height": 374
        },
        "id": "QXUzU44dyhEE",
        "outputId": "9229a07c-3730-420f-f95b-e589b9ae3b7e"
      },
      "source": [
        "features = dataset2Features.to_numpy()\n",
        "x,y = np.meshgrid(np.sort(features[:,0]), np.sort(features[:,1]))\n",
        "XY = np.array([x.flatten(), y.flatten()]).T\n",
        "  \n",
        "fig = plt.figure(figsize=(10,6))\n",
        "ax0 = fig.add_subplot(111)\n",
        "ax0.scatter(features[:,0], features[:,1], color='thistle', marker='*', s=100)\n",
        "for m,c in zip(GMM.means_, GMM.covariances_):\n",
        "    multi_normal = multivariate_normal(mean=m,cov=c)\n",
        "    ax0.contour(np.sort(features[:,0]), np.sort(features[:,1]),multi_normal.pdf(XY).reshape(len(features), len(features)), colors='slateblue',alpha=0.5)\n",
        "    ax0.scatter(m[0],m[1], c='mediumpurple', zorder=10, s=100)\n",
        "    \n",
        "plt.show()\n"
      ],
      "execution_count": 15,
      "outputs": [
        {
          "output_type": "display_data",
          "data": {
            "image/png": "[encoded data removed]",
            "text/plain": [
              "<Figure size 720x432 with 1 Axes>"
            ]
          },
          "metadata": {
            "tags": [],
            "needs_background": "light"
          }
        }
      ]
    },
    {
      "cell_type": "markdown",
      "metadata": {
        "id": "SlkZWZqio4bN"
      },
      "source": [
        "### <font color=mediumpurple>4. Multinomial HMM</font><br> ###\n",
        "\n",
        "__1. Write the Transition Matrix and Emission Matrix__<br><br>\n",
        "__2. What is the probability of <font color=slateblue>Sunny, Rainy, Rainy, Rainy, Snowy, Snowy</font>? (No need to code!)__<br><br>\n",
        "__3. Suppose that a man wore <font color=slateblue>Coat, Coat, Umbrella, Umbrella, T-shirt, Umbrella, Coat</font>. What is the most likely weather condition in these 7 consecutive days?__"
      ]
    },
    {
      "cell_type": "markdown",
      "metadata": {
        "id": "c0HO6ID25Sw1"
      },
      "source": [
        "#### <font color=slateblue>1.</font> ####"
      ]
    },
    {
      "cell_type": "markdown",
      "metadata": {
        "id": "w1c2qcPr5Yye"
      },
      "source": [
        "Transition Matrix:\n",
        "\n",
        "|         |   Sunny   |  Rainy  | Snowy  |\n",
        "|---------|:-------- :|------:|------:|\n",
        "|  Sunny  |    0.8   |  0.15  | 0.05  |\n",
        "|   Rainy   |    0.38    |   0.6 |  0.02 |\n",
        "|   Snowy   |    0.75    |   0.05|  0.2 |\n",
        "\n",
        "Emission Matrix:\n",
        "\n",
        "|         |   T-Shirt   |  Coat  |   Unbrella   |\n",
        "|---------|:-------:|--------:|---------:|\n",
        "|  Sunny  |    0.6  |  0.3    |    0.1   |\n",
        "|   Rainy   |    0.05  |   0.3   |    0.65   |\n",
        "|   Snowy   |    0.0  |   0.5   |    0.5   |\n",
        "\n",
        "Initial Probability:\n",
        "\n",
        "##### P(Sunny) = 0.7\n",
        "##### P(Rainy)   = 0.25\n",
        "##### P(Rainy)   = 0.05"
      ]
    },
    {
      "cell_type": "markdown",
      "metadata": {
        "id": "hLkzig2o8f61"
      },
      "source": [
        "#### <font color=slateblue>2.</font> ####\n",
        "\n"
      ]
    },
    {
      "cell_type": "markdown",
      "metadata": {
        "id": "uY3dN1979W6r"
      },
      "source": [
        "P(Given Sequence) = P(Sunny) * P(Rainy|Sunny) * P(Rainy|Rainy) * P(Rainy|Rainy) * P(Snowy|Rainy) * P(Snowy|Snowy) \n",
        "\n",
        "  = 0.7 * 0.15 * 0.6 * 0.6 * 0.02 * 0.2 = 0.0001512 "
      ]
    },
    {
      "cell_type": "markdown",
      "metadata": {
        "id": "YZogtGqQ-53T"
      },
      "source": [
        "#### <font color=slateblue>3.</font> ####"
      ]
    },
    {
      "cell_type": "code",
      "metadata": {
        "id": "-rrcgUrlo4bN",
        "colab": {
          "base_uri": "https://localhost:8080/"
        },
        "outputId": "11c5fcc9-1581-4533-ceed-0d162cc69f44"
      },
      "source": [
        "states = ['Sunny', 'Rainy', 'Snowy']\n",
        "numStates = len(states)\n",
        "\n",
        "observations = ['T-shirt', 'Coat', 'Umbrella']\n",
        "numObservations = len(observations)\n",
        "\n",
        "model = hmm.MultinomialHMM(n_components = numStates, init_params= \"\", params= \"\")\n",
        "\n",
        "model.startprob_ = np.array([0.7, 0.25, 0.05])    \n",
        "\n",
        "model.transmat_ = np.array([\n",
        "        [0.8, 0.15, 0.05], \n",
        "        [0.38, 0.6, 0.02],\n",
        "        [0.75, 0.05, 0.2]])   \n",
        "    \n",
        "model.emissionprob_ = np.array([\n",
        "        [0.6, 0.3, 0.1],\n",
        "        [0.05, 0.3, 0.65],\n",
        "        [0.0, 0.5, 0.5]])\n",
        "\n",
        "sto = np.array([[1, 1, 2, 2, 0, 2, 1]]).T\n",
        "\n",
        "model = model.fit(sto)\n",
        "logprob, hs = model.decode(sto, algorithm=\"viterbi\")\n",
        "print(\"Observation:\", sto.T)\n",
        "print(\"States:\", hs)\n",
        "\n",
        "print(\"What the man was wearing or took with himself: \", \", \".join(map(lambda x: observations[int(x)], sto)))\n",
        "print(\"The predicted states are: \", \", \".join(map(lambda x: states[int(x)], hs)))"
      ],
      "execution_count": 16,
      "outputs": [
        {
          "output_type": "stream",
          "text": [
            "Observation: [[1 1 2 2 0 2 1]]\n",
            "States: [1 1 1 1 0 0 0]\n",
            "What the man was wearing or took with himself:  Coat, Coat, Umbrella, Umbrella, T-shirt, Umbrella, Coat\n",
            "The predicted states are:  Rainy, Rainy, Rainy, Rainy, Sunny, Sunny, Sunny\n"
          ],
          "name": "stdout"
        }
      ]
    }
  ]
}
